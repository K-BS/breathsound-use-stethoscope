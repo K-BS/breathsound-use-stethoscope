{
 "cells": [
  {
   "cell_type": "markdown",
   "id": "2f9ea37f",
   "metadata": {},
   "source": [
    "## Pilot Model Introduction"
   ]
  },
  {
   "cell_type": "markdown",
   "id": "ea0e38c3",
   "metadata": {},
   "source": [
    "의사가 청진기를 통해 환자의 호흡음을 평가하는 것은 질병의 진단, 치료에 있어 중요한 작업이다. 현재는 의사1명이 청진기를 통해 호흡음을 듣고 질병의 유무를 판단하지만 이는 정확성, 객관성, 일관성에 있어서 문제가 있을 수 있다. 그러므로 청진기를 통한 호흡음을 듣고 정상, 비정상의 호흡음을 분류할 수 있는 좋은 성능의 딥러닝 모델을 만드는 것이 최종적인 목표이다."
   ]
  },
  {
   "cell_type": "markdown",
   "id": "65472090",
   "metadata": {},
   "source": [
    "정상적인 호흡음과 비정상적인 호흡음은 특정한 패턴으로 분류한다. 먼저 정상적인 호흡음과  천명(Wheezing)이라고 불리는 패턴을 가지는 호흡음(비정상적인)을 분류하는(Binary Classification) 모델을 구축하고자 한다."
   ]
  },
  {
   "cell_type": "markdown",
   "id": "fcdb1ac3",
   "metadata": {},
   "source": [
    "병원 측에서 제공받은 데이터 중 우선적으로 Pilot Model에서 사용할 데이터는 아래와 같다."
   ]
  },
  {
   "cell_type": "markdown",
   "id": "85ff1f31",
   "metadata": {},
   "source": [
    "정상 호흡음을 정상 호흡음이라고 판단한 Audio Data(91개)\n",
    "\n",
    "Wheezing이라고 판단했지만 정상 호흡음 이었던 Audio Data(24개)\n",
    "\n",
    "정상 호흡음이지만 잡음이 많이 들어간 Audio Data(23개)\n",
    "#### --> 총 178개의 Audio Data = Healthy\n",
    "\n",
    "Wheezing을 Wheezing이라고 판단한 Audio Data(74개)\n",
    "\n",
    "Wheezing을 Wheezing이라고 판단했지만 Wheezing구간을 정확히 맞추지 못한 Audio Data(24개)\n",
    "#### --> 총 85개의 Audio Data = Wheezing\n",
    "\n",
    "현재는 데이터의 수가 굉장히 적기 때문에 쓸 수 있는 데이터는 모두 사용하기로 했다. Healthy와 Wheezing Data간 불균형이 보이므로 추후에는 SMOTE(Syntetic Minority Oversampling Technique)기법으로 불균형을 해소할 예정이다."
   ]
  },
  {
   "cell_type": "code",
   "execution_count": 1,
   "id": "1ebb028a",
   "metadata": {},
   "outputs": [],
   "source": [
    "import os\n",
    "import librosa\n",
    "import pickle\n",
    "import numpy as np\n",
    "import pandas as pd\n",
    "import matplotlib.pyplot as plt\n",
    "import seaborn as sns\n",
    "from tqdm import tqdm\n",
    "from python_speech_features import mfcc\n",
    "from sklearn.preprocessing import LabelEncoder, OneHotEncoder\n",
    "from sklearn.model_selection import train_test_split\n",
    "from sklearn.metrics import confusion_matrix\n",
    "from keras.layers import Conv2D, MaxPool2D, Flatten, Dense, Dropout\n",
    "from keras.models import Sequential"
   ]
  },
  {
   "cell_type": "markdown",
   "id": "55e1ab5b",
   "metadata": {},
   "source": [
    "### Data Collection"
   ]
  },
  {
   "cell_type": "markdown",
   "id": "6a9c7b53",
   "metadata": {},
   "source": [
    "위에서 언급한 것처럼 Binary Classification의 간단한 Task다. fname에 File Name, label에 호흡음 정상여부(Wheezing, healthy)가 기록되어 있다."
   ]
  },
  {
   "cell_type": "code",
   "execution_count": 2,
   "id": "74b3cf7e",
   "metadata": {},
   "outputs": [
    {
     "data": {
      "text/html": [
       "<div>\n",
       "<style scoped>\n",
       "    .dataframe tbody tr th:only-of-type {\n",
       "        vertical-align: middle;\n",
       "    }\n",
       "\n",
       "    .dataframe tbody tr th {\n",
       "        vertical-align: top;\n",
       "    }\n",
       "\n",
       "    .dataframe thead th {\n",
       "        text-align: right;\n",
       "    }\n",
       "</style>\n",
       "<table border=\"1\" class=\"dataframe\">\n",
       "  <thead>\n",
       "    <tr style=\"text-align: right;\">\n",
       "      <th></th>\n",
       "      <th>fname</th>\n",
       "      <th>label</th>\n",
       "    </tr>\n",
       "  </thead>\n",
       "  <tbody>\n",
       "    <tr>\n",
       "      <th>0</th>\n",
       "      <td>0001-1.wav</td>\n",
       "      <td>wheezing</td>\n",
       "    </tr>\n",
       "    <tr>\n",
       "      <th>1</th>\n",
       "      <td>0411-2.wav</td>\n",
       "      <td>wheezing</td>\n",
       "    </tr>\n",
       "    <tr>\n",
       "      <th>2</th>\n",
       "      <td>0538-4.wav</td>\n",
       "      <td>wheezing</td>\n",
       "    </tr>\n",
       "    <tr>\n",
       "      <th>3</th>\n",
       "      <td>0581-2.wav</td>\n",
       "      <td>wheezing</td>\n",
       "    </tr>\n",
       "    <tr>\n",
       "      <th>4</th>\n",
       "      <td>0597-4.wav</td>\n",
       "      <td>wheezing</td>\n",
       "    </tr>\n",
       "  </tbody>\n",
       "</table>\n",
       "</div>"
      ],
      "text/plain": [
       "        fname     label\n",
       "0  0001-1.wav  wheezing\n",
       "1  0411-2.wav  wheezing\n",
       "2  0538-4.wav  wheezing\n",
       "3  0581-2.wav  wheezing\n",
       "4  0597-4.wav  wheezing"
      ]
     },
     "execution_count": 2,
     "metadata": {},
     "output_type": "execute_result"
    }
   ],
   "source": [
    "df = pd.read_csv('data/data1.csv')\n",
    "df.head()"
   ]
  },
  {
   "cell_type": "code",
   "execution_count": 3,
   "id": "09942010",
   "metadata": {},
   "outputs": [],
   "source": [
    "df = df[df['label'].isin(['wheezing','healthy'])]"
   ]
  },
  {
   "cell_type": "markdown",
   "id": "e99e023e",
   "metadata": {},
   "source": [
    "Numpy array로 바꿔주자."
   ]
  },
  {
   "cell_type": "code",
   "execution_count": 4,
   "id": "8477e0bb",
   "metadata": {
    "scrolled": true
   },
   "outputs": [
    {
     "name": "stderr",
     "output_type": "stream",
     "text": [
      "100%|██████████| 263/263 [00:59<00:00,  4.42it/s]\n",
      "<ipython-input-4-bd871a4eab45>:5: VisibleDeprecationWarning: Creating an ndarray from ragged nested sequences (which is a list-or-tuple of lists-or-tuples-or ndarrays with different lengths or shapes) is deprecated. If you meant to do this, you must specify 'dtype=object' when creating the ndarray\n",
      "  audio_data = np.array(audio_data)\n"
     ]
    }
   ],
   "source": [
    "path = 'data/all_data/'\n",
    "audio_data = list()\n",
    "for i in tqdm(range(df.shape[0])):\n",
    "    audio_data.append(librosa.load(path+df['fname'].iloc[i]))\n",
    "audio_data = np.array(audio_data)"
   ]
  },
  {
   "cell_type": "markdown",
   "id": "60e7a8ff",
   "metadata": {},
   "source": [
    "확인해보자."
   ]
  },
  {
   "cell_type": "code",
   "execution_count": 5,
   "id": "1ac7a2ee",
   "metadata": {},
   "outputs": [
    {
     "data": {
      "text/html": [
       "<div>\n",
       "<style scoped>\n",
       "    .dataframe tbody tr th:only-of-type {\n",
       "        vertical-align: middle;\n",
       "    }\n",
       "\n",
       "    .dataframe tbody tr th {\n",
       "        vertical-align: top;\n",
       "    }\n",
       "\n",
       "    .dataframe thead th {\n",
       "        text-align: right;\n",
       "    }\n",
       "</style>\n",
       "<table border=\"1\" class=\"dataframe\">\n",
       "  <thead>\n",
       "    <tr style=\"text-align: right;\">\n",
       "      <th></th>\n",
       "      <th>fname</th>\n",
       "      <th>label</th>\n",
       "      <th>audio_waves</th>\n",
       "      <th>samplerate</th>\n",
       "    </tr>\n",
       "  </thead>\n",
       "  <tbody>\n",
       "    <tr>\n",
       "      <th>0</th>\n",
       "      <td>0001-1.wav</td>\n",
       "      <td>wheezing</td>\n",
       "      <td>[-1.960364e-06, -1.6989543e-06, 2.2033912e-06,...</td>\n",
       "      <td>22050</td>\n",
       "    </tr>\n",
       "    <tr>\n",
       "      <th>1</th>\n",
       "      <td>0411-2.wav</td>\n",
       "      <td>wheezing</td>\n",
       "      <td>[0.0079015065, 0.010698691, 0.0077624833, 0.00...</td>\n",
       "      <td>22050</td>\n",
       "    </tr>\n",
       "    <tr>\n",
       "      <th>2</th>\n",
       "      <td>0538-4.wav</td>\n",
       "      <td>wheezing</td>\n",
       "      <td>[0.017012855, 0.026953325, 0.025314119, 0.0284...</td>\n",
       "      <td>22050</td>\n",
       "    </tr>\n",
       "    <tr>\n",
       "      <th>3</th>\n",
       "      <td>0581-2.wav</td>\n",
       "      <td>wheezing</td>\n",
       "      <td>[0.020541016, 0.030520504, 0.02603743, 0.02776...</td>\n",
       "      <td>22050</td>\n",
       "    </tr>\n",
       "    <tr>\n",
       "      <th>4</th>\n",
       "      <td>0597-4.wav</td>\n",
       "      <td>wheezing</td>\n",
       "      <td>[-0.013913074, -0.0219503, -0.020427886, -0.02...</td>\n",
       "      <td>22050</td>\n",
       "    </tr>\n",
       "  </tbody>\n",
       "</table>\n",
       "</div>"
      ],
      "text/plain": [
       "        fname     label                                        audio_waves  \\\n",
       "0  0001-1.wav  wheezing  [-1.960364e-06, -1.6989543e-06, 2.2033912e-06,...   \n",
       "1  0411-2.wav  wheezing  [0.0079015065, 0.010698691, 0.0077624833, 0.00...   \n",
       "2  0538-4.wav  wheezing  [0.017012855, 0.026953325, 0.025314119, 0.0284...   \n",
       "3  0581-2.wav  wheezing  [0.020541016, 0.030520504, 0.02603743, 0.02776...   \n",
       "4  0597-4.wav  wheezing  [-0.013913074, -0.0219503, -0.020427886, -0.02...   \n",
       "\n",
       "  samplerate  \n",
       "0      22050  \n",
       "1      22050  \n",
       "2      22050  \n",
       "3      22050  \n",
       "4      22050  "
      ]
     },
     "execution_count": 5,
     "metadata": {},
     "output_type": "execute_result"
    }
   ],
   "source": [
    "df['audio_waves'] = audio_data[:,0]\n",
    "df['samplerate'] = audio_data[:,1]\n",
    "df.head()"
   ]
  },
  {
   "cell_type": "markdown",
   "id": "fe9763ef",
   "metadata": {},
   "source": [
    "bit_lengths와 second_lenghts를 생성한다.\n",
    "\n",
    "#### bit_lengths = The number of bits in each audio waves.\n",
    "\n",
    "#### second_lenths = The length of all audio files in seconds.(bit_lenths/samplerate)"
   ]
  },
  {
   "cell_type": "code",
   "execution_count": 6,
   "id": "5e145baa",
   "metadata": {},
   "outputs": [
    {
     "data": {
      "text/html": [
       "<div>\n",
       "<style scoped>\n",
       "    .dataframe tbody tr th:only-of-type {\n",
       "        vertical-align: middle;\n",
       "    }\n",
       "\n",
       "    .dataframe tbody tr th {\n",
       "        vertical-align: top;\n",
       "    }\n",
       "\n",
       "    .dataframe thead th {\n",
       "        text-align: right;\n",
       "    }\n",
       "</style>\n",
       "<table border=\"1\" class=\"dataframe\">\n",
       "  <thead>\n",
       "    <tr style=\"text-align: right;\">\n",
       "      <th></th>\n",
       "      <th>fname</th>\n",
       "      <th>label</th>\n",
       "      <th>audio_waves</th>\n",
       "      <th>samplerate</th>\n",
       "      <th>bit_lengths</th>\n",
       "      <th>second_lengths</th>\n",
       "    </tr>\n",
       "  </thead>\n",
       "  <tbody>\n",
       "    <tr>\n",
       "      <th>0</th>\n",
       "      <td>0001-1.wav</td>\n",
       "      <td>wheezing</td>\n",
       "      <td>[-1.960364e-06, -1.6989543e-06, 2.2033912e-06,...</td>\n",
       "      <td>22050</td>\n",
       "      <td>198648</td>\n",
       "      <td>9.00898</td>\n",
       "    </tr>\n",
       "    <tr>\n",
       "      <th>1</th>\n",
       "      <td>0411-2.wav</td>\n",
       "      <td>wheezing</td>\n",
       "      <td>[0.0079015065, 0.010698691, 0.0077624833, 0.00...</td>\n",
       "      <td>22050</td>\n",
       "      <td>158919</td>\n",
       "      <td>7.207211</td>\n",
       "    </tr>\n",
       "    <tr>\n",
       "      <th>2</th>\n",
       "      <td>0538-4.wav</td>\n",
       "      <td>wheezing</td>\n",
       "      <td>[0.017012855, 0.026953325, 0.025314119, 0.0284...</td>\n",
       "      <td>22050</td>\n",
       "      <td>129490</td>\n",
       "      <td>5.872562</td>\n",
       "    </tr>\n",
       "    <tr>\n",
       "      <th>3</th>\n",
       "      <td>0581-2.wav</td>\n",
       "      <td>wheezing</td>\n",
       "      <td>[0.020541016, 0.030520504, 0.02603743, 0.02776...</td>\n",
       "      <td>22050</td>\n",
       "      <td>164805</td>\n",
       "      <td>7.47415</td>\n",
       "    </tr>\n",
       "    <tr>\n",
       "      <th>4</th>\n",
       "      <td>0597-4.wav</td>\n",
       "      <td>wheezing</td>\n",
       "      <td>[-0.013913074, -0.0219503, -0.020427886, -0.02...</td>\n",
       "      <td>22050</td>\n",
       "      <td>444384</td>\n",
       "      <td>20.153469</td>\n",
       "    </tr>\n",
       "  </tbody>\n",
       "</table>\n",
       "</div>"
      ],
      "text/plain": [
       "        fname     label                                        audio_waves  \\\n",
       "0  0001-1.wav  wheezing  [-1.960364e-06, -1.6989543e-06, 2.2033912e-06,...   \n",
       "1  0411-2.wav  wheezing  [0.0079015065, 0.010698691, 0.0077624833, 0.00...   \n",
       "2  0538-4.wav  wheezing  [0.017012855, 0.026953325, 0.025314119, 0.0284...   \n",
       "3  0581-2.wav  wheezing  [0.020541016, 0.030520504, 0.02603743, 0.02776...   \n",
       "4  0597-4.wav  wheezing  [-0.013913074, -0.0219503, -0.020427886, -0.02...   \n",
       "\n",
       "  samplerate  bit_lengths second_lengths  \n",
       "0      22050       198648        9.00898  \n",
       "1      22050       158919       7.207211  \n",
       "2      22050       129490       5.872562  \n",
       "3      22050       164805        7.47415  \n",
       "4      22050       444384      20.153469  "
      ]
     },
     "execution_count": 6,
     "metadata": {},
     "output_type": "execute_result"
    }
   ],
   "source": [
    "bit_lengths = list()\n",
    "for i in range(df.shape[0]):\n",
    "    bit_lengths.append(len(df['audio_waves'].iloc[i]))\n",
    "bit_lengths = np.array(bit_lengths)\n",
    "df['bit_lengths'] = bit_lengths\n",
    "df['second_lengths'] = df['bit_lengths']/df['samplerate']\n",
    "df.head()"
   ]
  },
  {
   "cell_type": "markdown",
   "id": "fb92e743",
   "metadata": {},
   "source": [
    "### Data Generate"
   ]
  },
  {
   "cell_type": "markdown",
   "id": "02e5ac3e",
   "metadata": {},
   "source": [
    "2 seconds 보다 짝으면 drop."
   ]
  },
  {
   "cell_type": "code",
   "execution_count": 7,
   "id": "4e49f12d",
   "metadata": {},
   "outputs": [],
   "source": [
    "df = df[df['second_lengths'] >= 2.0]"
   ]
  },
  {
   "cell_type": "markdown",
   "id": "5c8e1856",
   "metadata": {},
   "source": [
    "min값을 출력해 체크해보자."
   ]
  },
  {
   "cell_type": "code",
   "execution_count": 8,
   "id": "fcaf909b",
   "metadata": {},
   "outputs": [
    {
     "name": "stdout",
     "output_type": "stream",
     "text": [
      "48113\n",
      "2.1819954648526076\n"
     ]
    }
   ],
   "source": [
    "min_bits = np.min(df['bit_lengths'])\n",
    "print(min_bits)\n",
    "min_seconds = np.min(df['second_lengths'])\n",
    "print(min_seconds)"
   ]
  },
  {
   "cell_type": "markdown",
   "id": "38c5f86b",
   "metadata": {},
   "source": [
    "데이터 프레임을 pickle로 저장하자."
   ]
  },
  {
   "cell_type": "code",
   "execution_count": 9,
   "id": "4dc8664e",
   "metadata": {},
   "outputs": [],
   "source": [
    "with open('audio_df.pickle', 'wb') as f:\n",
    "    pickle.dump(df, f)"
   ]
  },
  {
   "cell_type": "code",
   "execution_count": 10,
   "id": "cf9e45f2",
   "metadata": {},
   "outputs": [],
   "source": [
    "with open('audio_df.pickle', 'rb') as f:\n",
    "    df = pickle.load(f)"
   ]
  },
  {
   "cell_type": "markdown",
   "id": "b7b6e8d6",
   "metadata": {},
   "source": [
    "아래 그림처럼 Random Sampling을 통해 data generate"
   ]
  },
  {
   "cell_type": "markdown",
   "id": "7f779c8e",
   "metadata": {},
   "source": [
    "![1_SQr0VgPZF2pvzVVpYiH-PQ](https://user-images.githubusercontent.com/74411831/122634903-e4ed2100-d11b-11eb-9ede-ee6eb18fbae3.jpeg)"
   ]
  },
  {
   "cell_type": "code",
   "execution_count": 11,
   "id": "75805f0d",
   "metadata": {},
   "outputs": [
    {
     "name": "stderr",
     "output_type": "stream",
     "text": [
      "100%|██████████| 6000/6000 [00:05<00:00, 1022.73it/s]\n"
     ]
    }
   ],
   "source": [
    "num_samples = 6000\n",
    "generated_audio_waves = list()\n",
    "generated_audio_labels = list()\n",
    "for i in tqdm(range(num_samples)):\n",
    "    try:\n",
    "        chosen_file = np.random.choice(df['fname'].values)\n",
    "        chosen_initial = np.random.choice(np.arange(0,df[df['fname']==chosen_file]['bit_lengths'].values-min_bits))\n",
    "        generated_audio_waves.append(df[df['fname']==chosen_file]['audio_waves'].values[0][chosen_initial:chosen_initial+min_bits])\n",
    "        \n",
    "        generated_audio_labels.append(df[df['fname']==chosen_file]['label'].values)\n",
    "    except ValueError:\n",
    "        continue\n",
    "generated_audio_waves = np.array(generated_audio_waves)\n",
    "generated_audio_labels = np.array(generated_audio_labels)"
   ]
  },
  {
   "cell_type": "markdown",
   "id": "1dbaf966",
   "metadata": {},
   "source": [
    "MFCC로 Feature를 뽑는다."
   ]
  },
  {
   "cell_type": "code",
   "execution_count": 12,
   "id": "0ae55563",
   "metadata": {},
   "outputs": [
    {
     "name": "stderr",
     "output_type": "stream",
     "text": [
      "100%|██████████| 5974/5974 [00:40<00:00, 147.47it/s]\n"
     ]
    }
   ],
   "source": [
    "mfcc_features = list()\n",
    "for i in tqdm(range(len(generated_audio_waves))):\n",
    "    mfcc_features.append(mfcc(generated_audio_waves[i]))\n",
    "mfcc_features = np.array(mfcc_features)"
   ]
  },
  {
   "cell_type": "code",
   "execution_count": 13,
   "id": "09ef8808",
   "metadata": {},
   "outputs": [
    {
     "name": "stdout",
     "output_type": "stream",
     "text": [
      "(5974, 48113)\n",
      "(5974, 300, 13)\n"
     ]
    }
   ],
   "source": [
    "print(generated_audio_waves.shape)\n",
    "print(mfcc_features.shape)"
   ]
  },
  {
   "cell_type": "markdown",
   "id": "950a484e",
   "metadata": {},
   "source": [
    "Audio Data와 MFCC를 비교. 잘 뽑혔는지 확인하자."
   ]
  },
  {
   "cell_type": "code",
   "execution_count": 14,
   "id": "d006c53c",
   "metadata": {},
   "outputs": [
    {
     "data": {
      "image/png": "[encoded data removed]",
      "text/plain": [
       "<Figure size 864x144 with 1 Axes>"
      ]
     },
     "metadata": {
      "needs_background": "light"
     },
     "output_type": "display_data"
    },
    {
     "data": {
      "image/png": "[encoded data removed]",
      "text/plain": [
       "<Figure size 864x144 with 1 Axes>"
      ]
     },
     "metadata": {
      "needs_background": "light"
     },
     "output_type": "display_data"
    }
   ],
   "source": [
    "plt.figure(figsize=(12,2))\n",
    "plt.plot(generated_audio_waves[30])\n",
    "plt.title(generated_audio_labels[30])\n",
    "plt.show()\n",
    "plt.figure(figsize=(12, 2))\n",
    "plt.imshow(mfcc_features[30].T, cmap='hot')\n",
    "plt.title(generated_audio_labels[30])\n",
    "plt.show()"
   ]
  },
  {
   "cell_type": "markdown",
   "id": "e1acc406",
   "metadata": {},
   "source": [
    "### Pre-processing"
   ]
  },
  {
   "cell_type": "code",
   "execution_count": 15,
   "id": "507eec0d",
   "metadata": {},
   "outputs": [
    {
     "name": "stdout",
     "output_type": "stream",
     "text": [
      "[1 0 1 ... 0 1 0]\n"
     ]
    },
    {
     "name": "stderr",
     "output_type": "stream",
     "text": [
      "/home/nextgen/anaconda3/envs/kbs_coin/lib/python3.8/site-packages/sklearn/utils/validation.py:63: DataConversionWarning: A column-vector y was passed when a 1d array was expected. Please change the shape of y to (n_samples, ), for example using ravel().\n",
      "  return f(*args, **kwargs)\n"
     ]
    }
   ],
   "source": [
    "label_encoder = LabelEncoder()\n",
    "label_encoded = label_encoder.fit_transform(generated_audio_labels)\n",
    "print(label_encoded)"
   ]
  },
  {
   "cell_type": "code",
   "execution_count": 16,
   "id": "c4a221b4",
   "metadata": {},
   "outputs": [
    {
     "data": {
      "text/plain": [
       "array([[1],\n",
       "       [0],\n",
       "       [1],\n",
       "       ...,\n",
       "       [0],\n",
       "       [1],\n",
       "       [0]])"
      ]
     },
     "execution_count": 16,
     "metadata": {},
     "output_type": "execute_result"
    }
   ],
   "source": [
    "label_encoded = label_encoded[:, np.newaxis]\n",
    "label_encoded"
   ]
  },
  {
   "cell_type": "code",
   "execution_count": 17,
   "id": "aaefa9f0",
   "metadata": {},
   "outputs": [
    {
     "data": {
      "text/plain": [
       "array([[0., 1.],\n",
       "       [1., 0.],\n",
       "       [0., 1.],\n",
       "       ...,\n",
       "       [1., 0.],\n",
       "       [0., 1.],\n",
       "       [1., 0.]])"
      ]
     },
     "execution_count": 17,
     "metadata": {},
     "output_type": "execute_result"
    }
   ],
   "source": [
    "one_hot_encoder = OneHotEncoder(sparse=False)\n",
    "one_hot_encoded = one_hot_encoder.fit_transform(label_encoded)\n",
    "one_hot_encoded"
   ]
  },
  {
   "cell_type": "markdown",
   "id": "0c797a90",
   "metadata": {},
   "source": [
    "### Training(CNN Model)"
   ]
  },
  {
   "cell_type": "markdown",
   "id": "f37c9f58",
   "metadata": {},
   "source": [
    "MinMax Normalization 및 split"
   ]
  },
  {
   "cell_type": "code",
   "execution_count": 25,
   "id": "4f8c579e",
   "metadata": {},
   "outputs": [],
   "source": [
    "X = mfcc_features\n",
    "y = one_hot_encoded\n",
    "X = (X-X.min())/(X.max()-X.min())\n",
    "X_train, X_test, y_train, y_test = train_test_split(X, y, test_size=0.2)"
   ]
  },
  {
   "cell_type": "code",
   "execution_count": 26,
   "id": "e36f4ac0",
   "metadata": {},
   "outputs": [],
   "source": [
    "input_shape = (X_train.shape[1], X_train.shape[2], 1)"
   ]
  },
  {
   "cell_type": "markdown",
   "id": "5c5856cb",
   "metadata": {},
   "source": [
    "4777개의 training sample, 1195개의 test sample을 확인"
   ]
  },
  {
   "cell_type": "code",
   "execution_count": 27,
   "id": "e76067e0",
   "metadata": {},
   "outputs": [
    {
     "name": "stdout",
     "output_type": "stream",
     "text": [
      "(4779, 300, 13, 1)\n",
      "(1195, 300, 13, 1)\n"
     ]
    }
   ],
   "source": [
    "X_train = X_train.reshape(X_train.shape[0], X_train.shape[1], X_train.shape[2], 1)\n",
    "print(X_train.shape)\n",
    "X_test = X_test.reshape(X_test.shape[0], X_test.shape[1], X_test.shape[2], 1)\n",
    "print(X_test.shape)"
   ]
  },
  {
   "cell_type": "code",
   "execution_count": 21,
   "id": "3df9ea80",
   "metadata": {},
   "outputs": [],
   "source": [
    "model = Sequential()\n",
    "model.add(Conv2D(16, (3, 3), activation='relu', strides=(1, 1), \n",
    "    padding='same', input_shape=input_shape))\n",
    "model.add(Conv2D(32, (3, 3), activation='relu', strides=(1, 1), \n",
    "    padding='same'))\n",
    "model.add(MaxPool2D((2, 2)))\n",
    "model.add(Dropout(0.5))\n",
    "model.add(Flatten())\n",
    "model.add(Dense(128, activation='relu'))\n",
    "model.add(Dropout(0.5))\n",
    "model.add(Dense(64, activation='relu'))\n",
    "model.add(Dropout(0.5))\n",
    "model.add(Dense(2, activation='softmax'))\n",
    "\n",
    "model.compile(loss='binary_crossentropy', \n",
    "     optimizer='adam',\n",
    "     metrics=['acc'])"
   ]
  },
  {
   "cell_type": "code",
   "execution_count": 22,
   "id": "dff99134",
   "metadata": {},
   "outputs": [
    {
     "name": "stdout",
     "output_type": "stream",
     "text": [
      "Model: \"sequential\"\n",
      "_________________________________________________________________\n",
      "Layer (type)                 Output Shape              Param #   \n",
      "=================================================================\n",
      "conv2d (Conv2D)              (None, 300, 13, 16)       160       \n",
      "_________________________________________________________________\n",
      "conv2d_1 (Conv2D)            (None, 300, 13, 32)       4640      \n",
      "_________________________________________________________________\n",
      "max_pooling2d (MaxPooling2D) (None, 150, 6, 32)        0         \n",
      "_________________________________________________________________\n",
      "dropout (Dropout)            (None, 150, 6, 32)        0         \n",
      "_________________________________________________________________\n",
      "flatten (Flatten)            (None, 28800)             0         \n",
      "_________________________________________________________________\n",
      "dense (Dense)                (None, 128)               3686528   \n",
      "_________________________________________________________________\n",
      "dropout_1 (Dropout)          (None, 128)               0         \n",
      "_________________________________________________________________\n",
      "dense_1 (Dense)              (None, 64)                8256      \n",
      "_________________________________________________________________\n",
      "dropout_2 (Dropout)          (None, 64)                0         \n",
      "_________________________________________________________________\n",
      "dense_2 (Dense)              (None, 2)                 130       \n",
      "=================================================================\n",
      "Total params: 3,699,714\n",
      "Trainable params: 3,699,714\n",
      "Non-trainable params: 0\n",
      "_________________________________________________________________\n"
     ]
    }
   ],
   "source": [
    "model.summary()"
   ]
  },
  {
   "cell_type": "code",
   "execution_count": 23,
   "id": "c8ec489b",
   "metadata": {
    "scrolled": true
   },
   "outputs": [
    {
     "name": "stdout",
     "output_type": "stream",
     "text": [
      "Epoch 1/30\n",
      "150/150 [==============================] - 17s 48ms/step - loss: 0.5817 - acc: 0.6911 - val_loss: 0.3346 - val_acc: 0.9071\n",
      "Epoch 2/30\n",
      "150/150 [==============================] - 7s 47ms/step - loss: 0.3825 - acc: 0.8848 - val_loss: 0.2797 - val_acc: 0.9155\n",
      "Epoch 3/30\n",
      "150/150 [==============================] - 7s 47ms/step - loss: 0.3369 - acc: 0.8939 - val_loss: 0.2697 - val_acc: 0.9138\n",
      "Epoch 4/30\n",
      "150/150 [==============================] - 7s 47ms/step - loss: 0.2969 - acc: 0.9022 - val_loss: 0.2639 - val_acc: 0.9155\n",
      "Epoch 5/30\n",
      "150/150 [==============================] - 7s 47ms/step - loss: 0.2935 - acc: 0.9064 - val_loss: 0.2681 - val_acc: 0.9188\n",
      "Epoch 6/30\n",
      "150/150 [==============================] - 7s 47ms/step - loss: 0.2951 - acc: 0.9021 - val_loss: 0.2594 - val_acc: 0.9180\n",
      "Epoch 7/30\n",
      "150/150 [==============================] - 7s 47ms/step - loss: 0.2661 - acc: 0.9111 - val_loss: 0.2605 - val_acc: 0.9180\n",
      "Epoch 8/30\n",
      "150/150 [==============================] - 7s 47ms/step - loss: 0.2635 - acc: 0.9130 - val_loss: 0.2559 - val_acc: 0.9172\n",
      "Epoch 9/30\n",
      "150/150 [==============================] - 7s 47ms/step - loss: 0.2583 - acc: 0.9099 - val_loss: 0.2477 - val_acc: 0.9172\n",
      "Epoch 10/30\n",
      "150/150 [==============================] - 7s 47ms/step - loss: 0.2480 - acc: 0.9102 - val_loss: 0.2544 - val_acc: 0.9172\n",
      "Epoch 11/30\n",
      "150/150 [==============================] - 7s 47ms/step - loss: 0.2431 - acc: 0.9135 - val_loss: 0.2552 - val_acc: 0.9130\n",
      "Epoch 12/30\n",
      "150/150 [==============================] - 7s 47ms/step - loss: 0.2250 - acc: 0.9228 - val_loss: 0.2625 - val_acc: 0.9096\n",
      "Epoch 13/30\n",
      "150/150 [==============================] - 7s 47ms/step - loss: 0.2253 - acc: 0.9195 - val_loss: 0.2470 - val_acc: 0.9163\n",
      "Epoch 14/30\n",
      "150/150 [==============================] - 7s 47ms/step - loss: 0.2266 - acc: 0.9210 - val_loss: 0.2536 - val_acc: 0.9213\n",
      "Epoch 15/30\n",
      "150/150 [==============================] - 7s 47ms/step - loss: 0.2103 - acc: 0.9210 - val_loss: 0.2536 - val_acc: 0.9205\n",
      "Epoch 16/30\n",
      "150/150 [==============================] - 7s 47ms/step - loss: 0.1981 - acc: 0.9266 - val_loss: 0.2623 - val_acc: 0.9172\n",
      "Epoch 17/30\n",
      "150/150 [==============================] - 7s 47ms/step - loss: 0.1747 - acc: 0.9353 - val_loss: 0.2311 - val_acc: 0.9180\n",
      "Epoch 18/30\n",
      "150/150 [==============================] - 7s 47ms/step - loss: 0.1758 - acc: 0.9350 - val_loss: 0.2539 - val_acc: 0.9247\n",
      "Epoch 19/30\n",
      "150/150 [==============================] - 7s 47ms/step - loss: 0.1784 - acc: 0.9344 - val_loss: 0.2866 - val_acc: 0.9205\n",
      "Epoch 20/30\n",
      "150/150 [==============================] - 7s 47ms/step - loss: 0.1626 - acc: 0.9380 - val_loss: 0.2790 - val_acc: 0.9046\n",
      "Epoch 21/30\n",
      "150/150 [==============================] - 7s 47ms/step - loss: 0.1699 - acc: 0.9337 - val_loss: 0.2659 - val_acc: 0.9213\n",
      "Epoch 22/30\n",
      "150/150 [==============================] - 7s 47ms/step - loss: 0.1495 - acc: 0.9440 - val_loss: 0.2520 - val_acc: 0.9230\n",
      "Epoch 23/30\n",
      "150/150 [==============================] - 7s 47ms/step - loss: 0.1573 - acc: 0.9375 - val_loss: 0.2515 - val_acc: 0.9238\n",
      "Epoch 24/30\n",
      "150/150 [==============================] - 7s 47ms/step - loss: 0.1729 - acc: 0.9345 - val_loss: 0.2595 - val_acc: 0.9264\n",
      "Epoch 25/30\n",
      "150/150 [==============================] - 7s 47ms/step - loss: 0.1485 - acc: 0.9411 - val_loss: 0.2801 - val_acc: 0.9289\n",
      "Epoch 26/30\n",
      "150/150 [==============================] - 7s 47ms/step - loss: 0.1346 - acc: 0.9485 - val_loss: 0.2561 - val_acc: 0.9280\n",
      "Epoch 27/30\n",
      "150/150 [==============================] - 7s 47ms/step - loss: 0.1365 - acc: 0.9502 - val_loss: 0.2639 - val_acc: 0.9322\n",
      "Epoch 28/30\n",
      "150/150 [==============================] - 7s 47ms/step - loss: 0.1375 - acc: 0.9478 - val_loss: 0.2480 - val_acc: 0.9314\n",
      "Epoch 29/30\n",
      "150/150 [==============================] - 7s 47ms/step - loss: 0.1277 - acc: 0.9524 - val_loss: 0.2608 - val_acc: 0.9222\n",
      "Epoch 30/30\n",
      "150/150 [==============================] - 7s 47ms/step - loss: 0.1285 - acc: 0.9509 - val_loss: 0.3592 - val_acc: 0.9305\n"
     ]
    }
   ],
   "source": [
    "history = model.fit(X_train, y_train, epochs=30, validation_data=(X_test, y_test))"
   ]
  },
  {
   "cell_type": "markdown",
   "id": "2a27ec02",
   "metadata": {},
   "source": [
    "### Visualize"
   ]
  },
  {
   "cell_type": "code",
   "execution_count": 24,
   "id": "3d7f20c7",
   "metadata": {
    "scrolled": true
   },
   "outputs": [
    {
     "name": "stdout",
     "output_type": "stream",
     "text": [
      "loss: 0.1232549250125885\n",
      "val_loss: 0.3592245578765869\n"
     ]
    },
    {
     "data": {
      "image/png": "[encoded data removed]",
      "text/plain": [
       "<Figure size 576x576 with 1 Axes>"
      ]
     },
     "metadata": {
      "needs_background": "light"
     },
     "output_type": "display_data"
    },
    {
     "name": "stdout",
     "output_type": "stream",
     "text": [
      "acc: 0.9531282782554626\n",
      "val_acc: 0.9305439591407776\n"
     ]
    },
    {
     "data": {
      "image/png": "[encoded data removed]",
      "text/plain": [
       "<Figure size 576x576 with 1 Axes>"
      ]
     },
     "metadata": {
      "needs_background": "light"
     },
     "output_type": "display_data"
    }
   ],
   "source": [
    "plt.figure(figsize=(8,8))\n",
    "plt.title('Loss Value')\n",
    "plt.plot(history.history['loss'])\n",
    "plt.plot(history.history['val_loss'])\n",
    "plt.legend(['loss', 'val_loss'])\n",
    "print('loss:', history.history['loss'][-1])\n",
    "print('val_loss:', history.history['val_loss'][-1])\n",
    "plt.show()\n",
    "plt.figure(figsize=(8,8))\n",
    "plt.title('Accuracy')\n",
    "plt.plot(history.history['acc'])\n",
    "plt.plot(history.history['val_acc'])\n",
    "plt.legend(['acc', 'val_acc'])\n",
    "print('acc:', history.history['acc'][-1])\n",
    "print('val_acc:', history.history['val_acc'][-1])\n",
    "plt.show()"
   ]
  },
  {
   "cell_type": "markdown",
   "id": "33d93658",
   "metadata": {},
   "source": [
    "#### * 결과가 크게 나쁘지는 않지만 에폭이 늘어남에 따라 모델의 성능은 개선되지 않았다.\n",
    "\n",
    "#### 전형적인 오버피팅.\n",
    "\n",
    "#### 이 Pilot Model을 기반으로 좀 더 좋은 성능의 모델을 구축해 보고자 한다."
   ]
  },
  {
   "cell_type": "markdown",
   "id": "e44d39ca",
   "metadata": {},
   "source": [
    "### Model Renewal"
   ]
  },
  {
   "cell_type": "markdown",
   "id": "be9f6692",
   "metadata": {},
   "source": [
    "조금 더 층을 단순하게 구성해보자."
   ]
  },
  {
   "cell_type": "code",
   "execution_count": 28,
   "id": "d0e22fbb",
   "metadata": {},
   "outputs": [],
   "source": [
    "model = Sequential()\n",
    "model.add(Conv2D(32, (3, 3), activation='relu', strides=(1, 1), \n",
    "    padding='same', input_shape=input_shape))\n",
    "model.add(MaxPool2D((2, 2)))\n",
    "model.add(Dropout(0.5))\n",
    "model.add(Flatten())\n",
    "model.add(Dense(64, activation='relu'))\n",
    "model.add(Dropout(0.5))\n",
    "model.add(Dense(2, activation='softmax'))\n",
    "\n",
    "model.compile(loss='binary_crossentropy', \n",
    "     optimizer='adam',\n",
    "     metrics=['acc'])"
   ]
  },
  {
   "cell_type": "code",
   "execution_count": 29,
   "id": "43858ec8",
   "metadata": {},
   "outputs": [
    {
     "name": "stdout",
     "output_type": "stream",
     "text": [
      "Model: \"sequential_1\"\n",
      "_________________________________________________________________\n",
      "Layer (type)                 Output Shape              Param #   \n",
      "=================================================================\n",
      "conv2d_2 (Conv2D)            (None, 300, 13, 32)       320       \n",
      "_________________________________________________________________\n",
      "max_pooling2d_1 (MaxPooling2 (None, 150, 6, 32)        0         \n",
      "_________________________________________________________________\n",
      "dropout_3 (Dropout)          (None, 150, 6, 32)        0         \n",
      "_________________________________________________________________\n",
      "flatten_1 (Flatten)          (None, 28800)             0         \n",
      "_________________________________________________________________\n",
      "dense_3 (Dense)              (None, 64)                1843264   \n",
      "_________________________________________________________________\n",
      "dropout_4 (Dropout)          (None, 64)                0         \n",
      "_________________________________________________________________\n",
      "dense_4 (Dense)              (None, 2)                 130       \n",
      "=================================================================\n",
      "Total params: 1,843,714\n",
      "Trainable params: 1,843,714\n",
      "Non-trainable params: 0\n",
      "_________________________________________________________________\n"
     ]
    }
   ],
   "source": [
    "model.summary()"
   ]
  },
  {
   "cell_type": "code",
   "execution_count": 30,
   "id": "1c442778",
   "metadata": {},
   "outputs": [
    {
     "name": "stdout",
     "output_type": "stream",
     "text": [
      "Epoch 1/40\n",
      "150/150 [==============================] - 4s 21ms/step - loss: 0.6212 - acc: 0.6773 - val_loss: 0.3863 - val_acc: 0.8904\n",
      "Epoch 2/40\n",
      "150/150 [==============================] - 3s 20ms/step - loss: 0.4027 - acc: 0.8611 - val_loss: 0.3608 - val_acc: 0.8611\n",
      "Epoch 3/40\n",
      "150/150 [==============================] - 3s 21ms/step - loss: 0.3835 - acc: 0.8656 - val_loss: 0.2900 - val_acc: 0.9105\n",
      "Epoch 4/40\n",
      "150/150 [==============================] - 3s 20ms/step - loss: 0.3518 - acc: 0.8862 - val_loss: 0.2909 - val_acc: 0.8987\n",
      "Epoch 5/40\n",
      "150/150 [==============================] - 3s 20ms/step - loss: 0.3236 - acc: 0.8949 - val_loss: 0.2894 - val_acc: 0.8987\n",
      "Epoch 6/40\n",
      "150/150 [==============================] - 3s 20ms/step - loss: 0.3269 - acc: 0.8997 - val_loss: 0.2807 - val_acc: 0.9113\n",
      "Epoch 7/40\n",
      "150/150 [==============================] - 3s 20ms/step - loss: 0.3284 - acc: 0.8996 - val_loss: 0.2688 - val_acc: 0.9121\n",
      "Epoch 8/40\n",
      "150/150 [==============================] - 3s 20ms/step - loss: 0.3157 - acc: 0.8961 - val_loss: 0.2780 - val_acc: 0.9155\n",
      "Epoch 9/40\n",
      "150/150 [==============================] - 3s 20ms/step - loss: 0.3091 - acc: 0.9065 - val_loss: 0.2640 - val_acc: 0.9121\n",
      "Epoch 10/40\n",
      "150/150 [==============================] - 3s 20ms/step - loss: 0.3100 - acc: 0.8986 - val_loss: 0.2666 - val_acc: 0.9088\n",
      "Epoch 11/40\n",
      "150/150 [==============================] - 3s 19ms/step - loss: 0.3137 - acc: 0.8973 - val_loss: 0.2619 - val_acc: 0.9138\n",
      "Epoch 12/40\n",
      "150/150 [==============================] - 3s 20ms/step - loss: 0.2967 - acc: 0.9028 - val_loss: 0.2661 - val_acc: 0.9113\n",
      "Epoch 13/40\n",
      "150/150 [==============================] - 3s 20ms/step - loss: 0.2980 - acc: 0.9015 - val_loss: 0.3001 - val_acc: 0.9013\n",
      "Epoch 14/40\n",
      "150/150 [==============================] - 3s 20ms/step - loss: 0.2814 - acc: 0.9096 - val_loss: 0.2620 - val_acc: 0.9138\n",
      "Epoch 15/40\n",
      "150/150 [==============================] - 3s 20ms/step - loss: 0.3015 - acc: 0.8996 - val_loss: 0.2854 - val_acc: 0.9088\n",
      "Epoch 16/40\n",
      "150/150 [==============================] - 3s 19ms/step - loss: 0.2759 - acc: 0.9106 - val_loss: 0.2629 - val_acc: 0.9155\n",
      "Epoch 17/40\n",
      "150/150 [==============================] - 3s 20ms/step - loss: 0.2744 - acc: 0.9057 - val_loss: 0.2588 - val_acc: 0.9130\n",
      "Epoch 18/40\n",
      "150/150 [==============================] - 3s 20ms/step - loss: 0.2766 - acc: 0.9009 - val_loss: 0.2619 - val_acc: 0.9113\n",
      "Epoch 19/40\n",
      "150/150 [==============================] - 3s 19ms/step - loss: 0.2848 - acc: 0.9025 - val_loss: 0.2864 - val_acc: 0.9105\n",
      "Epoch 20/40\n",
      "150/150 [==============================] - 3s 19ms/step - loss: 0.2566 - acc: 0.9096 - val_loss: 0.2703 - val_acc: 0.9155\n",
      "Epoch 21/40\n",
      "150/150 [==============================] - 3s 19ms/step - loss: 0.2514 - acc: 0.9124 - val_loss: 0.2678 - val_acc: 0.9121\n",
      "Epoch 22/40\n",
      "150/150 [==============================] - 3s 19ms/step - loss: 0.2791 - acc: 0.9027 - val_loss: 0.2528 - val_acc: 0.9113\n",
      "Epoch 23/40\n",
      "150/150 [==============================] - 3s 19ms/step - loss: 0.2594 - acc: 0.9121 - val_loss: 0.2548 - val_acc: 0.9079\n",
      "Epoch 24/40\n",
      "150/150 [==============================] - 3s 19ms/step - loss: 0.2684 - acc: 0.8993 - val_loss: 0.2875 - val_acc: 0.9121\n",
      "Epoch 25/40\n",
      "150/150 [==============================] - 3s 20ms/step - loss: 0.2767 - acc: 0.8940 - val_loss: 0.2718 - val_acc: 0.9105\n",
      "Epoch 26/40\n",
      "150/150 [==============================] - 3s 21ms/step - loss: 0.2620 - acc: 0.9118 - val_loss: 0.2658 - val_acc: 0.9096\n",
      "Epoch 27/40\n",
      "150/150 [==============================] - 3s 21ms/step - loss: 0.2504 - acc: 0.9153 - val_loss: 0.2716 - val_acc: 0.8987\n",
      "Epoch 28/40\n",
      "150/150 [==============================] - 3s 20ms/step - loss: 0.2544 - acc: 0.9070 - val_loss: 0.2555 - val_acc: 0.9113\n",
      "Epoch 29/40\n",
      "150/150 [==============================] - 3s 20ms/step - loss: 0.2614 - acc: 0.9077 - val_loss: 0.2610 - val_acc: 0.9088\n",
      "Epoch 30/40\n",
      "150/150 [==============================] - 3s 20ms/step - loss: 0.2554 - acc: 0.9168 - val_loss: 0.2646 - val_acc: 0.9113\n",
      "Epoch 31/40\n",
      "150/150 [==============================] - 3s 21ms/step - loss: 0.2616 - acc: 0.9066 - val_loss: 0.2685 - val_acc: 0.9138\n",
      "Epoch 32/40\n",
      "150/150 [==============================] - 3s 20ms/step - loss: 0.2367 - acc: 0.9166 - val_loss: 0.2530 - val_acc: 0.9146\n",
      "Epoch 33/40\n",
      "150/150 [==============================] - 3s 20ms/step - loss: 0.2575 - acc: 0.9104 - val_loss: 0.2756 - val_acc: 0.9138\n",
      "Epoch 34/40\n",
      "150/150 [==============================] - 3s 20ms/step - loss: 0.2589 - acc: 0.9071 - val_loss: 0.2564 - val_acc: 0.9113\n",
      "Epoch 35/40\n",
      "150/150 [==============================] - 3s 20ms/step - loss: 0.2320 - acc: 0.9107 - val_loss: 0.2896 - val_acc: 0.9138\n",
      "Epoch 36/40\n",
      "150/150 [==============================] - 3s 20ms/step - loss: 0.2381 - acc: 0.9094 - val_loss: 0.3202 - val_acc: 0.9105\n",
      "Epoch 37/40\n",
      "150/150 [==============================] - 3s 20ms/step - loss: 0.2506 - acc: 0.9059 - val_loss: 0.2620 - val_acc: 0.9138\n",
      "Epoch 38/40\n",
      "150/150 [==============================] - 3s 20ms/step - loss: 0.2249 - acc: 0.9180 - val_loss: 0.2647 - val_acc: 0.9130\n",
      "Epoch 39/40\n",
      "150/150 [==============================] - 3s 20ms/step - loss: 0.2371 - acc: 0.9128 - val_loss: 0.2588 - val_acc: 0.9130\n",
      "Epoch 40/40\n",
      "150/150 [==============================] - 3s 20ms/step - loss: 0.2274 - acc: 0.9205 - val_loss: 0.2915 - val_acc: 0.9113\n"
     ]
    }
   ],
   "source": [
    "history = model.fit(X_train, y_train, epochs=40, validation_data=(X_test, y_test))"
   ]
  },
  {
   "cell_type": "code",
   "execution_count": 31,
   "id": "8b72e7e0",
   "metadata": {},
   "outputs": [
    {
     "name": "stdout",
     "output_type": "stream",
     "text": [
      "loss: 0.23270484805107117\n",
      "val_loss: 0.2915021777153015\n"
     ]
    },
    {
     "data": {
      "image/png": "[encoded data removed]",
      "text/plain": [
       "<Figure size 576x576 with 1 Axes>"
      ]
     },
     "metadata": {
      "needs_background": "light"
     },
     "output_type": "display_data"
    },
    {
     "name": "stdout",
     "output_type": "stream",
     "text": [
      "acc: 0.9163004755973816\n",
      "val_acc: 0.911297082901001\n"
     ]
    },
    {
     "data": {
      "image/png": "[encoded data removed]",
      "text/plain": [
       "<Figure size 576x576 with 1 Axes>"
      ]
     },
     "metadata": {
      "needs_background": "light"
     },
     "output_type": "display_data"
    }
   ],
   "source": [
    "plt.figure(figsize=(8,8))\n",
    "plt.title('Loss Value')\n",
    "plt.plot(history.history['loss'])\n",
    "plt.plot(history.history['val_loss'])\n",
    "plt.legend(['loss', 'val_loss'])\n",
    "print('loss:', history.history['loss'][-1])\n",
    "print('val_loss:', history.history['val_loss'][-1])\n",
    "plt.show()\n",
    "plt.figure(figsize=(8,8))\n",
    "plt.title('Accuracy')\n",
    "plt.plot(history.history['acc'])\n",
    "plt.plot(history.history['val_acc'])\n",
    "plt.legend(['acc', 'val_acc'])\n",
    "print('acc:', history.history['acc'][-1])\n",
    "print('val_acc:', history.history['val_acc'][-1])\n",
    "plt.show()"
   ]
  },
  {
   "cell_type": "markdown",
   "id": "81739f3e",
   "metadata": {},
   "source": [
    "### 성능이 많이 개선되었다."
   ]
  },
  {
   "cell_type": "code",
   "execution_count": 32,
   "id": "4d8391b4",
   "metadata": {},
   "outputs": [],
   "source": [
    "predictions = model.predict(X_test)"
   ]
  },
  {
   "cell_type": "code",
   "execution_count": 33,
   "id": "a5fc23d0",
   "metadata": {},
   "outputs": [],
   "source": [
    "predictions = np.argmax(predictions, axis=1)\n",
    "y_test = one_hot_encoder.inverse_transform(y_test)"
   ]
  },
  {
   "cell_type": "code",
   "execution_count": 34,
   "id": "7acd3d7e",
   "metadata": {},
   "outputs": [
    {
     "data": {
      "image/png": "[encoded data removed]",
      "text/plain": [
       "<Figure size 576x576 with 1 Axes>"
      ]
     },
     "metadata": {
      "needs_background": "light"
     },
     "output_type": "display_data"
    }
   ],
   "source": [
    "cm = confusion_matrix(y_test, predictions)\n",
    "plt.figure(figsize=(8,8))\n",
    "sns.heatmap(cm, annot=True, xticklabels=label_encoder.classes_, yticklabels=label_encoder.classes_, fmt='d', cmap=plt.cm.Blues, cbar=False)\n",
    "plt.xlabel('Predicted Label')\n",
    "plt.ylabel('True Label')\n",
    "plt.show()"
   ]
  }
 ],
 "metadata": {
  "kernelspec": {
   "display_name": "Python 3",
   "language": "python",
   "name": "python3"
  },
  "language_info": {
   "codemirror_mode": {
    "name": "ipython",
    "version": 3
   },
   "file_extension": ".py",
   "mimetype": "text/x-python",
   "name": "python",
   "nbconvert_exporter": "python",
   "pygments_lexer": "ipython3",
   "version": "3.8.5"
  }
 },
 "nbformat": 4,
 "nbformat_minor": 5
}
