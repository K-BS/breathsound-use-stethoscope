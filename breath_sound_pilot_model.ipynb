{
 "cells": [
  {
   "cell_type": "markdown",
   "id": "59d1334d",
   "metadata": {},
   "source": [
    "## Pilot Model Introduction"
   ]
  },
  {
   "cell_type": "markdown",
   "id": "e1c6e17a",
   "metadata": {},
   "source": [
    "의사가 청진기를 통해 환자의 호흡음을 평가하는 것은 질병의 진단, 치료에 있어 중요한 작업이다. 현재는 의사1명이 청진기를 통해 호흡음을 듣고 질병의 유무를 판단하지만 이는 정확성, 객관성, 일관성에 있어서 문제가 있을 수 있다. 그러므로 청진기를 통한 호흡음을 듣고 정상, 비정상의 호흡음을 분류할 수 있는 좋은 성능의 딥러닝 모델을 만드는 것이 최종적인 목표이다."
   ]
  },
  {
   "cell_type": "markdown",
   "id": "7e63de0d",
   "metadata": {},
   "source": [
    "정상적인 호흡음과 비정상적인 호흡음은 특정한 패턴으로 분류한다. 먼저 정상적인 호흡음과  천명(Wheezing)이라고 불리는 패턴을 가지는 호흡음(비정상적인)을 분류하는(Binary Classification) 모델을 구축하고자 한다."
   ]
  },
  {
   "cell_type": "markdown",
   "id": "838d9445",
   "metadata": {},
   "source": [
    "병원 측에서 제공받은 데이터 중 우선적으로 Pilot Model에서 사용할 데이터는 아래와 같다."
   ]
  },
  {
   "cell_type": "markdown",
   "id": "17993418",
   "metadata": {},
   "source": [
    "정상 호흡음을 정상 호흡음이라고 판단한 Audio Data(91개)\n",
    "\n",
    "Wheezing이라고 판단했지만 정상 호흡음 이었던 Audio Data(24개)\n",
    "\n",
    "정상 호흡음이지만 잡음이 많이 들어간 Audio Data(23개)\n",
    "#### --> 총 178개의 Audio Data = Healthy\n",
    "\n",
    "Wheezing을 Wheezing이라고 판단한 Audio Data(74개)\n",
    "\n",
    "Wheezing을 Wheezing이라고 판단했지만 Wheezing구간을 정확히 맞추지 못한 Audio Data(24개)\n",
    "#### --> 총 85개의 Audio Data = Wheezing\n",
    "\n",
    "현재는 데이터의 수가 굉장히 적기 때문에 쓸 수 있는 데이터는 모두 사용하기로 했다. Healthy와 Wheezing Data간 불균형이 보이므로 추후에는 SMOTE(Syntetic Minority Oversampling Technique)기법으로 불균형을 해소할 예정이다."
   ]
  },
  {
   "cell_type": "code",
   "execution_count": 12,
   "id": "e15d436d",
   "metadata": {},
   "outputs": [],
   "source": [
    "import os\n",
    "import librosa\n",
    "import pickle\n",
    "import numpy as np\n",
    "import pandas as pd\n",
    "import matplotlib.pyplot as plt\n",
    "import seaborn as sns\n",
    "from tqdm import tqdm\n",
    "from python_speech_features import mfcc\n",
    "from sklearn.preprocessing import LabelEncoder, OneHotEncoder\n",
    "from sklearn.model_selection import train_test_split\n",
    "from sklearn.metrics import confusion_matrix\n",
    "from keras.layers import Conv2D, MaxPool2D, Flatten, Dense, Dropout\n",
    "from keras.models import Sequential"
   ]
  },
  {
   "cell_type": "markdown",
   "id": "f4a6a559",
   "metadata": {},
   "source": [
    "### Data Collection"
   ]
  },
  {
   "cell_type": "markdown",
   "id": "3ef00bbe",
   "metadata": {},
   "source": [
    "위에서 언급한 것처럼 Binary Classification의 간단한 Task다. fname에 File Name, label에 호흡음 정상여부(Wheezing, healthy)가 기록되어 있다."
   ]
  },
  {
   "cell_type": "code",
   "execution_count": 33,
   "id": "6d72a0ba",
   "metadata": {},
   "outputs": [
    {
     "data": {
      "text/html": [
       "<div>\n",
       "<style scoped>\n",
       "    .dataframe tbody tr th:only-of-type {\n",
       "        vertical-align: middle;\n",
       "    }\n",
       "\n",
       "    .dataframe tbody tr th {\n",
       "        vertical-align: top;\n",
       "    }\n",
       "\n",
       "    .dataframe thead th {\n",
       "        text-align: right;\n",
       "    }\n",
       "</style>\n",
       "<table border=\"1\" class=\"dataframe\">\n",
       "  <thead>\n",
       "    <tr style=\"text-align: right;\">\n",
       "      <th></th>\n",
       "      <th>fname</th>\n",
       "      <th>label</th>\n",
       "    </tr>\n",
       "  </thead>\n",
       "  <tbody>\n",
       "    <tr>\n",
       "      <th>0</th>\n",
       "      <td>0001-1.wav</td>\n",
       "      <td>wheezing</td>\n",
       "    </tr>\n",
       "    <tr>\n",
       "      <th>1</th>\n",
       "      <td>0411-2.wav</td>\n",
       "      <td>wheezing</td>\n",
       "    </tr>\n",
       "    <tr>\n",
       "      <th>2</th>\n",
       "      <td>0538-4.wav</td>\n",
       "      <td>wheezing</td>\n",
       "    </tr>\n",
       "    <tr>\n",
       "      <th>3</th>\n",
       "      <td>0581-2.wav</td>\n",
       "      <td>wheezing</td>\n",
       "    </tr>\n",
       "    <tr>\n",
       "      <th>4</th>\n",
       "      <td>0597-4.wav</td>\n",
       "      <td>wheezing</td>\n",
       "    </tr>\n",
       "  </tbody>\n",
       "</table>\n",
       "</div>"
      ],
      "text/plain": [
       "        fname     label\n",
       "0  0001-1.wav  wheezing\n",
       "1  0411-2.wav  wheezing\n",
       "2  0538-4.wav  wheezing\n",
       "3  0581-2.wav  wheezing\n",
       "4  0597-4.wav  wheezing"
      ]
     },
     "execution_count": 33,
     "metadata": {},
     "output_type": "execute_result"
    }
   ],
   "source": [
    "df = pd.read_csv('data/data1.csv')\n",
    "df.head()"
   ]
  },
  {
   "cell_type": "code",
   "execution_count": 34,
   "id": "59cad2dc",
   "metadata": {},
   "outputs": [],
   "source": [
    "df = df[df['label'].isin(['wheezing','healthy'])]"
   ]
  },
  {
   "cell_type": "markdown",
   "id": "cd557155",
   "metadata": {},
   "source": [
    "Numpy array로 바꿔주자."
   ]
  },
  {
   "cell_type": "code",
   "execution_count": 35,
   "id": "4986d991",
   "metadata": {
    "scrolled": true
   },
   "outputs": [
    {
     "name": "stderr",
     "output_type": "stream",
     "text": [
      "100%|██████████| 263/263 [00:58<00:00,  4.51it/s]\n",
      "<ipython-input-35-bd871a4eab45>:5: VisibleDeprecationWarning: Creating an ndarray from ragged nested sequences (which is a list-or-tuple of lists-or-tuples-or ndarrays with different lengths or shapes) is deprecated. If you meant to do this, you must specify 'dtype=object' when creating the ndarray\n",
      "  audio_data = np.array(audio_data)\n"
     ]
    }
   ],
   "source": [
    "path = 'data/all_data/'\n",
    "audio_data = list()\n",
    "for i in tqdm(range(df.shape[0])):\n",
    "    audio_data.append(librosa.load(path+df['fname'].iloc[i]))\n",
    "audio_data = np.array(audio_data)"
   ]
  },
  {
   "cell_type": "markdown",
   "id": "48f3d2c4",
   "metadata": {},
   "source": [
    "확인해보자."
   ]
  },
  {
   "cell_type": "code",
   "execution_count": 36,
   "id": "f663bfba",
   "metadata": {},
   "outputs": [
    {
     "data": {
      "text/html": [
       "<div>\n",
       "<style scoped>\n",
       "    .dataframe tbody tr th:only-of-type {\n",
       "        vertical-align: middle;\n",
       "    }\n",
       "\n",
       "    .dataframe tbody tr th {\n",
       "        vertical-align: top;\n",
       "    }\n",
       "\n",
       "    .dataframe thead th {\n",
       "        text-align: right;\n",
       "    }\n",
       "</style>\n",
       "<table border=\"1\" class=\"dataframe\">\n",
       "  <thead>\n",
       "    <tr style=\"text-align: right;\">\n",
       "      <th></th>\n",
       "      <th>fname</th>\n",
       "      <th>label</th>\n",
       "      <th>audio_waves</th>\n",
       "      <th>samplerate</th>\n",
       "    </tr>\n",
       "  </thead>\n",
       "  <tbody>\n",
       "    <tr>\n",
       "      <th>0</th>\n",
       "      <td>0001-1.wav</td>\n",
       "      <td>wheezing</td>\n",
       "      <td>[-1.960364e-06, -1.6989543e-06, 2.2033912e-06,...</td>\n",
       "      <td>22050</td>\n",
       "    </tr>\n",
       "    <tr>\n",
       "      <th>1</th>\n",
       "      <td>0411-2.wav</td>\n",
       "      <td>wheezing</td>\n",
       "      <td>[0.0079015065, 0.010698691, 0.0077624833, 0.00...</td>\n",
       "      <td>22050</td>\n",
       "    </tr>\n",
       "    <tr>\n",
       "      <th>2</th>\n",
       "      <td>0538-4.wav</td>\n",
       "      <td>wheezing</td>\n",
       "      <td>[0.017012855, 0.026953325, 0.025314119, 0.0284...</td>\n",
       "      <td>22050</td>\n",
       "    </tr>\n",
       "    <tr>\n",
       "      <th>3</th>\n",
       "      <td>0581-2.wav</td>\n",
       "      <td>wheezing</td>\n",
       "      <td>[0.020541016, 0.030520504, 0.02603743, 0.02776...</td>\n",
       "      <td>22050</td>\n",
       "    </tr>\n",
       "    <tr>\n",
       "      <th>4</th>\n",
       "      <td>0597-4.wav</td>\n",
       "      <td>wheezing</td>\n",
       "      <td>[-0.013913074, -0.0219503, -0.020427886, -0.02...</td>\n",
       "      <td>22050</td>\n",
       "    </tr>\n",
       "  </tbody>\n",
       "</table>\n",
       "</div>"
      ],
      "text/plain": [
       "        fname     label                                        audio_waves  \\\n",
       "0  0001-1.wav  wheezing  [-1.960364e-06, -1.6989543e-06, 2.2033912e-06,...   \n",
       "1  0411-2.wav  wheezing  [0.0079015065, 0.010698691, 0.0077624833, 0.00...   \n",
       "2  0538-4.wav  wheezing  [0.017012855, 0.026953325, 0.025314119, 0.0284...   \n",
       "3  0581-2.wav  wheezing  [0.020541016, 0.030520504, 0.02603743, 0.02776...   \n",
       "4  0597-4.wav  wheezing  [-0.013913074, -0.0219503, -0.020427886, -0.02...   \n",
       "\n",
       "  samplerate  \n",
       "0      22050  \n",
       "1      22050  \n",
       "2      22050  \n",
       "3      22050  \n",
       "4      22050  "
      ]
     },
     "execution_count": 36,
     "metadata": {},
     "output_type": "execute_result"
    }
   ],
   "source": [
    "df['audio_waves'] = audio_data[:,0]\n",
    "df['samplerate'] = audio_data[:,1]\n",
    "df.head()"
   ]
  },
  {
   "cell_type": "markdown",
   "id": "81356d0d",
   "metadata": {},
   "source": [
    "bit_lengths와 second_lenghts를 생성한다.\n",
    "\n",
    "#### bit_lengths = The number of bits in each audio waves.\n",
    "\n",
    "#### second_lenths = The length of all audio files in seconds.(bit_lenths/samplerate)"
   ]
  },
  {
   "cell_type": "code",
   "execution_count": 41,
   "id": "5e27249b",
   "metadata": {},
   "outputs": [
    {
     "data": {
      "text/html": [
       "<div>\n",
       "<style scoped>\n",
       "    .dataframe tbody tr th:only-of-type {\n",
       "        vertical-align: middle;\n",
       "    }\n",
       "\n",
       "    .dataframe tbody tr th {\n",
       "        vertical-align: top;\n",
       "    }\n",
       "\n",
       "    .dataframe thead th {\n",
       "        text-align: right;\n",
       "    }\n",
       "</style>\n",
       "<table border=\"1\" class=\"dataframe\">\n",
       "  <thead>\n",
       "    <tr style=\"text-align: right;\">\n",
       "      <th></th>\n",
       "      <th>fname</th>\n",
       "      <th>label</th>\n",
       "      <th>audio_waves</th>\n",
       "      <th>samplerate</th>\n",
       "      <th>bit_lengths</th>\n",
       "      <th>seconds_length</th>\n",
       "      <th>second_lengths</th>\n",
       "    </tr>\n",
       "  </thead>\n",
       "  <tbody>\n",
       "    <tr>\n",
       "      <th>0</th>\n",
       "      <td>0001-1.wav</td>\n",
       "      <td>wheezing</td>\n",
       "      <td>[-1.960364e-06, -1.6989543e-06, 2.2033912e-06,...</td>\n",
       "      <td>22050</td>\n",
       "      <td>198648</td>\n",
       "      <td>9.00898</td>\n",
       "      <td>9.00898</td>\n",
       "    </tr>\n",
       "    <tr>\n",
       "      <th>1</th>\n",
       "      <td>0411-2.wav</td>\n",
       "      <td>wheezing</td>\n",
       "      <td>[0.0079015065, 0.010698691, 0.0077624833, 0.00...</td>\n",
       "      <td>22050</td>\n",
       "      <td>158919</td>\n",
       "      <td>7.207211</td>\n",
       "      <td>7.207211</td>\n",
       "    </tr>\n",
       "    <tr>\n",
       "      <th>2</th>\n",
       "      <td>0538-4.wav</td>\n",
       "      <td>wheezing</td>\n",
       "      <td>[0.017012855, 0.026953325, 0.025314119, 0.0284...</td>\n",
       "      <td>22050</td>\n",
       "      <td>129490</td>\n",
       "      <td>5.872562</td>\n",
       "      <td>5.872562</td>\n",
       "    </tr>\n",
       "    <tr>\n",
       "      <th>3</th>\n",
       "      <td>0581-2.wav</td>\n",
       "      <td>wheezing</td>\n",
       "      <td>[0.020541016, 0.030520504, 0.02603743, 0.02776...</td>\n",
       "      <td>22050</td>\n",
       "      <td>164805</td>\n",
       "      <td>7.47415</td>\n",
       "      <td>7.47415</td>\n",
       "    </tr>\n",
       "    <tr>\n",
       "      <th>4</th>\n",
       "      <td>0597-4.wav</td>\n",
       "      <td>wheezing</td>\n",
       "      <td>[-0.013913074, -0.0219503, -0.020427886, -0.02...</td>\n",
       "      <td>22050</td>\n",
       "      <td>444384</td>\n",
       "      <td>20.153469</td>\n",
       "      <td>20.153469</td>\n",
       "    </tr>\n",
       "  </tbody>\n",
       "</table>\n",
       "</div>"
      ],
      "text/plain": [
       "        fname     label                                        audio_waves  \\\n",
       "0  0001-1.wav  wheezing  [-1.960364e-06, -1.6989543e-06, 2.2033912e-06,...   \n",
       "1  0411-2.wav  wheezing  [0.0079015065, 0.010698691, 0.0077624833, 0.00...   \n",
       "2  0538-4.wav  wheezing  [0.017012855, 0.026953325, 0.025314119, 0.0284...   \n",
       "3  0581-2.wav  wheezing  [0.020541016, 0.030520504, 0.02603743, 0.02776...   \n",
       "4  0597-4.wav  wheezing  [-0.013913074, -0.0219503, -0.020427886, -0.02...   \n",
       "\n",
       "  samplerate  bit_lengths seconds_length second_lengths  \n",
       "0      22050       198648        9.00898        9.00898  \n",
       "1      22050       158919       7.207211       7.207211  \n",
       "2      22050       129490       5.872562       5.872562  \n",
       "3      22050       164805        7.47415        7.47415  \n",
       "4      22050       444384      20.153469      20.153469  "
      ]
     },
     "execution_count": 41,
     "metadata": {},
     "output_type": "execute_result"
    }
   ],
   "source": [
    "bit_lengths = list()\n",
    "for i in range(df.shape[0]):\n",
    "    bit_lengths.append(len(df['audio_waves'].iloc[i]))\n",
    "bit_lengths = np.array(bit_lengths)\n",
    "df['bit_lengths'] = bit_lengths\n",
    "df['second_lengths'] = df['bit_lengths']/df['samplerate']\n",
    "df.head()"
   ]
  },
  {
   "cell_type": "markdown",
   "id": "9ac6db8d",
   "metadata": {},
   "source": [
    "### Data Generate"
   ]
  },
  {
   "cell_type": "markdown",
   "id": "15285dd7",
   "metadata": {},
   "source": [
    "2 seconds 보다 짝으면 drop."
   ]
  },
  {
   "cell_type": "code",
   "execution_count": 42,
   "id": "1715d52b",
   "metadata": {},
   "outputs": [],
   "source": [
    "df = df[df['second_lengths'] >= 2.0]"
   ]
  },
  {
   "cell_type": "markdown",
   "id": "f53a2030",
   "metadata": {},
   "source": [
    "min값을 출력해 체크해보자."
   ]
  },
  {
   "cell_type": "code",
   "execution_count": 43,
   "id": "bd76c9dc",
   "metadata": {},
   "outputs": [
    {
     "name": "stdout",
     "output_type": "stream",
     "text": [
      "48113\n",
      "2.1819954648526076\n"
     ]
    }
   ],
   "source": [
    "min_bits = np.min(df['bit_lengths'])\n",
    "print(min_bits)\n",
    "min_seconds = np.min(df['second_lengths'])\n",
    "print(min_seconds)"
   ]
  },
  {
   "cell_type": "markdown",
   "id": "2002aa97",
   "metadata": {},
   "source": [
    "데이터 프레임을 pickle로 저장하자."
   ]
  },
  {
   "cell_type": "code",
   "execution_count": 44,
   "id": "60ff86c6",
   "metadata": {},
   "outputs": [],
   "source": [
    "with open('audio_df.pickle', 'wb') as f:\n",
    "    pickle.dump(df, f)"
   ]
  },
  {
   "cell_type": "code",
   "execution_count": 45,
   "id": "c2b4d5d7",
   "metadata": {},
   "outputs": [],
   "source": [
    "with open('audio_df.pickle', 'rb') as f:\n",
    "    df = pickle.load(f)"
   ]
  },
  {
   "cell_type": "markdown",
   "id": "5ebf5154",
   "metadata": {},
   "source": [
    "아래 그림처럼 Random Sampling을 통해 data generate"
   ]
  },
  {
   "cell_type": "markdown",
   "id": "3d255131",
   "metadata": {},
   "source": [
    "![1_SQr0VgPZF2pvzVVpYiH-PQ](https://user-images.githubusercontent.com/74411831/122634903-e4ed2100-d11b-11eb-9ede-ee6eb18fbae3.jpeg)"
   ]
  },
  {
   "cell_type": "code",
   "execution_count": 46,
   "id": "814c43ad",
   "metadata": {},
   "outputs": [
    {
     "name": "stderr",
     "output_type": "stream",
     "text": [
      "100%|██████████| 6000/6000 [00:05<00:00, 1025.95it/s]\n"
     ]
    }
   ],
   "source": [
    "num_samples = 6000\n",
    "generated_audio_waves = list()\n",
    "generated_audio_labels = list()\n",
    "for i in tqdm(range(num_samples)):\n",
    "    try:\n",
    "        chosen_file = np.random.choice(df['fname'].values)\n",
    "        chosen_initial = np.random.choice(np.arange(0,df[df['fname']==chosen_file]['bit_lengths'].values-min_bits))\n",
    "        generated_audio_waves.append(df[df['fname']==chosen_file]['audio_waves'].values[0][chosen_initial:chosen_initial+min_bits])\n",
    "        \n",
    "        generated_audio_labels.append(df[df['fname']==chosen_file]['label'].values)\n",
    "    except ValueError:\n",
    "        continue\n",
    "generated_audio_waves = np.array(generated_audio_waves)\n",
    "generated_audio_labels = np.array(generated_audio_labels)"
   ]
  },
  {
   "cell_type": "markdown",
   "id": "ae4ad919",
   "metadata": {},
   "source": [
    "MFCC로 Feature를 뽑는다."
   ]
  },
  {
   "cell_type": "code",
   "execution_count": 47,
   "id": "3c9a14e6",
   "metadata": {},
   "outputs": [
    {
     "name": "stderr",
     "output_type": "stream",
     "text": [
      "100%|██████████| 5972/5972 [00:41<00:00, 142.36it/s]\n"
     ]
    }
   ],
   "source": [
    "mfcc_features = list()\n",
    "for i in tqdm(range(len(generated_audio_waves))):\n",
    "    mfcc_features.append(mfcc(generated_audio_waves[i]))\n",
    "mfcc_features = np.array(mfcc_features)"
   ]
  },
  {
   "cell_type": "code",
   "execution_count": 48,
   "id": "bb6a2050",
   "metadata": {},
   "outputs": [
    {
     "name": "stdout",
     "output_type": "stream",
     "text": [
      "(5972, 48113)\n",
      "(5972, 300, 13)\n"
     ]
    }
   ],
   "source": [
    "print(generated_audio_waves.shape)\n",
    "print(mfcc_features.shape)"
   ]
  },
  {
   "cell_type": "markdown",
   "id": "361c6bd8",
   "metadata": {},
   "source": [
    "Audio Data와 MFCC를 비교. 잘 뽑혔는지 확인하자."
   ]
  },
  {
   "cell_type": "code",
   "execution_count": 49,
   "id": "7d1187dc",
   "metadata": {},
   "outputs": [
    {
     "data": {
      "image/png": "[encoded data removed]",
      "text/plain": [
       "<Figure size 864x144 with 1 Axes>"
      ]
     },
     "metadata": {
      "needs_background": "light"
     },
     "output_type": "display_data"
    },
    {
     "data": {
      "image/png": "[encoded data removed]",
      "text/plain": [
       "<Figure size 864x144 with 1 Axes>"
      ]
     },
     "metadata": {
      "needs_background": "light"
     },
     "output_type": "display_data"
    }
   ],
   "source": [
    "plt.figure(figsize=(12,2))\n",
    "plt.plot(generated_audio_waves[30])\n",
    "plt.title(generated_audio_labels[30])\n",
    "plt.show()\n",
    "plt.figure(figsize=(12, 2))\n",
    "plt.imshow(mfcc_features[30].T, cmap='hot')\n",
    "plt.title(generated_audio_labels[30])\n",
    "plt.show()"
   ]
  },
  {
   "cell_type": "markdown",
   "id": "13fbf470",
   "metadata": {},
   "source": [
    "### Pre-processing"
   ]
  },
  {
   "cell_type": "code",
   "execution_count": 50,
   "id": "46d9bf88",
   "metadata": {},
   "outputs": [
    {
     "name": "stdout",
     "output_type": "stream",
     "text": [
      "[0 0 1 ... 0 1 1]\n"
     ]
    },
    {
     "name": "stderr",
     "output_type": "stream",
     "text": [
      "/home/nextgen/anaconda3/envs/kbs_coin/lib/python3.8/site-packages/sklearn/utils/validation.py:63: DataConversionWarning: A column-vector y was passed when a 1d array was expected. Please change the shape of y to (n_samples, ), for example using ravel().\n",
      "  return f(*args, **kwargs)\n"
     ]
    }
   ],
   "source": [
    "label_encoder = LabelEncoder()\n",
    "label_encoded = label_encoder.fit_transform(generated_audio_labels)\n",
    "print(label_encoded)"
   ]
  },
  {
   "cell_type": "code",
   "execution_count": 51,
   "id": "60b8246e",
   "metadata": {},
   "outputs": [
    {
     "data": {
      "text/plain": [
       "array([[0],\n",
       "       [0],\n",
       "       [1],\n",
       "       ...,\n",
       "       [0],\n",
       "       [1],\n",
       "       [1]])"
      ]
     },
     "execution_count": 51,
     "metadata": {},
     "output_type": "execute_result"
    }
   ],
   "source": [
    "label_encoded = label_encoded[:, np.newaxis]\n",
    "label_encoded"
   ]
  },
  {
   "cell_type": "code",
   "execution_count": 52,
   "id": "73de97a2",
   "metadata": {},
   "outputs": [
    {
     "data": {
      "text/plain": [
       "array([[1., 0.],\n",
       "       [1., 0.],\n",
       "       [0., 1.],\n",
       "       ...,\n",
       "       [1., 0.],\n",
       "       [0., 1.],\n",
       "       [0., 1.]])"
      ]
     },
     "execution_count": 52,
     "metadata": {},
     "output_type": "execute_result"
    }
   ],
   "source": [
    "one_hot_encoder = OneHotEncoder(sparse=False)\n",
    "one_hot_encoded = one_hot_encoder.fit_transform(label_encoded)\n",
    "one_hot_encoded"
   ]
  },
  {
   "cell_type": "markdown",
   "id": "afb21862",
   "metadata": {},
   "source": [
    "### Training(CNN Model)"
   ]
  },
  {
   "cell_type": "markdown",
   "id": "03e593ea",
   "metadata": {},
   "source": [
    "MinMax Normalization 및 split"
   ]
  },
  {
   "cell_type": "code",
   "execution_count": 53,
   "id": "06c4fc15",
   "metadata": {},
   "outputs": [],
   "source": [
    "X = mfcc_features\n",
    "y = one_hot_encoded\n",
    "X = (X-X.min())/(X.max()-X.min())\n",
    "X_train, X_test, y_train, y_test = train_test_split(X, y, test_size=0.2)"
   ]
  },
  {
   "cell_type": "code",
   "execution_count": 54,
   "id": "08dbe2c3",
   "metadata": {},
   "outputs": [],
   "source": [
    "input_shape = (X_train.shape[1], X_train.shape[2], 1)"
   ]
  },
  {
   "cell_type": "markdown",
   "id": "2c38ef28",
   "metadata": {},
   "source": [
    "4777개의 training sample, 1195개의 test sample을 확인"
   ]
  },
  {
   "cell_type": "code",
   "execution_count": 55,
   "id": "68b6d23d",
   "metadata": {},
   "outputs": [
    {
     "name": "stdout",
     "output_type": "stream",
     "text": [
      "(4777, 300, 13, 1)\n",
      "(1195, 300, 13, 1)\n"
     ]
    }
   ],
   "source": [
    "X_train = X_train.reshape(X_train.shape[0], X_train.shape[1], X_train.shape[2], 1)\n",
    "print(X_train.shape)\n",
    "X_test = X_test.reshape(X_test.shape[0], X_test.shape[1], X_test.shape[2], 1)\n",
    "print(X_test.shape)"
   ]
  },
  {
   "cell_type": "code",
   "execution_count": 59,
   "id": "78dcfa75",
   "metadata": {},
   "outputs": [],
   "source": [
    "model = Sequential()\n",
    "model.add(Conv2D(16, (3, 3), activation='relu', strides=(1, 1), \n",
    "    padding='same', input_shape=input_shape))\n",
    "model.add(Conv2D(32, (3, 3), activation='relu', strides=(1, 1), \n",
    "    padding='same'))\n",
    "model.add(MaxPool2D((2, 2)))\n",
    "model.add(Dropout(0.5))\n",
    "model.add(Flatten())\n",
    "model.add(Dense(128, activation='relu'))\n",
    "model.add(Dropout(0.5))\n",
    "model.add(Dense(64, activation='relu'))\n",
    "model.add(Dropout(0.5))\n",
    "model.add(Dense(2, activation='softmax'))\n",
    "\n",
    "model.compile(loss='binary_crossentropy', \n",
    "     optimizer='adam',\n",
    "     metrics=['acc'])"
   ]
  },
  {
   "cell_type": "code",
   "execution_count": 60,
   "id": "9222c5cd",
   "metadata": {},
   "outputs": [
    {
     "name": "stdout",
     "output_type": "stream",
     "text": [
      "Model: \"sequential_1\"\n",
      "_________________________________________________________________\n",
      "Layer (type)                 Output Shape              Param #   \n",
      "=================================================================\n",
      "conv2d_2 (Conv2D)            (None, 300, 13, 16)       160       \n",
      "_________________________________________________________________\n",
      "conv2d_3 (Conv2D)            (None, 300, 13, 32)       4640      \n",
      "_________________________________________________________________\n",
      "max_pooling2d_1 (MaxPooling2 (None, 150, 6, 32)        0         \n",
      "_________________________________________________________________\n",
      "dropout_3 (Dropout)          (None, 150, 6, 32)        0         \n",
      "_________________________________________________________________\n",
      "flatten_1 (Flatten)          (None, 28800)             0         \n",
      "_________________________________________________________________\n",
      "dense_3 (Dense)              (None, 128)               3686528   \n",
      "_________________________________________________________________\n",
      "dropout_4 (Dropout)          (None, 128)               0         \n",
      "_________________________________________________________________\n",
      "dense_4 (Dense)              (None, 64)                8256      \n",
      "_________________________________________________________________\n",
      "dropout_5 (Dropout)          (None, 64)                0         \n",
      "_________________________________________________________________\n",
      "dense_5 (Dense)              (None, 2)                 130       \n",
      "=================================================================\n",
      "Total params: 3,699,714\n",
      "Trainable params: 3,699,714\n",
      "Non-trainable params: 0\n",
      "_________________________________________________________________\n"
     ]
    }
   ],
   "source": [
    "model.summary()"
   ]
  },
  {
   "cell_type": "code",
   "execution_count": 61,
   "id": "02db0d61",
   "metadata": {
    "scrolled": true
   },
   "outputs": [
    {
     "name": "stdout",
     "output_type": "stream",
     "text": [
      "Epoch 1/30\n",
      "150/150 [==============================] - 12s 49ms/step - loss: 0.5676 - acc: 0.6906 - val_loss: 0.3568 - val_acc: 0.8795\n",
      "Epoch 2/30\n",
      "150/150 [==============================] - 7s 47ms/step - loss: 0.3449 - acc: 0.8861 - val_loss: 0.3124 - val_acc: 0.8887\n",
      "Epoch 3/30\n",
      "150/150 [==============================] - 7s 47ms/step - loss: 0.3129 - acc: 0.9019 - val_loss: 0.3014 - val_acc: 0.9004\n",
      "Epoch 4/30\n",
      "150/150 [==============================] - 7s 47ms/step - loss: 0.2959 - acc: 0.9080 - val_loss: 0.2984 - val_acc: 0.9054\n",
      "Epoch 5/30\n",
      "150/150 [==============================] - 7s 47ms/step - loss: 0.2801 - acc: 0.9152 - val_loss: 0.2852 - val_acc: 0.9096\n",
      "Epoch 6/30\n",
      "150/150 [==============================] - 7s 47ms/step - loss: 0.2749 - acc: 0.9123 - val_loss: 0.2791 - val_acc: 0.9105\n",
      "Epoch 7/30\n",
      "150/150 [==============================] - 7s 47ms/step - loss: 0.2717 - acc: 0.9165 - val_loss: 0.2751 - val_acc: 0.9088\n",
      "Epoch 8/30\n",
      "150/150 [==============================] - 7s 47ms/step - loss: 0.2699 - acc: 0.9076 - val_loss: 0.2758 - val_acc: 0.9096\n",
      "Epoch 9/30\n",
      "150/150 [==============================] - 7s 47ms/step - loss: 0.2524 - acc: 0.9140 - val_loss: 0.2780 - val_acc: 0.9054\n",
      "Epoch 10/30\n",
      "150/150 [==============================] - 7s 47ms/step - loss: 0.2487 - acc: 0.9143 - val_loss: 0.2757 - val_acc: 0.9096\n",
      "Epoch 11/30\n",
      "150/150 [==============================] - 7s 47ms/step - loss: 0.2356 - acc: 0.9285 - val_loss: 0.2919 - val_acc: 0.9088\n",
      "Epoch 12/30\n",
      "150/150 [==============================] - 7s 47ms/step - loss: 0.2280 - acc: 0.9212 - val_loss: 0.2853 - val_acc: 0.9146\n",
      "Epoch 13/30\n",
      "150/150 [==============================] - 7s 47ms/step - loss: 0.2410 - acc: 0.9096 - val_loss: 0.2792 - val_acc: 0.9138\n",
      "Epoch 14/30\n",
      "150/150 [==============================] - 7s 47ms/step - loss: 0.2214 - acc: 0.9154 - val_loss: 0.2951 - val_acc: 0.9121\n",
      "Epoch 15/30\n",
      "150/150 [==============================] - 7s 47ms/step - loss: 0.2238 - acc: 0.9236 - val_loss: 0.2825 - val_acc: 0.9146\n",
      "Epoch 16/30\n",
      "150/150 [==============================] - 7s 47ms/step - loss: 0.2077 - acc: 0.9246 - val_loss: 0.3015 - val_acc: 0.9088\n",
      "Epoch 17/30\n",
      "150/150 [==============================] - 7s 47ms/step - loss: 0.1924 - acc: 0.9333 - val_loss: 0.3143 - val_acc: 0.9013\n",
      "Epoch 18/30\n",
      "150/150 [==============================] - 7s 47ms/step - loss: 0.1931 - acc: 0.9240 - val_loss: 0.2784 - val_acc: 0.9180\n",
      "Epoch 19/30\n",
      "150/150 [==============================] - 7s 47ms/step - loss: 0.1782 - acc: 0.9366 - val_loss: 0.2847 - val_acc: 0.9130\n",
      "Epoch 20/30\n",
      "150/150 [==============================] - 7s 47ms/step - loss: 0.1777 - acc: 0.9346 - val_loss: 0.3175 - val_acc: 0.9079\n",
      "Epoch 21/30\n",
      "150/150 [==============================] - 7s 47ms/step - loss: 0.1751 - acc: 0.9339 - val_loss: 0.3056 - val_acc: 0.9163\n",
      "Epoch 22/30\n",
      "150/150 [==============================] - 7s 47ms/step - loss: 0.1718 - acc: 0.9375 - val_loss: 0.3215 - val_acc: 0.9096\n",
      "Epoch 23/30\n",
      "150/150 [==============================] - 7s 47ms/step - loss: 0.1671 - acc: 0.9315 - val_loss: 0.3512 - val_acc: 0.9113\n",
      "Epoch 24/30\n",
      "150/150 [==============================] - 7s 47ms/step - loss: 0.1612 - acc: 0.9408 - val_loss: 0.4035 - val_acc: 0.9113\n",
      "Epoch 25/30\n",
      "150/150 [==============================] - 7s 47ms/step - loss: 0.1839 - acc: 0.9330 - val_loss: 0.3139 - val_acc: 0.9130\n",
      "Epoch 26/30\n",
      "150/150 [==============================] - 7s 47ms/step - loss: 0.1657 - acc: 0.9366 - val_loss: 0.3289 - val_acc: 0.9138\n",
      "Epoch 27/30\n",
      "150/150 [==============================] - 7s 47ms/step - loss: 0.1604 - acc: 0.9407 - val_loss: 0.3009 - val_acc: 0.9113\n",
      "Epoch 28/30\n",
      "150/150 [==============================] - 7s 47ms/step - loss: 0.1616 - acc: 0.9314 - val_loss: 0.3142 - val_acc: 0.9121\n",
      "Epoch 29/30\n",
      "150/150 [==============================] - 7s 47ms/step - loss: 0.1439 - acc: 0.9457 - val_loss: 0.3164 - val_acc: 0.9172\n",
      "Epoch 30/30\n",
      "150/150 [==============================] - 7s 47ms/step - loss: 0.1337 - acc: 0.9445 - val_loss: 0.3098 - val_acc: 0.9138\n"
     ]
    }
   ],
   "source": [
    "history = model.fit(X_train, y_train, epochs=30, validation_data=(X_test, y_test))"
   ]
  },
  {
   "cell_type": "code",
   "execution_count": 69,
   "id": "20af9a9b",
   "metadata": {
    "scrolled": true
   },
   "outputs": [
    {
     "name": "stdout",
     "output_type": "stream",
     "text": [
      "loss: 0.14230221509933472\n",
      "val_loss: 0.3097744584083557\n"
     ]
    },
    {
     "data": {
      "image/png": "[encoded data removed]",
      "text/plain": [
       "<Figure size 576x576 with 1 Axes>"
      ]
     },
     "metadata": {
      "needs_background": "light"
     },
     "output_type": "display_data"
    },
    {
     "name": "stdout",
     "output_type": "stream",
     "text": [
      "acc: 0.9420138001441956\n",
      "val_acc: 0.9138075113296509\n"
     ]
    },
    {
     "data": {
      "image/png": "[encoded data removed]",
      "text/plain": [
       "<Figure size 576x576 with 1 Axes>"
      ]
     },
     "metadata": {
      "needs_background": "light"
     },
     "output_type": "display_data"
    }
   ],
   "source": [
    "plt.figure(figsize=(8,8))\n",
    "plt.title('Loss Value')\n",
    "plt.plot(history.history['loss'])\n",
    "plt.plot(history.history['val_loss'])\n",
    "plt.legend(['loss', 'val_loss'])\n",
    "print('loss:', history.history['loss'][-1])\n",
    "print('val_loss:', history.history['val_loss'][-1])\n",
    "plt.show()\n",
    "plt.figure(figsize=(8,8))\n",
    "plt.title('Accuracy')\n",
    "plt.plot(history.history['acc'])\n",
    "plt.plot(history.history['val_acc'])\n",
    "plt.legend(['acc', 'val_acc'])\n",
    "print('acc:', history.history['acc'][-1])\n",
    "print('val_acc:', history.history['val_acc'][-1])\n",
    "plt.show()"
   ]
  },
  {
   "cell_type": "markdown",
   "id": "910bf2ec",
   "metadata": {},
   "source": [
    "에폭이 늘어남에따라 성능에 발전이 없음을 확인했다."
   ]
  },
  {
   "cell_type": "code",
   "execution_count": 70,
   "id": "19a7ac31",
   "metadata": {},
   "outputs": [],
   "source": [
    "predictions = model.predict(X_test)"
   ]
  },
  {
   "cell_type": "code",
   "execution_count": 71,
   "id": "5bb9eb32",
   "metadata": {},
   "outputs": [],
   "source": [
    "predictions = np.argmax(predictions, axis=1)\n",
    "y_test = one_hot_encoder.inverse_transform(y_test)"
   ]
  },
  {
   "cell_type": "code",
   "execution_count": 72,
   "id": "51c5b338",
   "metadata": {},
   "outputs": [
    {
     "data": {
      "image/png": "[encoded data removed]",
      "text/plain": [
       "<Figure size 576x576 with 1 Axes>"
      ]
     },
     "metadata": {
      "needs_background": "light"
     },
     "output_type": "display_data"
    }
   ],
   "source": [
    "cm = confusion_matrix(y_test, predictions)\n",
    "plt.figure(figsize=(8,8))\n",
    "sns.heatmap(cm, annot=True, xticklabels=label_encoder.classes_, yticklabels=label_encoder.classes_, fmt='d', cmap=plt.cm.Blues, cbar=False)\n",
    "plt.xlabel('Predicted Label')\n",
    "plt.ylabel('True Label')\n",
    "plt.show()"
   ]
  },
  {
   "cell_type": "markdown",
   "id": "1c620e25",
   "metadata": {},
   "source": [
    "#### * 결과가 크게 나쁘지는 않지만 에폭이 늘어남에 따라 모델의 성능은 개선되지 않았다. \n",
    "\n",
    "#### 이 Pilot Model을 기반으로 좀 더 좋은 성능의 모델을 구축해 보고자 한다."
   ]
  }
 ],
 "metadata": {
  "kernelspec": {
   "display_name": "Python 3",
   "language": "python",
   "name": "python3"
  },
  "language_info": {
   "codemirror_mode": {
    "name": "ipython",
    "version": 3
   },
   "file_extension": ".py",
   "mimetype": "text/x-python",
   "name": "python",
   "nbconvert_exporter": "python",
   "pygments_lexer": "ipython3",
   "version": "3.8.5"
  }
 },
 "nbformat": 4,
 "nbformat_minor": 5
}
