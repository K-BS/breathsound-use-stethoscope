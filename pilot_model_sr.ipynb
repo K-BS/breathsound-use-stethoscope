{
 "cells": [
  {
   "cell_type": "markdown",
   "id": "2f9ea37f",
   "metadata": {},
   "source": [
    "## Pilot Model Introduction"
   ]
  },
  {
   "cell_type": "markdown",
   "id": "ea0e38c3",
   "metadata": {},
   "source": [
    "의사가 청진기를 통해 환자의 호흡음을 평가하는 것은 질병의 진단, 치료에 있어 중요한 작업이다. 현재는 의사1명이 청진기를 통해 호흡음을 듣고 질병의 유무를 판단하지만 이는 정확성, 객관성, 일관성에 있어서 문제가 있을 수 있다. 그러므로 청진기를 통한 호흡음을 듣고 정상, 비정상의 호흡음을 분류할 수 있는 좋은 성능의 딥러닝 모델을 만드는 것이 최종적인 목표이다."
   ]
  },
  {
   "cell_type": "markdown",
   "id": "65472090",
   "metadata": {},
   "source": [
    "정상적인 호흡음과 비정상적인 호흡음은 특정한 패턴으로 분류한다. 먼저 정상적인 호흡음과  천명(Wheezing)이라고 불리는 패턴을 가지는 호흡음(비정상적인)을 분류하는(Binary Classification) 모델을 구축하고자 한다."
   ]
  },
  {
   "cell_type": "markdown",
   "id": "fcdb1ac3",
   "metadata": {},
   "source": [
    "병원 측에서 제공받은 데이터 중 우선적으로 Pilot Model에서 사용할 데이터는 아래와 같다."
   ]
  },
  {
   "cell_type": "markdown",
   "id": "85ff1f31",
   "metadata": {},
   "source": [
    "정상 호흡음을 정상 호흡음이라고 판단한 Audio Data(91개)\n",
    "\n",
    "Wheezing이라고 판단했지만 정상 호흡음 이었던 Audio Data(24개)\n",
    "\n",
    "정상 호흡음이지만 잡음이 많이 들어간 Audio Data(23개)\n",
    "#### --> 총 178개의 Audio Data = Healthy\n",
    "\n",
    "Wheezing을 Wheezing이라고 판단한 Audio Data(74개)\n",
    "\n",
    "Wheezing을 Wheezing이라고 판단했지만 Wheezing구간을 정확히 맞추지 못한 Audio Data(24개)\n",
    "#### --> 총 85개의 Audio Data = Wheezing\n",
    "\n",
    "#### n=4000 random sampling\n",
    "#### sample rate = 48000 으로 통일시킴\n",
    "#### softmax -> sigmoid"
   ]
  },
  {
   "cell_type": "code",
   "execution_count": 1,
   "id": "1ebb028a",
   "metadata": {},
   "outputs": [],
   "source": [
    "import os\n",
    "import librosa\n",
    "import pickle\n",
    "import numpy as np\n",
    "import pandas as pd\n",
    "import matplotlib.pyplot as plt\n",
    "import seaborn as sns\n",
    "from tqdm import tqdm\n",
    "from python_speech_features import mfcc\n",
    "from sklearn.preprocessing import LabelEncoder, OneHotEncoder\n",
    "from sklearn.model_selection import train_test_split\n",
    "from sklearn.metrics import confusion_matrix\n",
    "\n",
    "from imblearn.over_sampling import SMOTE\n",
    "\n",
    "from keras.layers import Conv2D, MaxPool2D, Flatten, Dense, Dropout\n",
    "from keras.models import Sequential"
   ]
  },
  {
   "cell_type": "markdown",
   "id": "314884e3",
   "metadata": {},
   "source": [
    "GPU를 사용하자."
   ]
  },
  {
   "cell_type": "markdown",
   "id": "55e1ab5b",
   "metadata": {},
   "source": [
    "### Data Collection"
   ]
  },
  {
   "cell_type": "markdown",
   "id": "6a9c7b53",
   "metadata": {},
   "source": [
    "위에서 언급한 것처럼 Binary Classification의 간단한 Task다. fname에 File Name, label에 호흡음 정상여부(Wheezing, healthy)가 기록되어 있다."
   ]
  },
  {
   "cell_type": "code",
   "execution_count": 2,
   "id": "74b3cf7e",
   "metadata": {},
   "outputs": [
    {
     "data": {
      "text/html": [
       "<div>\n",
       "<style scoped>\n",
       "    .dataframe tbody tr th:only-of-type {\n",
       "        vertical-align: middle;\n",
       "    }\n",
       "\n",
       "    .dataframe tbody tr th {\n",
       "        vertical-align: top;\n",
       "    }\n",
       "\n",
       "    .dataframe thead th {\n",
       "        text-align: right;\n",
       "    }\n",
       "</style>\n",
       "<table border=\"1\" class=\"dataframe\">\n",
       "  <thead>\n",
       "    <tr style=\"text-align: right;\">\n",
       "      <th></th>\n",
       "      <th>fname</th>\n",
       "      <th>label</th>\n",
       "    </tr>\n",
       "  </thead>\n",
       "  <tbody>\n",
       "    <tr>\n",
       "      <th>0</th>\n",
       "      <td>0001-1.wav</td>\n",
       "      <td>wheezing</td>\n",
       "    </tr>\n",
       "    <tr>\n",
       "      <th>1</th>\n",
       "      <td>0411-2.wav</td>\n",
       "      <td>wheezing</td>\n",
       "    </tr>\n",
       "    <tr>\n",
       "      <th>2</th>\n",
       "      <td>0538-4.wav</td>\n",
       "      <td>wheezing</td>\n",
       "    </tr>\n",
       "    <tr>\n",
       "      <th>3</th>\n",
       "      <td>0581-2.wav</td>\n",
       "      <td>wheezing</td>\n",
       "    </tr>\n",
       "    <tr>\n",
       "      <th>4</th>\n",
       "      <td>0597-4.wav</td>\n",
       "      <td>wheezing</td>\n",
       "    </tr>\n",
       "  </tbody>\n",
       "</table>\n",
       "</div>"
      ],
      "text/plain": [
       "        fname     label\n",
       "0  0001-1.wav  wheezing\n",
       "1  0411-2.wav  wheezing\n",
       "2  0538-4.wav  wheezing\n",
       "3  0581-2.wav  wheezing\n",
       "4  0597-4.wav  wheezing"
      ]
     },
     "execution_count": 2,
     "metadata": {},
     "output_type": "execute_result"
    }
   ],
   "source": [
    "df = pd.read_csv('data/data1.csv')\n",
    "df.head()"
   ]
  },
  {
   "cell_type": "code",
   "execution_count": 3,
   "id": "09942010",
   "metadata": {},
   "outputs": [],
   "source": [
    "df = df[df['label'].isin(['wheezing','healthy'])]"
   ]
  },
  {
   "cell_type": "markdown",
   "id": "e99e023e",
   "metadata": {},
   "source": [
    "Numpy array로 바꿔주자."
   ]
  },
  {
   "cell_type": "code",
   "execution_count": 4,
   "id": "8477e0bb",
   "metadata": {
    "scrolled": true
   },
   "outputs": [
    {
     "name": "stderr",
     "output_type": "stream",
     "text": [
      "100%|██████████| 263/263 [00:01<00:00, 133.32it/s]\n",
      "<ipython-input-4-8c97eb1d7327>:5: VisibleDeprecationWarning: Creating an ndarray from ragged nested sequences (which is a list-or-tuple of lists-or-tuples-or ndarrays with different lengths or shapes) is deprecated. If you meant to do this, you must specify 'dtype=object' when creating the ndarray\n",
      "  audio_data = np.array(audio_data)\n"
     ]
    }
   ],
   "source": [
    "path = 'data/all_data/'\n",
    "audio_data = list()\n",
    "for i in tqdm(range(df.shape[0])):\n",
    "    audio_data.append(librosa.load(path+df['fname'].iloc[i], sr=48000))\n",
    "audio_data = np.array(audio_data)"
   ]
  },
  {
   "cell_type": "markdown",
   "id": "60e7a8ff",
   "metadata": {},
   "source": [
    "확인해보자."
   ]
  },
  {
   "cell_type": "code",
   "execution_count": 5,
   "id": "1ac7a2ee",
   "metadata": {},
   "outputs": [
    {
     "data": {
      "text/html": [
       "<div>\n",
       "<style scoped>\n",
       "    .dataframe tbody tr th:only-of-type {\n",
       "        vertical-align: middle;\n",
       "    }\n",
       "\n",
       "    .dataframe tbody tr th {\n",
       "        vertical-align: top;\n",
       "    }\n",
       "\n",
       "    .dataframe thead th {\n",
       "        text-align: right;\n",
       "    }\n",
       "</style>\n",
       "<table border=\"1\" class=\"dataframe\">\n",
       "  <thead>\n",
       "    <tr style=\"text-align: right;\">\n",
       "      <th></th>\n",
       "      <th>fname</th>\n",
       "      <th>label</th>\n",
       "      <th>audio_waves</th>\n",
       "      <th>samplerate</th>\n",
       "    </tr>\n",
       "  </thead>\n",
       "  <tbody>\n",
       "    <tr>\n",
       "      <th>0</th>\n",
       "      <td>0001-1.wav</td>\n",
       "      <td>wheezing</td>\n",
       "      <td>[4.4317976e-06, -3.2788844e-06, -7.221255e-06,...</td>\n",
       "      <td>48000</td>\n",
       "    </tr>\n",
       "    <tr>\n",
       "      <th>1</th>\n",
       "      <td>0411-2.wav</td>\n",
       "      <td>wheezing</td>\n",
       "      <td>[0.011169434, 0.010559082, 0.009841919, 0.0092...</td>\n",
       "      <td>48000</td>\n",
       "    </tr>\n",
       "    <tr>\n",
       "      <th>2</th>\n",
       "      <td>0538-4.wav</td>\n",
       "      <td>wheezing</td>\n",
       "      <td>[0.023513794, 0.024230957, 0.024887085, 0.0255...</td>\n",
       "      <td>48000</td>\n",
       "    </tr>\n",
       "    <tr>\n",
       "      <th>3</th>\n",
       "      <td>0581-2.wav</td>\n",
       "      <td>wheezing</td>\n",
       "      <td>[0.028701782, 0.028396606, 0.028213501, 0.0278...</td>\n",
       "      <td>48000</td>\n",
       "    </tr>\n",
       "    <tr>\n",
       "      <th>4</th>\n",
       "      <td>0597-4.wav</td>\n",
       "      <td>wheezing</td>\n",
       "      <td>[-0.019241333, -0.01977539, -0.02027893, -0.02...</td>\n",
       "      <td>48000</td>\n",
       "    </tr>\n",
       "  </tbody>\n",
       "</table>\n",
       "</div>"
      ],
      "text/plain": [
       "        fname     label                                        audio_waves  \\\n",
       "0  0001-1.wav  wheezing  [4.4317976e-06, -3.2788844e-06, -7.221255e-06,...   \n",
       "1  0411-2.wav  wheezing  [0.011169434, 0.010559082, 0.009841919, 0.0092...   \n",
       "2  0538-4.wav  wheezing  [0.023513794, 0.024230957, 0.024887085, 0.0255...   \n",
       "3  0581-2.wav  wheezing  [0.028701782, 0.028396606, 0.028213501, 0.0278...   \n",
       "4  0597-4.wav  wheezing  [-0.019241333, -0.01977539, -0.02027893, -0.02...   \n",
       "\n",
       "  samplerate  \n",
       "0      48000  \n",
       "1      48000  \n",
       "2      48000  \n",
       "3      48000  \n",
       "4      48000  "
      ]
     },
     "execution_count": 5,
     "metadata": {},
     "output_type": "execute_result"
    }
   ],
   "source": [
    "df['audio_waves'] = audio_data[:,0]\n",
    "df['samplerate'] = audio_data[:,1]\n",
    "df.head()"
   ]
  },
  {
   "cell_type": "markdown",
   "id": "fe9763ef",
   "metadata": {},
   "source": [
    "bit_lengths와 second_lenghts를 생성한다.\n",
    "\n",
    "#### bit_lengths = The number of bits in each audio waves.\n",
    "\n",
    "#### second_lenths = The length of all audio files in seconds.(bit_lenths/samplerate)"
   ]
  },
  {
   "cell_type": "code",
   "execution_count": 6,
   "id": "5e145baa",
   "metadata": {},
   "outputs": [
    {
     "data": {
      "text/html": [
       "<div>\n",
       "<style scoped>\n",
       "    .dataframe tbody tr th:only-of-type {\n",
       "        vertical-align: middle;\n",
       "    }\n",
       "\n",
       "    .dataframe tbody tr th {\n",
       "        vertical-align: top;\n",
       "    }\n",
       "\n",
       "    .dataframe thead th {\n",
       "        text-align: right;\n",
       "    }\n",
       "</style>\n",
       "<table border=\"1\" class=\"dataframe\">\n",
       "  <thead>\n",
       "    <tr style=\"text-align: right;\">\n",
       "      <th></th>\n",
       "      <th>fname</th>\n",
       "      <th>label</th>\n",
       "      <th>audio_waves</th>\n",
       "      <th>samplerate</th>\n",
       "      <th>bit_lengths</th>\n",
       "      <th>second_lengths</th>\n",
       "    </tr>\n",
       "  </thead>\n",
       "  <tbody>\n",
       "    <tr>\n",
       "      <th>0</th>\n",
       "      <td>0001-1.wav</td>\n",
       "      <td>wheezing</td>\n",
       "      <td>[4.4317976e-06, -3.2788844e-06, -7.221255e-06,...</td>\n",
       "      <td>48000</td>\n",
       "      <td>432430</td>\n",
       "      <td>9.008958</td>\n",
       "    </tr>\n",
       "    <tr>\n",
       "      <th>1</th>\n",
       "      <td>0411-2.wav</td>\n",
       "      <td>wheezing</td>\n",
       "      <td>[0.011169434, 0.010559082, 0.009841919, 0.0092...</td>\n",
       "      <td>48000</td>\n",
       "      <td>345945</td>\n",
       "      <td>7.207187</td>\n",
       "    </tr>\n",
       "    <tr>\n",
       "      <th>2</th>\n",
       "      <td>0538-4.wav</td>\n",
       "      <td>wheezing</td>\n",
       "      <td>[0.023513794, 0.024230957, 0.024887085, 0.0255...</td>\n",
       "      <td>48000</td>\n",
       "      <td>281881</td>\n",
       "      <td>5.872521</td>\n",
       "    </tr>\n",
       "    <tr>\n",
       "      <th>3</th>\n",
       "      <td>0581-2.wav</td>\n",
       "      <td>wheezing</td>\n",
       "      <td>[0.028701782, 0.028396606, 0.028213501, 0.0278...</td>\n",
       "      <td>48000</td>\n",
       "      <td>358758</td>\n",
       "      <td>7.474125</td>\n",
       "    </tr>\n",
       "    <tr>\n",
       "      <th>4</th>\n",
       "      <td>0597-4.wav</td>\n",
       "      <td>wheezing</td>\n",
       "      <td>[-0.019241333, -0.01977539, -0.02027893, -0.02...</td>\n",
       "      <td>48000</td>\n",
       "      <td>967366</td>\n",
       "      <td>20.153458</td>\n",
       "    </tr>\n",
       "  </tbody>\n",
       "</table>\n",
       "</div>"
      ],
      "text/plain": [
       "        fname     label                                        audio_waves  \\\n",
       "0  0001-1.wav  wheezing  [4.4317976e-06, -3.2788844e-06, -7.221255e-06,...   \n",
       "1  0411-2.wav  wheezing  [0.011169434, 0.010559082, 0.009841919, 0.0092...   \n",
       "2  0538-4.wav  wheezing  [0.023513794, 0.024230957, 0.024887085, 0.0255...   \n",
       "3  0581-2.wav  wheezing  [0.028701782, 0.028396606, 0.028213501, 0.0278...   \n",
       "4  0597-4.wav  wheezing  [-0.019241333, -0.01977539, -0.02027893, -0.02...   \n",
       "\n",
       "  samplerate  bit_lengths second_lengths  \n",
       "0      48000       432430       9.008958  \n",
       "1      48000       345945       7.207187  \n",
       "2      48000       281881       5.872521  \n",
       "3      48000       358758       7.474125  \n",
       "4      48000       967366      20.153458  "
      ]
     },
     "execution_count": 6,
     "metadata": {},
     "output_type": "execute_result"
    }
   ],
   "source": [
    "bit_lengths = list()\n",
    "for i in range(df.shape[0]):\n",
    "    bit_lengths.append(len(df['audio_waves'].iloc[i]))\n",
    "bit_lengths = np.array(bit_lengths)\n",
    "df['bit_lengths'] = bit_lengths\n",
    "df['second_lengths'] = df['bit_lengths']/df['samplerate']\n",
    "df.head()"
   ]
  },
  {
   "cell_type": "markdown",
   "id": "fb92e743",
   "metadata": {},
   "source": [
    "### Data Generate"
   ]
  },
  {
   "cell_type": "markdown",
   "id": "02e5ac3e",
   "metadata": {},
   "source": [
    "2 seconds 보다 짝으면 drop."
   ]
  },
  {
   "cell_type": "code",
   "execution_count": 7,
   "id": "4e49f12d",
   "metadata": {},
   "outputs": [],
   "source": [
    "df = df[df['second_lengths'] >= 2.0]"
   ]
  },
  {
   "cell_type": "markdown",
   "id": "5c8e1856",
   "metadata": {},
   "source": [
    "min값을 출력해 체크해보자."
   ]
  },
  {
   "cell_type": "code",
   "execution_count": 8,
   "id": "fcaf909b",
   "metadata": {},
   "outputs": [
    {
     "name": "stdout",
     "output_type": "stream",
     "text": [
      "104735\n",
      "2.181979166666667\n"
     ]
    }
   ],
   "source": [
    "min_bits = np.min(df['bit_lengths'])\n",
    "print(min_bits)\n",
    "min_seconds = np.min(df['second_lengths'])\n",
    "print(min_seconds)"
   ]
  },
  {
   "cell_type": "markdown",
   "id": "38c5f86b",
   "metadata": {},
   "source": [
    "데이터 프레임을 pickle로 저장하자."
   ]
  },
  {
   "cell_type": "code",
   "execution_count": 9,
   "id": "4dc8664e",
   "metadata": {},
   "outputs": [],
   "source": [
    "with open('audio_df.pickle', 'wb') as f:\n",
    "    pickle.dump(df, f)"
   ]
  },
  {
   "cell_type": "code",
   "execution_count": 10,
   "id": "cf9e45f2",
   "metadata": {},
   "outputs": [],
   "source": [
    "with open('audio_df.pickle', 'rb') as f:\n",
    "    df = pickle.load(f)"
   ]
  },
  {
   "cell_type": "markdown",
   "id": "b7b6e8d6",
   "metadata": {},
   "source": [
    "아래 그림처럼 Random Sampling을 통해 data generate"
   ]
  },
  {
   "cell_type": "markdown",
   "id": "7f779c8e",
   "metadata": {},
   "source": [
    "![1_SQr0VgPZF2pvzVVpYiH-PQ](https://user-images.githubusercontent.com/74411831/122634903-e4ed2100-d11b-11eb-9ede-ee6eb18fbae3.jpeg)"
   ]
  },
  {
   "cell_type": "code",
   "execution_count": 11,
   "id": "75805f0d",
   "metadata": {},
   "outputs": [
    {
     "name": "stderr",
     "output_type": "stream",
     "text": [
      "100%|██████████| 4000/4000 [00:04<00:00, 946.27it/s]\n"
     ]
    }
   ],
   "source": [
    "num_samples = 4000\n",
    "generated_audio_waves = list()\n",
    "generated_audio_labels = list()\n",
    "for i in tqdm(range(num_samples)):\n",
    "    try:\n",
    "        chosen_file = np.random.choice(df['fname'].values)\n",
    "        chosen_initial = np.random.choice(np.arange(0,df[df['fname']==chosen_file]['bit_lengths'].values-min_bits))\n",
    "        generated_audio_waves.append(df[df['fname']==chosen_file]['audio_waves'].values[0][chosen_initial:chosen_initial+min_bits])\n",
    "        \n",
    "        generated_audio_labels.append(df[df['fname']==chosen_file]['label'].values)\n",
    "    except ValueError:\n",
    "        continue\n",
    "generated_audio_waves = np.array(generated_audio_waves)\n",
    "generated_audio_labels = np.array(generated_audio_labels)"
   ]
  },
  {
   "cell_type": "markdown",
   "id": "1dbaf966",
   "metadata": {},
   "source": [
    "MFCC로 Feature를 뽑는다."
   ]
  },
  {
   "cell_type": "code",
   "execution_count": 12,
   "id": "0ae55563",
   "metadata": {},
   "outputs": [
    {
     "name": "stderr",
     "output_type": "stream",
     "text": [
      "100%|██████████| 3975/3975 [01:14<00:00, 53.23it/s]\n"
     ]
    }
   ],
   "source": [
    "mfcc_features = list()\n",
    "for i in tqdm(range(len(generated_audio_waves))):\n",
    "    mfcc_features.append(mfcc(generated_audio_waves[i], samplerate=48000, nfft=2048))\n",
    "mfcc_features = np.array(mfcc_features)"
   ]
  },
  {
   "cell_type": "code",
   "execution_count": 13,
   "id": "09ef8808",
   "metadata": {},
   "outputs": [
    {
     "name": "stdout",
     "output_type": "stream",
     "text": [
      "(3975, 104735)\n",
      "(3975, 217, 13)\n"
     ]
    }
   ],
   "source": [
    "print(generated_audio_waves.shape)\n",
    "print(mfcc_features.shape)"
   ]
  },
  {
   "cell_type": "markdown",
   "id": "950a484e",
   "metadata": {},
   "source": [
    "Audio Data와 MFCC를 비교. 잘 뽑혔는지 확인하자."
   ]
  },
  {
   "cell_type": "code",
   "execution_count": 14,
   "id": "d006c53c",
   "metadata": {},
   "outputs": [
    {
     "data": {
      "image/png": "[encoded data removed]",
      "text/plain": [
       "<Figure size 864x144 with 1 Axes>"
      ]
     },
     "metadata": {
      "needs_background": "light"
     },
     "output_type": "display_data"
    },
    {
     "data": {
      "image/png": "[encoded data removed]",
      "text/plain": [
       "<Figure size 864x144 with 1 Axes>"
      ]
     },
     "metadata": {
      "needs_background": "light"
     },
     "output_type": "display_data"
    }
   ],
   "source": [
    "plt.figure(figsize=(12,2))\n",
    "plt.plot(generated_audio_waves[30])\n",
    "plt.title(generated_audio_labels[30])\n",
    "plt.show()\n",
    "plt.figure(figsize=(12, 2))\n",
    "plt.imshow(mfcc_features[30].T, cmap='hot')\n",
    "plt.title(generated_audio_labels[30])\n",
    "plt.show()"
   ]
  },
  {
   "cell_type": "markdown",
   "id": "e1acc406",
   "metadata": {},
   "source": [
    "### Pre-processing"
   ]
  },
  {
   "cell_type": "code",
   "execution_count": 15,
   "id": "507eec0d",
   "metadata": {},
   "outputs": [
    {
     "name": "stdout",
     "output_type": "stream",
     "text": [
      "[0 0 0 ... 0 1 1]\n"
     ]
    },
    {
     "name": "stderr",
     "output_type": "stream",
     "text": [
      "/home/nextgen/anaconda3/envs/kbs_coin/lib/python3.8/site-packages/sklearn/utils/validation.py:63: DataConversionWarning: A column-vector y was passed when a 1d array was expected. Please change the shape of y to (n_samples, ), for example using ravel().\n",
      "  return f(*args, **kwargs)\n"
     ]
    }
   ],
   "source": [
    "label_encoder = LabelEncoder()\n",
    "label_encoded = label_encoder.fit_transform(generated_audio_labels)\n",
    "print(label_encoded)"
   ]
  },
  {
   "cell_type": "code",
   "execution_count": 16,
   "id": "c4a221b4",
   "metadata": {},
   "outputs": [
    {
     "data": {
      "text/plain": [
       "array([[0],\n",
       "       [0],\n",
       "       [0],\n",
       "       ...,\n",
       "       [0],\n",
       "       [1],\n",
       "       [1]])"
      ]
     },
     "execution_count": 16,
     "metadata": {},
     "output_type": "execute_result"
    }
   ],
   "source": [
    "label_encoded = label_encoded[:, np.newaxis]\n",
    "label_encoded"
   ]
  },
  {
   "cell_type": "code",
   "execution_count": 17,
   "id": "aaefa9f0",
   "metadata": {},
   "outputs": [
    {
     "data": {
      "text/plain": [
       "array([[1., 0.],\n",
       "       [1., 0.],\n",
       "       [1., 0.],\n",
       "       ...,\n",
       "       [1., 0.],\n",
       "       [0., 1.],\n",
       "       [0., 1.]])"
      ]
     },
     "execution_count": 17,
     "metadata": {},
     "output_type": "execute_result"
    }
   ],
   "source": [
    "one_hot_encoder = OneHotEncoder(sparse=False)\n",
    "one_hot_encoded = one_hot_encoder.fit_transform(label_encoded)\n",
    "one_hot_encoded"
   ]
  },
  {
   "cell_type": "markdown",
   "id": "0c797a90",
   "metadata": {},
   "source": [
    "### Training(CNN Model)"
   ]
  },
  {
   "cell_type": "markdown",
   "id": "f37c9f58",
   "metadata": {},
   "source": [
    "MinMax Normalization 및 split"
   ]
  },
  {
   "cell_type": "code",
   "execution_count": 18,
   "id": "4f8c579e",
   "metadata": {},
   "outputs": [],
   "source": [
    "X = mfcc_features\n",
    "y = one_hot_encoded"
   ]
  },
  {
   "cell_type": "code",
   "execution_count": 19,
   "id": "20c99702",
   "metadata": {},
   "outputs": [],
   "source": [
    "X = (X-X.min())/(X.max()-X.min())\n",
    "X_train, X_test, y_train, y_test = train_test_split(X, y, test_size=0.2)"
   ]
  },
  {
   "cell_type": "code",
   "execution_count": 20,
   "id": "e36f4ac0",
   "metadata": {},
   "outputs": [],
   "source": [
    "input_shape = (X_train.shape[1], X_train.shape[2], 1)"
   ]
  },
  {
   "cell_type": "code",
   "execution_count": 21,
   "id": "e76067e0",
   "metadata": {},
   "outputs": [
    {
     "name": "stdout",
     "output_type": "stream",
     "text": [
      "(3180, 217, 13, 1)\n",
      "(795, 217, 13, 1)\n"
     ]
    }
   ],
   "source": [
    "X_train = X_train.reshape(X_train.shape[0], X_train.shape[1], X_train.shape[2], 1)\n",
    "print(X_train.shape)\n",
    "X_test = X_test.reshape(X_test.shape[0], X_test.shape[1], X_test.shape[2], 1)\n",
    "print(X_test.shape)"
   ]
  },
  {
   "cell_type": "code",
   "execution_count": 22,
   "id": "d0e22fbb",
   "metadata": {},
   "outputs": [],
   "source": [
    "model = Sequential()\n",
    "model.add(Conv2D(32, (3, 3), activation='relu', strides=(1, 1), \n",
    "    padding='same', input_shape=input_shape))\n",
    "model.add(MaxPool2D((2, 2)))\n",
    "model.add(Dropout(0.4))\n",
    "model.add(Flatten())\n",
    "model.add(Dense(64, activation='relu'))\n",
    "model.add(Dropout(0.4))\n",
    "model.add(Dense(2, activation='sigmoid'))\n",
    "\n",
    "model.compile(loss='binary_crossentropy', \n",
    "     optimizer='adam',\n",
    "     metrics=['acc'])"
   ]
  },
  {
   "cell_type": "code",
   "execution_count": 23,
   "id": "43858ec8",
   "metadata": {},
   "outputs": [
    {
     "name": "stdout",
     "output_type": "stream",
     "text": [
      "Model: \"sequential\"\n",
      "_________________________________________________________________\n",
      "Layer (type)                 Output Shape              Param #   \n",
      "=================================================================\n",
      "conv2d (Conv2D)              (None, 217, 13, 32)       320       \n",
      "_________________________________________________________________\n",
      "max_pooling2d (MaxPooling2D) (None, 108, 6, 32)        0         \n",
      "_________________________________________________________________\n",
      "dropout (Dropout)            (None, 108, 6, 32)        0         \n",
      "_________________________________________________________________\n",
      "flatten (Flatten)            (None, 20736)             0         \n",
      "_________________________________________________________________\n",
      "dense (Dense)                (None, 64)                1327168   \n",
      "_________________________________________________________________\n",
      "dropout_1 (Dropout)          (None, 64)                0         \n",
      "_________________________________________________________________\n",
      "dense_1 (Dense)              (None, 2)                 130       \n",
      "=================================================================\n",
      "Total params: 1,327,618\n",
      "Trainable params: 1,327,618\n",
      "Non-trainable params: 0\n",
      "_________________________________________________________________\n"
     ]
    }
   ],
   "source": [
    "model.summary()"
   ]
  },
  {
   "cell_type": "code",
   "execution_count": 24,
   "id": "1c442778",
   "metadata": {},
   "outputs": [
    {
     "name": "stdout",
     "output_type": "stream",
     "text": [
      "Epoch 1/40\n",
      "100/100 [==============================] - 11s 17ms/step - loss: 0.5258 - acc: 0.7055 - val_loss: 0.3971 - val_acc: 0.8918\n",
      "Epoch 2/40\n",
      "100/100 [==============================] - 1s 14ms/step - loss: 0.4211 - acc: 0.8795 - val_loss: 0.3794 - val_acc: 0.8956\n",
      "Epoch 3/40\n",
      "100/100 [==============================] - 1s 14ms/step - loss: 0.3943 - acc: 0.8952 - val_loss: 0.3620 - val_acc: 0.8956\n",
      "Epoch 4/40\n",
      "100/100 [==============================] - 1s 14ms/step - loss: 0.3554 - acc: 0.9031 - val_loss: 0.3489 - val_acc: 0.8981\n",
      "Epoch 5/40\n",
      "100/100 [==============================] - 1s 14ms/step - loss: 0.3563 - acc: 0.8990 - val_loss: 0.3307 - val_acc: 0.9057\n",
      "Epoch 6/40\n",
      "100/100 [==============================] - 1s 14ms/step - loss: 0.3333 - acc: 0.9088 - val_loss: 0.3615 - val_acc: 0.9094\n",
      "Epoch 7/40\n",
      "100/100 [==============================] - 1s 14ms/step - loss: 0.3299 - acc: 0.9138 - val_loss: 0.3134 - val_acc: 0.9044\n",
      "Epoch 8/40\n",
      "100/100 [==============================] - 1s 14ms/step - loss: 0.3200 - acc: 0.9070 - val_loss: 0.3043 - val_acc: 0.9082\n",
      "Epoch 9/40\n",
      "100/100 [==============================] - 1s 14ms/step - loss: 0.3079 - acc: 0.9124 - val_loss: 0.2997 - val_acc: 0.9082\n",
      "Epoch 10/40\n",
      "100/100 [==============================] - 1s 14ms/step - loss: 0.3130 - acc: 0.9119 - val_loss: 0.2965 - val_acc: 0.9094\n",
      "Epoch 11/40\n",
      "100/100 [==============================] - 1s 14ms/step - loss: 0.3156 - acc: 0.9093 - val_loss: 0.2885 - val_acc: 0.9145\n",
      "Epoch 12/40\n",
      "100/100 [==============================] - 1s 14ms/step - loss: 0.3017 - acc: 0.9168 - val_loss: 0.2832 - val_acc: 0.9132\n",
      "Epoch 13/40\n",
      "100/100 [==============================] - 1s 14ms/step - loss: 0.3016 - acc: 0.9052 - val_loss: 0.2856 - val_acc: 0.9145\n",
      "Epoch 14/40\n",
      "100/100 [==============================] - 1s 14ms/step - loss: 0.2873 - acc: 0.9096 - val_loss: 0.2834 - val_acc: 0.9119\n",
      "Epoch 15/40\n",
      "100/100 [==============================] - 1s 14ms/step - loss: 0.2964 - acc: 0.8980 - val_loss: 0.2765 - val_acc: 0.9145\n",
      "Epoch 16/40\n",
      "100/100 [==============================] - 1s 14ms/step - loss: 0.2892 - acc: 0.9096 - val_loss: 0.2851 - val_acc: 0.9145\n",
      "Epoch 17/40\n",
      "100/100 [==============================] - 1s 14ms/step - loss: 0.2879 - acc: 0.9119 - val_loss: 0.2779 - val_acc: 0.9145\n",
      "Epoch 18/40\n",
      "100/100 [==============================] - 1s 14ms/step - loss: 0.2698 - acc: 0.9109 - val_loss: 0.2790 - val_acc: 0.9145\n",
      "Epoch 19/40\n",
      "100/100 [==============================] - 1s 14ms/step - loss: 0.2818 - acc: 0.9080 - val_loss: 0.2647 - val_acc: 0.9132\n",
      "Epoch 20/40\n",
      "100/100 [==============================] - 1s 14ms/step - loss: 0.2527 - acc: 0.9177 - val_loss: 0.2707 - val_acc: 0.9132\n",
      "Epoch 21/40\n",
      "100/100 [==============================] - 1s 14ms/step - loss: 0.2542 - acc: 0.9120 - val_loss: 0.2655 - val_acc: 0.9094\n",
      "Epoch 22/40\n",
      "100/100 [==============================] - 1s 14ms/step - loss: 0.2613 - acc: 0.9167 - val_loss: 0.2928 - val_acc: 0.9157\n",
      "Epoch 23/40\n",
      "100/100 [==============================] - 1s 14ms/step - loss: 0.2470 - acc: 0.9193 - val_loss: 0.2656 - val_acc: 0.9157\n",
      "Epoch 24/40\n",
      "100/100 [==============================] - 1s 14ms/step - loss: 0.2494 - acc: 0.9214 - val_loss: 0.2586 - val_acc: 0.9170\n",
      "Epoch 25/40\n",
      "100/100 [==============================] - 1s 14ms/step - loss: 0.2428 - acc: 0.9193 - val_loss: 0.2727 - val_acc: 0.9119\n",
      "Epoch 26/40\n",
      "100/100 [==============================] - 1s 15ms/step - loss: 0.2582 - acc: 0.9108 - val_loss: 0.2778 - val_acc: 0.9145\n",
      "Epoch 27/40\n",
      "100/100 [==============================] - 2s 16ms/step - loss: 0.2421 - acc: 0.9189 - val_loss: 0.2607 - val_acc: 0.9157\n",
      "Epoch 28/40\n",
      "100/100 [==============================] - 1s 14ms/step - loss: 0.2452 - acc: 0.9139 - val_loss: 0.2562 - val_acc: 0.9132\n",
      "Epoch 29/40\n",
      "100/100 [==============================] - 1s 14ms/step - loss: 0.2405 - acc: 0.9257 - val_loss: 0.2539 - val_acc: 0.9157\n",
      "Epoch 30/40\n",
      "100/100 [==============================] - 1s 14ms/step - loss: 0.2433 - acc: 0.9196 - val_loss: 0.2550 - val_acc: 0.9170\n",
      "Epoch 31/40\n",
      "100/100 [==============================] - 1s 14ms/step - loss: 0.2333 - acc: 0.9145 - val_loss: 0.2596 - val_acc: 0.9182\n",
      "Epoch 32/40\n",
      "100/100 [==============================] - 1s 14ms/step - loss: 0.2403 - acc: 0.9197 - val_loss: 0.2575 - val_acc: 0.9157\n",
      "Epoch 33/40\n",
      "100/100 [==============================] - 1s 14ms/step - loss: 0.2363 - acc: 0.9183 - val_loss: 0.2813 - val_acc: 0.9170\n",
      "Epoch 34/40\n",
      "100/100 [==============================] - 1s 15ms/step - loss: 0.2101 - acc: 0.9314 - val_loss: 0.2521 - val_acc: 0.9145\n",
      "Epoch 35/40\n",
      "100/100 [==============================] - 1s 14ms/step - loss: 0.2278 - acc: 0.9202 - val_loss: 0.2662 - val_acc: 0.9157\n",
      "Epoch 36/40\n",
      "100/100 [==============================] - 1s 15ms/step - loss: 0.2286 - acc: 0.9218 - val_loss: 0.2666 - val_acc: 0.9182\n",
      "Epoch 37/40\n",
      "100/100 [==============================] - 1s 14ms/step - loss: 0.2168 - acc: 0.9280 - val_loss: 0.2951 - val_acc: 0.9170\n",
      "Epoch 38/40\n",
      "100/100 [==============================] - 1s 14ms/step - loss: 0.2347 - acc: 0.9148 - val_loss: 0.2572 - val_acc: 0.9182\n",
      "Epoch 39/40\n",
      "100/100 [==============================] - 1s 14ms/step - loss: 0.2084 - acc: 0.9287 - val_loss: 0.2565 - val_acc: 0.9170\n",
      "Epoch 40/40\n",
      "100/100 [==============================] - 1s 14ms/step - loss: 0.2260 - acc: 0.9189 - val_loss: 0.2658 - val_acc: 0.9195\n"
     ]
    }
   ],
   "source": [
    "history = model.fit(X_train, y_train, epochs=40, validation_data=(X_test, y_test))"
   ]
  },
  {
   "cell_type": "code",
   "execution_count": 25,
   "id": "8b72e7e0",
   "metadata": {},
   "outputs": [
    {
     "name": "stdout",
     "output_type": "stream",
     "text": [
      "loss: 0.22604422271251678\n",
      "val_loss: 0.265842080116272\n"
     ]
    },
    {
     "data": {
      "image/png": "[encoded data removed]",
      "text/plain": [
       "<Figure size 576x576 with 1 Axes>"
      ]
     },
     "metadata": {
      "needs_background": "light"
     },
     "output_type": "display_data"
    },
    {
     "name": "stdout",
     "output_type": "stream",
     "text": [
      "acc: 0.9188679456710815\n",
      "val_acc: 0.9194968342781067\n"
     ]
    },
    {
     "data": {
      "image/png": "[encoded data removed]",
      "text/plain": [
       "<Figure size 576x576 with 1 Axes>"
      ]
     },
     "metadata": {
      "needs_background": "light"
     },
     "output_type": "display_data"
    }
   ],
   "source": [
    "plt.figure(figsize=(8,8))\n",
    "plt.title('Loss Value')\n",
    "plt.plot(history.history['loss'])\n",
    "plt.plot(history.history['val_loss'])\n",
    "plt.legend(['loss', 'val_loss'])\n",
    "print('loss:', history.history['loss'][-1])\n",
    "print('val_loss:', history.history['val_loss'][-1])\n",
    "plt.show()\n",
    "plt.figure(figsize=(8,8))\n",
    "plt.title('Accuracy')\n",
    "plt.plot(history.history['acc'])\n",
    "plt.plot(history.history['val_acc'])\n",
    "plt.legend(['acc', 'val_acc'])\n",
    "print('acc:', history.history['acc'][-1])\n",
    "print('val_acc:', history.history['val_acc'][-1])\n",
    "plt.show()"
   ]
  },
  {
   "cell_type": "markdown",
   "id": "81739f3e",
   "metadata": {},
   "source": [
    "### 성능이 많이 개선되었다."
   ]
  },
  {
   "cell_type": "code",
   "execution_count": 26,
   "id": "4d8391b4",
   "metadata": {},
   "outputs": [],
   "source": [
    "predictions = model.predict(X_test)"
   ]
  },
  {
   "cell_type": "code",
   "execution_count": 27,
   "id": "a5fc23d0",
   "metadata": {},
   "outputs": [],
   "source": [
    "predictions = np.argmax(predictions, axis=1)\n",
    "y_test = one_hot_encoder.inverse_transform(y_test)"
   ]
  },
  {
   "cell_type": "code",
   "execution_count": 28,
   "id": "7acd3d7e",
   "metadata": {},
   "outputs": [
    {
     "data": {
      "image/png": "[encoded data removed]",
      "text/plain": [
       "<Figure size 576x576 with 1 Axes>"
      ]
     },
     "metadata": {
      "needs_background": "light"
     },
     "output_type": "display_data"
    }
   ],
   "source": [
    "cm = confusion_matrix(y_test, predictions)\n",
    "plt.figure(figsize=(8,8))\n",
    "sns.heatmap(cm, annot=True, xticklabels=label_encoder.classes_, yticklabels=label_encoder.classes_, fmt='d', cmap=plt.cm.Blues, cbar=False)\n",
    "plt.xlabel('Predicted Label')\n",
    "plt.ylabel('True Label')\n",
    "plt.show()"
   ]
  },
  {
   "cell_type": "code",
   "execution_count": null,
   "id": "aa00872b",
   "metadata": {},
   "outputs": [],
   "source": []
  },
  {
   "cell_type": "code",
   "execution_count": null,
   "id": "169d3ce7",
   "metadata": {},
   "outputs": [],
   "source": []
  },
  {
   "cell_type": "code",
   "execution_count": null,
   "id": "71b4c13c",
   "metadata": {},
   "outputs": [],
   "source": []
  }
 ],
 "metadata": {
  "kernelspec": {
   "display_name": "Python 3",
   "language": "python",
   "name": "python3"
  },
  "language_info": {
   "codemirror_mode": {
    "name": "ipython",
    "version": 3
   },
   "file_extension": ".py",
   "mimetype": "text/x-python",
   "name": "python",
   "nbconvert_exporter": "python",
   "pygments_lexer": "ipython3",
   "version": "3.8.5"
  }
 },
 "nbformat": 4,
 "nbformat_minor": 5
}
