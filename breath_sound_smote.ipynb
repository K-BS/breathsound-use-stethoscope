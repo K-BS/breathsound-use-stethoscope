{
 "cells": [
  {
   "cell_type": "markdown",
   "id": "2f9ea37f",
   "metadata": {},
   "source": [
    "## 청진음 모델(add SMOTE Method)"
   ]
  },
  {
   "cell_type": "markdown",
   "id": "85ff1f31",
   "metadata": {},
   "source": [
    "정상 호흡음을 정상 호흡음이라고 판단한 Audio Data(91개)\n",
    "\n",
    "Wheezing이라고 판단했지만 정상 호흡음 이었던 Audio Data(24개)\n",
    "\n",
    "정상 호흡음이지만 잡음이 많이 들어간 Audio Data(23개)\n",
    "#### --> 총 178개의 Audio Data = Healthy\n",
    "\n",
    "Wheezing을 Wheezing이라고 판단한 Audio Data(74개)\n",
    "\n",
    "Wheezing을 Wheezing이라고 판단했지만 Wheezing구간을 정확히 맞추지 못한 Audio Data(24개)\n",
    "#### --> 총 85개의 Audio Data = Wheezing"
   ]
  },
  {
   "cell_type": "markdown",
   "id": "648db0fc",
   "metadata": {},
   "source": [
    "Wheezing, Healthy data 간 불균형(Imbalance)이 보임.\n",
    "SMOTE(Syntetic Minority Oversampling Technique) 기법으로 불균형을 해소하고자 한다."
   ]
  },
  {
   "cell_type": "markdown",
   "id": "002c5827",
   "metadata": {},
   "source": [
    "전처리 과정들은 마크다운 없이 진행한다."
   ]
  },
  {
   "cell_type": "code",
   "execution_count": 1,
   "id": "1ebb028a",
   "metadata": {},
   "outputs": [],
   "source": [
    "import os\n",
    "import librosa\n",
    "import pickle\n",
    "import numpy as np\n",
    "import pandas as pd\n",
    "import matplotlib.pyplot as plt\n",
    "import seaborn as sns\n",
    "from tqdm import tqdm\n",
    "from python_speech_features import mfcc\n",
    "from sklearn.preprocessing import LabelEncoder, OneHotEncoder\n",
    "from sklearn.model_selection import train_test_split\n",
    "from sklearn.metrics import confusion_matrix\n",
    "\n",
    "from imblearn.over_sampling import SMOTE\n",
    "from keras.layers import Conv2D, MaxPool2D, Flatten, Dense, Dropout\n",
    "from keras.models import Sequential"
   ]
  },
  {
   "cell_type": "code",
   "execution_count": 2,
   "id": "74b3cf7e",
   "metadata": {},
   "outputs": [
    {
     "data": {
      "text/html": [
       "<div>\n",
       "<style scoped>\n",
       "    .dataframe tbody tr th:only-of-type {\n",
       "        vertical-align: middle;\n",
       "    }\n",
       "\n",
       "    .dataframe tbody tr th {\n",
       "        vertical-align: top;\n",
       "    }\n",
       "\n",
       "    .dataframe thead th {\n",
       "        text-align: right;\n",
       "    }\n",
       "</style>\n",
       "<table border=\"1\" class=\"dataframe\">\n",
       "  <thead>\n",
       "    <tr style=\"text-align: right;\">\n",
       "      <th></th>\n",
       "      <th>fname</th>\n",
       "      <th>label</th>\n",
       "    </tr>\n",
       "  </thead>\n",
       "  <tbody>\n",
       "    <tr>\n",
       "      <th>0</th>\n",
       "      <td>0001-1.wav</td>\n",
       "      <td>wheezing</td>\n",
       "    </tr>\n",
       "    <tr>\n",
       "      <th>1</th>\n",
       "      <td>0411-2.wav</td>\n",
       "      <td>wheezing</td>\n",
       "    </tr>\n",
       "    <tr>\n",
       "      <th>2</th>\n",
       "      <td>0538-4.wav</td>\n",
       "      <td>wheezing</td>\n",
       "    </tr>\n",
       "    <tr>\n",
       "      <th>3</th>\n",
       "      <td>0581-2.wav</td>\n",
       "      <td>wheezing</td>\n",
       "    </tr>\n",
       "    <tr>\n",
       "      <th>4</th>\n",
       "      <td>0597-4.wav</td>\n",
       "      <td>wheezing</td>\n",
       "    </tr>\n",
       "  </tbody>\n",
       "</table>\n",
       "</div>"
      ],
      "text/plain": [
       "        fname     label\n",
       "0  0001-1.wav  wheezing\n",
       "1  0411-2.wav  wheezing\n",
       "2  0538-4.wav  wheezing\n",
       "3  0581-2.wav  wheezing\n",
       "4  0597-4.wav  wheezing"
      ]
     },
     "execution_count": 2,
     "metadata": {},
     "output_type": "execute_result"
    }
   ],
   "source": [
    "df = pd.read_csv('data/data1.csv')\n",
    "df.head()"
   ]
  },
  {
   "cell_type": "code",
   "execution_count": 3,
   "id": "09942010",
   "metadata": {},
   "outputs": [],
   "source": [
    "df = df[df['label'].isin(['wheezing','healthy'])]"
   ]
  },
  {
   "cell_type": "code",
   "execution_count": 4,
   "id": "8477e0bb",
   "metadata": {
    "scrolled": true
   },
   "outputs": [
    {
     "name": "stderr",
     "output_type": "stream",
     "text": [
      "100%|██████████| 263/263 [00:59<00:00,  4.40it/s]\n",
      "<ipython-input-4-bd871a4eab45>:5: VisibleDeprecationWarning: Creating an ndarray from ragged nested sequences (which is a list-or-tuple of lists-or-tuples-or ndarrays with different lengths or shapes) is deprecated. If you meant to do this, you must specify 'dtype=object' when creating the ndarray\n",
      "  audio_data = np.array(audio_data)\n"
     ]
    }
   ],
   "source": [
    "path = 'data/all_data/'\n",
    "audio_data = list()\n",
    "for i in tqdm(range(df.shape[0])):\n",
    "    audio_data.append(librosa.load(path+df['fname'].iloc[i]))\n",
    "audio_data = np.array(audio_data)"
   ]
  },
  {
   "cell_type": "code",
   "execution_count": 5,
   "id": "1ac7a2ee",
   "metadata": {},
   "outputs": [
    {
     "data": {
      "text/html": [
       "<div>\n",
       "<style scoped>\n",
       "    .dataframe tbody tr th:only-of-type {\n",
       "        vertical-align: middle;\n",
       "    }\n",
       "\n",
       "    .dataframe tbody tr th {\n",
       "        vertical-align: top;\n",
       "    }\n",
       "\n",
       "    .dataframe thead th {\n",
       "        text-align: right;\n",
       "    }\n",
       "</style>\n",
       "<table border=\"1\" class=\"dataframe\">\n",
       "  <thead>\n",
       "    <tr style=\"text-align: right;\">\n",
       "      <th></th>\n",
       "      <th>fname</th>\n",
       "      <th>label</th>\n",
       "      <th>audio_waves</th>\n",
       "      <th>samplerate</th>\n",
       "    </tr>\n",
       "  </thead>\n",
       "  <tbody>\n",
       "    <tr>\n",
       "      <th>0</th>\n",
       "      <td>0001-1.wav</td>\n",
       "      <td>wheezing</td>\n",
       "      <td>[-1.960364e-06, -1.6989543e-06, 2.2033912e-06,...</td>\n",
       "      <td>22050</td>\n",
       "    </tr>\n",
       "    <tr>\n",
       "      <th>1</th>\n",
       "      <td>0411-2.wav</td>\n",
       "      <td>wheezing</td>\n",
       "      <td>[0.0079015065, 0.010698691, 0.0077624833, 0.00...</td>\n",
       "      <td>22050</td>\n",
       "    </tr>\n",
       "    <tr>\n",
       "      <th>2</th>\n",
       "      <td>0538-4.wav</td>\n",
       "      <td>wheezing</td>\n",
       "      <td>[0.017012855, 0.026953325, 0.025314119, 0.0284...</td>\n",
       "      <td>22050</td>\n",
       "    </tr>\n",
       "    <tr>\n",
       "      <th>3</th>\n",
       "      <td>0581-2.wav</td>\n",
       "      <td>wheezing</td>\n",
       "      <td>[0.020541016, 0.030520504, 0.02603743, 0.02776...</td>\n",
       "      <td>22050</td>\n",
       "    </tr>\n",
       "    <tr>\n",
       "      <th>4</th>\n",
       "      <td>0597-4.wav</td>\n",
       "      <td>wheezing</td>\n",
       "      <td>[-0.013913074, -0.0219503, -0.020427886, -0.02...</td>\n",
       "      <td>22050</td>\n",
       "    </tr>\n",
       "  </tbody>\n",
       "</table>\n",
       "</div>"
      ],
      "text/plain": [
       "        fname     label                                        audio_waves  \\\n",
       "0  0001-1.wav  wheezing  [-1.960364e-06, -1.6989543e-06, 2.2033912e-06,...   \n",
       "1  0411-2.wav  wheezing  [0.0079015065, 0.010698691, 0.0077624833, 0.00...   \n",
       "2  0538-4.wav  wheezing  [0.017012855, 0.026953325, 0.025314119, 0.0284...   \n",
       "3  0581-2.wav  wheezing  [0.020541016, 0.030520504, 0.02603743, 0.02776...   \n",
       "4  0597-4.wav  wheezing  [-0.013913074, -0.0219503, -0.020427886, -0.02...   \n",
       "\n",
       "  samplerate  \n",
       "0      22050  \n",
       "1      22050  \n",
       "2      22050  \n",
       "3      22050  \n",
       "4      22050  "
      ]
     },
     "execution_count": 5,
     "metadata": {},
     "output_type": "execute_result"
    }
   ],
   "source": [
    "df['audio_waves'] = audio_data[:,0]\n",
    "df['samplerate'] = audio_data[:,1]\n",
    "df.head()"
   ]
  },
  {
   "cell_type": "code",
   "execution_count": 6,
   "id": "5e145baa",
   "metadata": {},
   "outputs": [
    {
     "data": {
      "text/html": [
       "<div>\n",
       "<style scoped>\n",
       "    .dataframe tbody tr th:only-of-type {\n",
       "        vertical-align: middle;\n",
       "    }\n",
       "\n",
       "    .dataframe tbody tr th {\n",
       "        vertical-align: top;\n",
       "    }\n",
       "\n",
       "    .dataframe thead th {\n",
       "        text-align: right;\n",
       "    }\n",
       "</style>\n",
       "<table border=\"1\" class=\"dataframe\">\n",
       "  <thead>\n",
       "    <tr style=\"text-align: right;\">\n",
       "      <th></th>\n",
       "      <th>fname</th>\n",
       "      <th>label</th>\n",
       "      <th>audio_waves</th>\n",
       "      <th>samplerate</th>\n",
       "      <th>bit_lengths</th>\n",
       "      <th>second_lengths</th>\n",
       "    </tr>\n",
       "  </thead>\n",
       "  <tbody>\n",
       "    <tr>\n",
       "      <th>0</th>\n",
       "      <td>0001-1.wav</td>\n",
       "      <td>wheezing</td>\n",
       "      <td>[-1.960364e-06, -1.6989543e-06, 2.2033912e-06,...</td>\n",
       "      <td>22050</td>\n",
       "      <td>198648</td>\n",
       "      <td>9.00898</td>\n",
       "    </tr>\n",
       "    <tr>\n",
       "      <th>1</th>\n",
       "      <td>0411-2.wav</td>\n",
       "      <td>wheezing</td>\n",
       "      <td>[0.0079015065, 0.010698691, 0.0077624833, 0.00...</td>\n",
       "      <td>22050</td>\n",
       "      <td>158919</td>\n",
       "      <td>7.207211</td>\n",
       "    </tr>\n",
       "    <tr>\n",
       "      <th>2</th>\n",
       "      <td>0538-4.wav</td>\n",
       "      <td>wheezing</td>\n",
       "      <td>[0.017012855, 0.026953325, 0.025314119, 0.0284...</td>\n",
       "      <td>22050</td>\n",
       "      <td>129490</td>\n",
       "      <td>5.872562</td>\n",
       "    </tr>\n",
       "    <tr>\n",
       "      <th>3</th>\n",
       "      <td>0581-2.wav</td>\n",
       "      <td>wheezing</td>\n",
       "      <td>[0.020541016, 0.030520504, 0.02603743, 0.02776...</td>\n",
       "      <td>22050</td>\n",
       "      <td>164805</td>\n",
       "      <td>7.47415</td>\n",
       "    </tr>\n",
       "    <tr>\n",
       "      <th>4</th>\n",
       "      <td>0597-4.wav</td>\n",
       "      <td>wheezing</td>\n",
       "      <td>[-0.013913074, -0.0219503, -0.020427886, -0.02...</td>\n",
       "      <td>22050</td>\n",
       "      <td>444384</td>\n",
       "      <td>20.153469</td>\n",
       "    </tr>\n",
       "  </tbody>\n",
       "</table>\n",
       "</div>"
      ],
      "text/plain": [
       "        fname     label                                        audio_waves  \\\n",
       "0  0001-1.wav  wheezing  [-1.960364e-06, -1.6989543e-06, 2.2033912e-06,...   \n",
       "1  0411-2.wav  wheezing  [0.0079015065, 0.010698691, 0.0077624833, 0.00...   \n",
       "2  0538-4.wav  wheezing  [0.017012855, 0.026953325, 0.025314119, 0.0284...   \n",
       "3  0581-2.wav  wheezing  [0.020541016, 0.030520504, 0.02603743, 0.02776...   \n",
       "4  0597-4.wav  wheezing  [-0.013913074, -0.0219503, -0.020427886, -0.02...   \n",
       "\n",
       "  samplerate  bit_lengths second_lengths  \n",
       "0      22050       198648        9.00898  \n",
       "1      22050       158919       7.207211  \n",
       "2      22050       129490       5.872562  \n",
       "3      22050       164805        7.47415  \n",
       "4      22050       444384      20.153469  "
      ]
     },
     "execution_count": 6,
     "metadata": {},
     "output_type": "execute_result"
    }
   ],
   "source": [
    "bit_lengths = list()\n",
    "for i in range(df.shape[0]):\n",
    "    bit_lengths.append(len(df['audio_waves'].iloc[i]))\n",
    "bit_lengths = np.array(bit_lengths)\n",
    "df['bit_lengths'] = bit_lengths\n",
    "df['second_lengths'] = df['bit_lengths']/df['samplerate']\n",
    "df.head()"
   ]
  },
  {
   "cell_type": "code",
   "execution_count": 7,
   "id": "4e49f12d",
   "metadata": {},
   "outputs": [],
   "source": [
    "df = df[df['second_lengths'] >= 2.0]"
   ]
  },
  {
   "cell_type": "code",
   "execution_count": 8,
   "id": "fcaf909b",
   "metadata": {},
   "outputs": [
    {
     "name": "stdout",
     "output_type": "stream",
     "text": [
      "48113\n",
      "2.1819954648526076\n"
     ]
    }
   ],
   "source": [
    "min_bits = np.min(df['bit_lengths'])\n",
    "print(min_bits)\n",
    "min_seconds = np.min(df['second_lengths'])\n",
    "print(min_seconds)"
   ]
  },
  {
   "cell_type": "code",
   "execution_count": 9,
   "id": "4dc8664e",
   "metadata": {},
   "outputs": [],
   "source": [
    "with open('audio_df.pickle', 'wb') as f:\n",
    "    pickle.dump(df, f)"
   ]
  },
  {
   "cell_type": "code",
   "execution_count": 10,
   "id": "cf9e45f2",
   "metadata": {},
   "outputs": [],
   "source": [
    "with open('audio_df.pickle', 'rb') as f:\n",
    "    df = pickle.load(f)"
   ]
  },
  {
   "cell_type": "code",
   "execution_count": 11,
   "id": "75805f0d",
   "metadata": {},
   "outputs": [
    {
     "name": "stderr",
     "output_type": "stream",
     "text": [
      "100%|██████████| 6000/6000 [00:05<00:00, 1007.14it/s]\n"
     ]
    }
   ],
   "source": [
    "num_samples = 6000\n",
    "generated_audio_waves = list()\n",
    "generated_audio_labels = list()\n",
    "for i in tqdm(range(num_samples)):\n",
    "    try:\n",
    "        chosen_file = np.random.choice(df['fname'].values)\n",
    "        chosen_initial = np.random.choice(np.arange(0,df[df['fname']==chosen_file]['bit_lengths'].values-min_bits))\n",
    "        generated_audio_waves.append(df[df['fname']==chosen_file]['audio_waves'].values[0][chosen_initial:chosen_initial+min_bits])\n",
    "        \n",
    "        generated_audio_labels.append(df[df['fname']==chosen_file]['label'].values)\n",
    "    except ValueError:\n",
    "        continue\n",
    "generated_audio_waves = np.array(generated_audio_waves)\n",
    "generated_audio_labels = np.array(generated_audio_labels)"
   ]
  },
  {
   "cell_type": "code",
   "execution_count": 12,
   "id": "0ae55563",
   "metadata": {},
   "outputs": [
    {
     "name": "stderr",
     "output_type": "stream",
     "text": [
      "100%|██████████| 5986/5986 [00:41<00:00, 145.13it/s]\n"
     ]
    }
   ],
   "source": [
    "mfcc_features = list()\n",
    "for i in tqdm(range(len(generated_audio_waves))):\n",
    "    mfcc_features.append(mfcc(generated_audio_waves[i]))\n",
    "mfcc_features = np.array(mfcc_features)"
   ]
  },
  {
   "cell_type": "code",
   "execution_count": 13,
   "id": "09ef8808",
   "metadata": {},
   "outputs": [
    {
     "name": "stdout",
     "output_type": "stream",
     "text": [
      "(5986, 48113)\n",
      "(5986, 300, 13)\n"
     ]
    }
   ],
   "source": [
    "print(generated_audio_waves.shape)\n",
    "print(mfcc_features.shape)"
   ]
  },
  {
   "cell_type": "code",
   "execution_count": 14,
   "id": "d006c53c",
   "metadata": {},
   "outputs": [
    {
     "data": {
      "image/png": "[encoded data removed]",
      "text/plain": [
       "<Figure size 864x144 with 1 Axes>"
      ]
     },
     "metadata": {
      "needs_background": "light"
     },
     "output_type": "display_data"
    },
    {
     "data": {
      "image/png": "[encoded data removed]",
      "text/plain": [
       "<Figure size 864x144 with 1 Axes>"
      ]
     },
     "metadata": {
      "needs_background": "light"
     },
     "output_type": "display_data"
    }
   ],
   "source": [
    "plt.figure(figsize=(12,2))\n",
    "plt.plot(generated_audio_waves[30])\n",
    "plt.title(generated_audio_labels[30])\n",
    "plt.show()\n",
    "plt.figure(figsize=(12, 2))\n",
    "plt.imshow(mfcc_features[30].T, cmap='hot')\n",
    "plt.title(generated_audio_labels[30])\n",
    "plt.show()"
   ]
  },
  {
   "cell_type": "markdown",
   "id": "e1acc406",
   "metadata": {},
   "source": [
    "### Pre-processing"
   ]
  },
  {
   "cell_type": "code",
   "execution_count": 15,
   "id": "507eec0d",
   "metadata": {},
   "outputs": [
    {
     "name": "stdout",
     "output_type": "stream",
     "text": [
      "[1 0 0 ... 0 1 0]\n"
     ]
    },
    {
     "name": "stderr",
     "output_type": "stream",
     "text": [
      "/home/nextgen/anaconda3/envs/kbs_coin/lib/python3.8/site-packages/sklearn/utils/validation.py:63: DataConversionWarning: A column-vector y was passed when a 1d array was expected. Please change the shape of y to (n_samples, ), for example using ravel().\n",
      "  return f(*args, **kwargs)\n"
     ]
    }
   ],
   "source": [
    "label_encoder = LabelEncoder()\n",
    "label_encoded = label_encoder.fit_transform(generated_audio_labels)\n",
    "print(label_encoded)"
   ]
  },
  {
   "cell_type": "code",
   "execution_count": 16,
   "id": "c4a221b4",
   "metadata": {},
   "outputs": [
    {
     "data": {
      "text/plain": [
       "array([[1],\n",
       "       [0],\n",
       "       [0],\n",
       "       ...,\n",
       "       [0],\n",
       "       [1],\n",
       "       [0]])"
      ]
     },
     "execution_count": 16,
     "metadata": {},
     "output_type": "execute_result"
    }
   ],
   "source": [
    "label_encoded = label_encoded[:, np.newaxis]\n",
    "label_encoded"
   ]
  },
  {
   "cell_type": "code",
   "execution_count": 17,
   "id": "aaefa9f0",
   "metadata": {},
   "outputs": [
    {
     "data": {
      "text/plain": [
       "array([[0., 1.],\n",
       "       [1., 0.],\n",
       "       [1., 0.],\n",
       "       ...,\n",
       "       [1., 0.],\n",
       "       [0., 1.],\n",
       "       [1., 0.]])"
      ]
     },
     "execution_count": 17,
     "metadata": {},
     "output_type": "execute_result"
    }
   ],
   "source": [
    "one_hot_encoder = OneHotEncoder(sparse=False)\n",
    "one_hot_encoded = one_hot_encoder.fit_transform(label_encoded)\n",
    "one_hot_encoded"
   ]
  },
  {
   "cell_type": "code",
   "execution_count": 18,
   "id": "4f8c579e",
   "metadata": {},
   "outputs": [],
   "source": [
    "X = mfcc_features\n",
    "y = one_hot_encoded"
   ]
  },
  {
   "cell_type": "code",
   "execution_count": 19,
   "id": "20c99702",
   "metadata": {},
   "outputs": [],
   "source": [
    "X = (X-X.min())/(X.max()-X.min())\n",
    "X_train, X_test, y_train, y_test = train_test_split(X, y, test_size=0.2)"
   ]
  },
  {
   "cell_type": "code",
   "execution_count": 20,
   "id": "2a9ede81",
   "metadata": {},
   "outputs": [
    {
     "data": {
      "text/plain": [
       "(4788, 2)"
      ]
     },
     "execution_count": 20,
     "metadata": {},
     "output_type": "execute_result"
    }
   ],
   "source": [
    "y_train.shape"
   ]
  },
  {
   "cell_type": "code",
   "execution_count": 21,
   "id": "e6f0d403",
   "metadata": {},
   "outputs": [
    {
     "data": {
      "text/plain": [
       "array([[1., 0.],\n",
       "       [1., 0.],\n",
       "       [1., 0.],\n",
       "       [1., 0.],\n",
       "       [1., 0.],\n",
       "       [1., 0.],\n",
       "       [1., 0.],\n",
       "       [0., 1.],\n",
       "       [1., 0.],\n",
       "       [0., 1.]])"
      ]
     },
     "execution_count": 21,
     "metadata": {},
     "output_type": "execute_result"
    }
   ],
   "source": [
    "y_train[0:10]"
   ]
  },
  {
   "cell_type": "code",
   "execution_count": 22,
   "id": "630a52cf",
   "metadata": {},
   "outputs": [
    {
     "data": {
      "text/plain": [
       "(4788, 300, 13)"
      ]
     },
     "execution_count": 22,
     "metadata": {},
     "output_type": "execute_result"
    }
   ],
   "source": [
    "X_train.shape"
   ]
  },
  {
   "cell_type": "markdown",
   "id": "703f7713",
   "metadata": {},
   "source": [
    "### SMOTE 적용을 위해 X_train의 3d array를 2d array로 reshape했다."
   ]
  },
  {
   "cell_type": "code",
   "execution_count": 24,
   "id": "d799d5c3",
   "metadata": {},
   "outputs": [],
   "source": [
    "X_train = X_train.reshape(4788, -1)"
   ]
  },
  {
   "cell_type": "code",
   "execution_count": 25,
   "id": "8fde38b9",
   "metadata": {},
   "outputs": [
    {
     "name": "stderr",
     "output_type": "stream",
     "text": [
      "/home/nextgen/anaconda3/envs/kbs_coin/lib/python3.8/site-packages/sklearn/utils/validation.py:70: FutureWarning: Pass classes=[0 1] as keyword args. From version 1.0 (renaming of 0.25) passing these as positional arguments will result in an error\n",
      "  warnings.warn(f\"Pass {args_msg} as keyword args. From version \"\n"
     ]
    }
   ],
   "source": [
    "sm = SMOTE(random_state=42)\n",
    "X_train, y_train = sm.fit_resample(X_train, y_train)"
   ]
  },
  {
   "cell_type": "code",
   "execution_count": 26,
   "id": "c4fb08df",
   "metadata": {},
   "outputs": [
    {
     "data": {
      "text/plain": [
       "(6382, 3900)"
      ]
     },
     "execution_count": 26,
     "metadata": {},
     "output_type": "execute_result"
    }
   ],
   "source": [
    "X_train.shape"
   ]
  },
  {
   "cell_type": "markdown",
   "id": "baa8777b",
   "metadata": {},
   "source": [
    "### SMOTE 적용 후 다시 Input에 넣기 위한 3d array로 되돌려준다."
   ]
  },
  {
   "cell_type": "code",
   "execution_count": 27,
   "id": "bb8ca665",
   "metadata": {},
   "outputs": [],
   "source": [
    "X_train = X_train.reshape(6382, 300, -1)"
   ]
  },
  {
   "cell_type": "code",
   "execution_count": 28,
   "id": "40507ab2",
   "metadata": {},
   "outputs": [
    {
     "data": {
      "text/plain": [
       "(6382, 300, 13)"
      ]
     },
     "execution_count": 28,
     "metadata": {},
     "output_type": "execute_result"
    }
   ],
   "source": [
    "X_train.shape"
   ]
  },
  {
   "cell_type": "code",
   "execution_count": 29,
   "id": "9d649064",
   "metadata": {},
   "outputs": [
    {
     "data": {
      "text/plain": [
       "(6382, 1)"
      ]
     },
     "execution_count": 29,
     "metadata": {},
     "output_type": "execute_result"
    }
   ],
   "source": [
    "y_train.shape"
   ]
  },
  {
   "cell_type": "code",
   "execution_count": 30,
   "id": "fcdf8bc3",
   "metadata": {},
   "outputs": [
    {
     "data": {
      "text/plain": [
       "array([[1., 0.],\n",
       "       [1., 0.],\n",
       "       [1., 0.],\n",
       "       ...,\n",
       "       [0., 1.],\n",
       "       [0., 1.],\n",
       "       [0., 1.]])"
      ]
     },
     "execution_count": 30,
     "metadata": {},
     "output_type": "execute_result"
    }
   ],
   "source": [
    "one_hot_encoder = OneHotEncoder(sparse=False)\n",
    "y_train = one_hot_encoder.fit_transform(y_train)\n",
    "y_train"
   ]
  },
  {
   "cell_type": "code",
   "execution_count": 31,
   "id": "e36f4ac0",
   "metadata": {},
   "outputs": [],
   "source": [
    "input_shape = (X_train.shape[1], X_train.shape[2], 1)"
   ]
  },
  {
   "cell_type": "code",
   "execution_count": 32,
   "id": "e76067e0",
   "metadata": {},
   "outputs": [
    {
     "name": "stdout",
     "output_type": "stream",
     "text": [
      "(6382, 300, 13, 1)\n",
      "(1198, 300, 13, 1)\n"
     ]
    }
   ],
   "source": [
    "X_train = X_train.reshape(X_train.shape[0], X_train.shape[1], X_train.shape[2], 1)\n",
    "print(X_train.shape)\n",
    "X_test = X_test.reshape(X_test.shape[0], X_test.shape[1], X_test.shape[2], 1)\n",
    "print(X_test.shape)"
   ]
  },
  {
   "cell_type": "code",
   "execution_count": 33,
   "id": "3df9ea80",
   "metadata": {},
   "outputs": [],
   "source": [
    "model = Sequential()\n",
    "model.add(Conv2D(32, (3, 3), activation='relu', strides=(1, 1), \n",
    "    padding='same', input_shape=input_shape))\n",
    "model.add(MaxPool2D((2, 2)))\n",
    "model.add(Dropout(0.5))\n",
    "model.add(Flatten())\n",
    "model.add(Dense(64, activation='relu'))\n",
    "model.add(Dropout(0.5))\n",
    "model.add(Dense(2, activation='softmax'))\n",
    "\n",
    "model.compile(loss='binary_crossentropy', \n",
    "     optimizer='adam',\n",
    "     metrics=['acc'])"
   ]
  },
  {
   "cell_type": "code",
   "execution_count": 34,
   "id": "dff99134",
   "metadata": {},
   "outputs": [
    {
     "name": "stdout",
     "output_type": "stream",
     "text": [
      "Model: \"sequential\"\n",
      "_________________________________________________________________\n",
      "Layer (type)                 Output Shape              Param #   \n",
      "=================================================================\n",
      "conv2d (Conv2D)              (None, 300, 13, 32)       320       \n",
      "_________________________________________________________________\n",
      "max_pooling2d (MaxPooling2D) (None, 150, 6, 32)        0         \n",
      "_________________________________________________________________\n",
      "dropout (Dropout)            (None, 150, 6, 32)        0         \n",
      "_________________________________________________________________\n",
      "flatten (Flatten)            (None, 28800)             0         \n",
      "_________________________________________________________________\n",
      "dense (Dense)                (None, 64)                1843264   \n",
      "_________________________________________________________________\n",
      "dropout_1 (Dropout)          (None, 64)                0         \n",
      "_________________________________________________________________\n",
      "dense_1 (Dense)              (None, 2)                 130       \n",
      "=================================================================\n",
      "Total params: 1,843,714\n",
      "Trainable params: 1,843,714\n",
      "Non-trainable params: 0\n",
      "_________________________________________________________________\n"
     ]
    }
   ],
   "source": [
    "model.summary()"
   ]
  },
  {
   "cell_type": "code",
   "execution_count": 35,
   "id": "c8ec489b",
   "metadata": {
    "scrolled": true
   },
   "outputs": [
    {
     "name": "stdout",
     "output_type": "stream",
     "text": [
      "Epoch 1/40\n",
      "200/200 [==============================] - 13s 21ms/step - loss: 0.5103 - acc: 0.7791 - val_loss: 0.3846 - val_acc: 0.8773\n",
      "Epoch 2/40\n",
      "200/200 [==============================] - 4s 19ms/step - loss: 0.3513 - acc: 0.8953 - val_loss: 0.3424 - val_acc: 0.8806\n",
      "Epoch 3/40\n",
      "200/200 [==============================] - 4s 19ms/step - loss: 0.3228 - acc: 0.8979 - val_loss: 0.3471 - val_acc: 0.8831\n",
      "Epoch 4/40\n",
      "200/200 [==============================] - 4s 19ms/step - loss: 0.3187 - acc: 0.8940 - val_loss: 0.3577 - val_acc: 0.8831\n",
      "Epoch 5/40\n",
      "200/200 [==============================] - 4s 19ms/step - loss: 0.3235 - acc: 0.8907 - val_loss: 0.3225 - val_acc: 0.8831\n",
      "Epoch 6/40\n",
      "200/200 [==============================] - 4s 19ms/step - loss: 0.3007 - acc: 0.8991 - val_loss: 0.3480 - val_acc: 0.8856\n",
      "Epoch 7/40\n",
      "200/200 [==============================] - 4s 19ms/step - loss: 0.2851 - acc: 0.9038 - val_loss: 0.3404 - val_acc: 0.8840\n",
      "Epoch 8/40\n",
      "200/200 [==============================] - 4s 20ms/step - loss: 0.2647 - acc: 0.9090 - val_loss: 0.3163 - val_acc: 0.8865\n",
      "Epoch 9/40\n",
      "200/200 [==============================] - 4s 19ms/step - loss: 0.2583 - acc: 0.9146 - val_loss: 0.3291 - val_acc: 0.8873\n",
      "Epoch 10/40\n",
      "200/200 [==============================] - 4s 19ms/step - loss: 0.2613 - acc: 0.9092 - val_loss: 0.3177 - val_acc: 0.8856\n",
      "Epoch 11/40\n",
      "200/200 [==============================] - 4s 19ms/step - loss: 0.2404 - acc: 0.9214 - val_loss: 0.3061 - val_acc: 0.8873\n",
      "Epoch 12/40\n",
      "200/200 [==============================] - 4s 19ms/step - loss: 0.2522 - acc: 0.9171 - val_loss: 0.3356 - val_acc: 0.8856\n",
      "Epoch 13/40\n",
      "200/200 [==============================] - 4s 20ms/step - loss: 0.2483 - acc: 0.9139 - val_loss: 0.3457 - val_acc: 0.8873\n",
      "Epoch 14/40\n",
      "200/200 [==============================] - 4s 20ms/step - loss: 0.2452 - acc: 0.9208 - val_loss: 0.3435 - val_acc: 0.8873\n",
      "Epoch 15/40\n",
      "200/200 [==============================] - 4s 20ms/step - loss: 0.2222 - acc: 0.9262 - val_loss: 0.3384 - val_acc: 0.8881\n",
      "Epoch 16/40\n",
      "200/200 [==============================] - 4s 20ms/step - loss: 0.2422 - acc: 0.9178 - val_loss: 0.3412 - val_acc: 0.8873\n",
      "Epoch 17/40\n",
      "200/200 [==============================] - 4s 20ms/step - loss: 0.2296 - acc: 0.9241 - val_loss: 0.3802 - val_acc: 0.8865\n",
      "Epoch 18/40\n",
      "200/200 [==============================] - 4s 19ms/step - loss: 0.2437 - acc: 0.9093 - val_loss: 0.3392 - val_acc: 0.8765\n",
      "Epoch 19/40\n",
      "200/200 [==============================] - 4s 19ms/step - loss: 0.2370 - acc: 0.9159 - val_loss: 0.3794 - val_acc: 0.8372\n",
      "Epoch 20/40\n",
      "200/200 [==============================] - 4s 20ms/step - loss: 0.2348 - acc: 0.9210 - val_loss: 0.3417 - val_acc: 0.8873\n",
      "Epoch 21/40\n",
      "200/200 [==============================] - 4s 19ms/step - loss: 0.2242 - acc: 0.9215 - val_loss: 0.3322 - val_acc: 0.8873\n",
      "Epoch 22/40\n",
      "200/200 [==============================] - 4s 19ms/step - loss: 0.2224 - acc: 0.9260 - val_loss: 0.3401 - val_acc: 0.8881\n",
      "Epoch 23/40\n",
      "200/200 [==============================] - 4s 19ms/step - loss: 0.2266 - acc: 0.9234 - val_loss: 0.3234 - val_acc: 0.8840\n",
      "Epoch 24/40\n",
      "200/200 [==============================] - 4s 19ms/step - loss: 0.2062 - acc: 0.9290 - val_loss: 0.3357 - val_acc: 0.8881\n",
      "Epoch 25/40\n",
      "200/200 [==============================] - 4s 19ms/step - loss: 0.2026 - acc: 0.9324 - val_loss: 0.3121 - val_acc: 0.8856\n",
      "Epoch 26/40\n",
      "200/200 [==============================] - 4s 20ms/step - loss: 0.2161 - acc: 0.9286 - val_loss: 0.4060 - val_acc: 0.8907\n",
      "Epoch 27/40\n",
      "200/200 [==============================] - 4s 19ms/step - loss: 0.2033 - acc: 0.9283 - val_loss: 0.3853 - val_acc: 0.8881\n",
      "Epoch 28/40\n",
      "200/200 [==============================] - 4s 19ms/step - loss: 0.1978 - acc: 0.9309 - val_loss: 0.3114 - val_acc: 0.8873\n",
      "Epoch 29/40\n",
      "200/200 [==============================] - 4s 19ms/step - loss: 0.2034 - acc: 0.9343 - val_loss: 0.3255 - val_acc: 0.8848\n",
      "Epoch 30/40\n",
      "200/200 [==============================] - 4s 19ms/step - loss: 0.1979 - acc: 0.9318 - val_loss: 0.3257 - val_acc: 0.8840\n",
      "Epoch 31/40\n",
      "200/200 [==============================] - 4s 19ms/step - loss: 0.1894 - acc: 0.9339 - val_loss: 0.3380 - val_acc: 0.8865\n",
      "Epoch 32/40\n",
      "200/200 [==============================] - 4s 19ms/step - loss: 0.1818 - acc: 0.9382 - val_loss: 0.3096 - val_acc: 0.8815\n",
      "Epoch 33/40\n",
      "200/200 [==============================] - 4s 19ms/step - loss: 0.2017 - acc: 0.9283 - val_loss: 0.3161 - val_acc: 0.8873\n",
      "Epoch 34/40\n",
      "200/200 [==============================] - 4s 19ms/step - loss: 0.2037 - acc: 0.9285 - val_loss: 0.3359 - val_acc: 0.8898\n",
      "Epoch 35/40\n",
      "200/200 [==============================] - 4s 19ms/step - loss: 0.1794 - acc: 0.9332 - val_loss: 0.3188 - val_acc: 0.8881\n",
      "Epoch 36/40\n",
      "200/200 [==============================] - 4s 19ms/step - loss: 0.1626 - acc: 0.9440 - val_loss: 0.3580 - val_acc: 0.8664\n",
      "Epoch 37/40\n",
      "200/200 [==============================] - 4s 19ms/step - loss: 0.1738 - acc: 0.9357 - val_loss: 0.3840 - val_acc: 0.8873\n",
      "Epoch 38/40\n",
      "200/200 [==============================] - 4s 19ms/step - loss: 0.1606 - acc: 0.9388 - val_loss: 0.3864 - val_acc: 0.8898\n",
      "Epoch 39/40\n",
      "200/200 [==============================] - 4s 20ms/step - loss: 0.1617 - acc: 0.9412 - val_loss: 0.3367 - val_acc: 0.8856\n",
      "Epoch 40/40\n",
      "200/200 [==============================] - 4s 20ms/step - loss: 0.1789 - acc: 0.9393 - val_loss: 0.3326 - val_acc: 0.8856\n"
     ]
    }
   ],
   "source": [
    "history = model.fit(X_train, y_train, epochs=40, validation_data=(X_test, y_test))"
   ]
  },
  {
   "cell_type": "markdown",
   "id": "2a27ec02",
   "metadata": {},
   "source": [
    "### Visualize"
   ]
  },
  {
   "cell_type": "code",
   "execution_count": 36,
   "id": "3d7f20c7",
   "metadata": {
    "scrolled": true
   },
   "outputs": [
    {
     "name": "stdout",
     "output_type": "stream",
     "text": [
      "loss: 0.17920823395252228\n",
      "val_loss: 0.332589715719223\n"
     ]
    },
    {
     "data": {
      "image/png": "[encoded data removed]",
      "text/plain": [
       "<Figure size 576x576 with 1 Axes>"
      ]
     },
     "metadata": {
      "needs_background": "light"
     },
     "output_type": "display_data"
    },
    {
     "name": "stdout",
     "output_type": "stream",
     "text": [
      "acc: 0.9334064722061157\n",
      "val_acc: 0.8856427669525146\n"
     ]
    },
    {
     "data": {
      "image/png": "[encoded data removed]",
      "text/plain": [
       "<Figure size 576x576 with 1 Axes>"
      ]
     },
     "metadata": {
      "needs_background": "light"
     },
     "output_type": "display_data"
    }
   ],
   "source": [
    "plt.figure(figsize=(8,8))\n",
    "plt.title('Loss Value')\n",
    "plt.plot(history.history['loss'])\n",
    "plt.plot(history.history['val_loss'])\n",
    "plt.legend(['loss', 'val_loss'])\n",
    "print('loss:', history.history['loss'][-1])\n",
    "print('val_loss:', history.history['val_loss'][-1])\n",
    "plt.show()\n",
    "plt.figure(figsize=(8,8))\n",
    "plt.title('Accuracy')\n",
    "plt.plot(history.history['acc'])\n",
    "plt.plot(history.history['val_acc'])\n",
    "plt.legend(['acc', 'val_acc'])\n",
    "print('acc:', history.history['acc'][-1])\n",
    "print('val_acc:', history.history['val_acc'][-1])\n",
    "plt.show()"
   ]
  },
  {
   "cell_type": "markdown",
   "id": "81739f3e",
   "metadata": {},
   "source": [
    "### SMOTE 이전의 Pilot Model보다.. 성능이 안좋아졌다.\n",
    "### 모델좀 바꿔보고 하이퍼파라미터 바꿔보기도 했는데.. 성능이 안좋다.\n",
    "\n",
    "### 크흠.............\n",
    "### 다른 기법을 찾아 적용해 보아야겠다.."
   ]
  }
 ],
 "metadata": {
  "kernelspec": {
   "display_name": "Python 3",
   "language": "python",
   "name": "python3"
  },
  "language_info": {
   "codemirror_mode": {
    "name": "ipython",
    "version": 3
   },
   "file_extension": ".py",
   "mimetype": "text/x-python",
   "name": "python",
   "nbconvert_exporter": "python",
   "pygments_lexer": "ipython3",
   "version": "3.8.5"
  }
 },
 "nbformat": 4,
 "nbformat_minor": 5
}
