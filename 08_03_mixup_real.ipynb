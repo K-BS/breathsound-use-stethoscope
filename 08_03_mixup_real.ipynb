{
 "cells": [
  {
   "cell_type": "code",
   "execution_count": 1,
   "id": "4a6d2021",
   "metadata": {},
   "outputs": [
    {
     "data": {
      "text/html": [
       "<div>\n",
       "<style scoped>\n",
       "    .dataframe tbody tr th:only-of-type {\n",
       "        vertical-align: middle;\n",
       "    }\n",
       "\n",
       "    .dataframe tbody tr th {\n",
       "        vertical-align: top;\n",
       "    }\n",
       "\n",
       "    .dataframe thead th {\n",
       "        text-align: right;\n",
       "    }\n",
       "</style>\n",
       "<table border=\"1\" class=\"dataframe\">\n",
       "  <thead>\n",
       "    <tr style=\"text-align: right;\">\n",
       "      <th></th>\n",
       "      <th>filename</th>\n",
       "      <th>category</th>\n",
       "      <th>class</th>\n",
       "    </tr>\n",
       "  </thead>\n",
       "  <tbody>\n",
       "    <tr>\n",
       "      <th>0</th>\n",
       "      <td>0001-1.wav</td>\n",
       "      <td>wheezing</td>\n",
       "      <td>1</td>\n",
       "    </tr>\n",
       "    <tr>\n",
       "      <th>1</th>\n",
       "      <td>0001-2.wav</td>\n",
       "      <td>healthy</td>\n",
       "      <td>0</td>\n",
       "    </tr>\n",
       "    <tr>\n",
       "      <th>2</th>\n",
       "      <td>0001-3.wav</td>\n",
       "      <td>wheezing</td>\n",
       "      <td>1</td>\n",
       "    </tr>\n",
       "    <tr>\n",
       "      <th>3</th>\n",
       "      <td>0001-4.wav</td>\n",
       "      <td>wheezing</td>\n",
       "      <td>1</td>\n",
       "    </tr>\n",
       "    <tr>\n",
       "      <th>4</th>\n",
       "      <td>0002-1.wav</td>\n",
       "      <td>healthy</td>\n",
       "      <td>0</td>\n",
       "    </tr>\n",
       "    <tr>\n",
       "      <th>...</th>\n",
       "      <td>...</td>\n",
       "      <td>...</td>\n",
       "      <td>...</td>\n",
       "    </tr>\n",
       "    <tr>\n",
       "      <th>1465</th>\n",
       "      <td>minus_0614-3.wav</td>\n",
       "      <td>wheezing</td>\n",
       "      <td>1</td>\n",
       "    </tr>\n",
       "    <tr>\n",
       "      <th>1466</th>\n",
       "      <td>minus_0614-4.wav</td>\n",
       "      <td>wheezing</td>\n",
       "      <td>1</td>\n",
       "    </tr>\n",
       "    <tr>\n",
       "      <th>1467</th>\n",
       "      <td>minus_0615-1.wav</td>\n",
       "      <td>wheezing</td>\n",
       "      <td>1</td>\n",
       "    </tr>\n",
       "    <tr>\n",
       "      <th>1468</th>\n",
       "      <td>minus_0615-2.wav</td>\n",
       "      <td>wheezing</td>\n",
       "      <td>1</td>\n",
       "    </tr>\n",
       "    <tr>\n",
       "      <th>1469</th>\n",
       "      <td>minus_0615-4.wav</td>\n",
       "      <td>healthy</td>\n",
       "      <td>0</td>\n",
       "    </tr>\n",
       "  </tbody>\n",
       "</table>\n",
       "<p>1470 rows × 3 columns</p>\n",
       "</div>"
      ],
      "text/plain": [
       "              filename  category  class\n",
       "0           0001-1.wav  wheezing      1\n",
       "1           0001-2.wav   healthy      0\n",
       "2           0001-3.wav  wheezing      1\n",
       "3           0001-4.wav  wheezing      1\n",
       "4           0002-1.wav   healthy      0\n",
       "...                ...       ...    ...\n",
       "1465  minus_0614-3.wav  wheezing      1\n",
       "1466  minus_0614-4.wav  wheezing      1\n",
       "1467  minus_0615-1.wav  wheezing      1\n",
       "1468  minus_0615-2.wav  wheezing      1\n",
       "1469  minus_0615-4.wav   healthy      0\n",
       "\n",
       "[1470 rows x 3 columns]"
      ]
     },
     "execution_count": 1,
     "metadata": {},
     "output_type": "execute_result"
    }
   ],
   "source": [
    "import pandas as pd\n",
    "from pathlib import Path\n",
    "Catholic_file = 'breathdata/augment_train.csv'\n",
    "df = pd.read_csv(Catholic_file)\n",
    "df"
   ]
  },
  {
   "cell_type": "code",
   "execution_count": 2,
   "id": "6973e1d1",
   "metadata": {},
   "outputs": [
    {
     "data": {
      "text/html": [
       "<div>\n",
       "<style scoped>\n",
       "    .dataframe tbody tr th:only-of-type {\n",
       "        vertical-align: middle;\n",
       "    }\n",
       "\n",
       "    .dataframe tbody tr th {\n",
       "        vertical-align: top;\n",
       "    }\n",
       "\n",
       "    .dataframe thead th {\n",
       "        text-align: right;\n",
       "    }\n",
       "</style>\n",
       "<table border=\"1\" class=\"dataframe\">\n",
       "  <thead>\n",
       "    <tr style=\"text-align: right;\">\n",
       "      <th></th>\n",
       "      <th>relative_path</th>\n",
       "      <th>class</th>\n",
       "    </tr>\n",
       "  </thead>\n",
       "  <tbody>\n",
       "    <tr>\n",
       "      <th>0</th>\n",
       "      <td>/0001-1.wav</td>\n",
       "      <td>1</td>\n",
       "    </tr>\n",
       "    <tr>\n",
       "      <th>1</th>\n",
       "      <td>/0001-2.wav</td>\n",
       "      <td>0</td>\n",
       "    </tr>\n",
       "    <tr>\n",
       "      <th>2</th>\n",
       "      <td>/0001-3.wav</td>\n",
       "      <td>1</td>\n",
       "    </tr>\n",
       "    <tr>\n",
       "      <th>3</th>\n",
       "      <td>/0001-4.wav</td>\n",
       "      <td>1</td>\n",
       "    </tr>\n",
       "    <tr>\n",
       "      <th>4</th>\n",
       "      <td>/0002-1.wav</td>\n",
       "      <td>0</td>\n",
       "    </tr>\n",
       "  </tbody>\n",
       "</table>\n",
       "</div>"
      ],
      "text/plain": [
       "  relative_path  class\n",
       "0   /0001-1.wav      1\n",
       "1   /0001-2.wav      0\n",
       "2   /0001-3.wav      1\n",
       "3   /0001-4.wav      1\n",
       "4   /0002-1.wav      0"
      ]
     },
     "execution_count": 2,
     "metadata": {},
     "output_type": "execute_result"
    }
   ],
   "source": [
    "df['relative_path'] = '/' + df['filename'].astype(str)\n",
    "df = df[['relative_path', 'class']]\n",
    "df.head()"
   ]
  },
  {
   "cell_type": "code",
   "execution_count": 3,
   "id": "ff09ab55",
   "metadata": {},
   "outputs": [],
   "source": [
    "data_path = 'breathdata/train'"
   ]
  },
  {
   "cell_type": "code",
   "execution_count": 4,
   "id": "0559d46e",
   "metadata": {},
   "outputs": [],
   "source": [
    "import math, random\n",
    "import torch\n",
    "import torchaudio\n",
    "from torchaudio import transforms\n",
    "from IPython.display import Audio\n",
    "\n",
    "class Breath_sound_Util():\n",
    "  \n",
    "  def open(audio_file):\n",
    "    sig, sr = torchaudio.load(audio_file)\n",
    "    sig = torchaudio.functional.gain(sig, gain_db=5.0)\n",
    "    sig = torchaudio.functional.lowpass_biquad(sig, sr, cutoff_freq=3000)\n",
    "    sig = torchaudio.functional.highpass_biquad(sig, sr, cutoff_freq=2000)\n",
    "    \n",
    "    return (sig, sr)\n",
    "\n",
    "  def resample(aud, newsr):\n",
    "    sig, sr = aud\n",
    "    \n",
    "    if (sr == newsr):\n",
    "     return aud\n",
    "\n",
    "    num_channels = sig.shape[0]\n",
    "    resig = torchaudio.transforms.Resample(sr, newsr)(sig[:1,:])\n",
    "    if (num_channels > 1):\n",
    "      retwo = torchaudio.transforms.Resample(sr, newsr)(sig[1:,:])\n",
    "      resig = torch.cat([resig, retwo])\n",
    "\n",
    "    return ((resig, newsr))\n",
    "  \n",
    "\n",
    "  def pad(aud, max_ms):\n",
    "    sig, sr = aud\n",
    "    num_rows, sig_len = sig.shape\n",
    "    max_len = sr//1000 * max_ms\n",
    "   \n",
    "    if (sig_len > max_len):\n",
    "      sig = sig[:,:max_len]\n",
    " \n",
    "    elif (sig_len < max_len):\n",
    "\n",
    "      repeated = []\n",
    "      repeated.append(sig)\n",
    "      required_len = max_len - sig_len\n",
    "\n",
    "      while required_len > sig_len : \n",
    "        repeated.append(sig)\n",
    "        require_len -= sig_len\n",
    "      repeated.append(sig[:, :required_len])\n",
    " \n",
    "      sig = torch.cat(repeated, 1)\n",
    "\n",
    "    return (sig, sr)\n",
    "\n",
    "\n",
    "## 형 여기 time shift도 빼는게 좋지않으까요?? 아 이미 되잇는거니가 2번하게대지??네ㅇㅋ\n",
    "  def spectro_gram(aud, n_mels=64, n_fft=1024, hop_len=None):\n",
    "    sig,sr = aud\n",
    "    top_db = 80\n",
    "    \n",
    "    spec = transforms.MelSpectrogram(sr, n_fft=n_fft, hop_length=hop_len, n_mels=n_mels)(sig)\n",
    "    spec = transforms.AmplitudeToDB(top_db=top_db)(spec)\n",
    "    return (spec)\n",
    "\n",
    "  def spectro_augment(spec, max_mask_pct=0.1, n_freq_masks=1, n_time_masks=1):\n",
    "    _, n_mels, n_steps = spec.shape\n",
    "    mask_value = spec.mean()\n",
    "    aug_spec = spec\n",
    "\n",
    "    freq_mask_param = max_mask_pct * n_mels\n",
    "    for _ in range(n_freq_masks):\n",
    "      aug_spec = transforms.FrequencyMasking(freq_mask_param)(aug_spec, mask_value)\n",
    "\n",
    "    time_mask_param = max_mask_pct * n_steps\n",
    "    for _ in range(n_time_masks):\n",
    "      aug_spec = transforms.TimeMasking(time_mask_param)(aug_spec, mask_value)\n",
    "\n",
    "    return aug_spec\n",
    "    print(aug_spec)"
   ]
  },
  {
   "cell_type": "code",
   "execution_count": 5,
   "id": "3a8c3d6d",
   "metadata": {},
   "outputs": [],
   "source": [
    "from torch.utils.data import DataLoader, Dataset, random_split\n",
    "import torchaudio\n",
    "import torchvision\n",
    "\n",
    "class breathDS(Dataset):\n",
    "    \n",
    "  def __init__(self, df, data_path):\n",
    "    self.df = df\n",
    "    self.data_path = str(data_path)\n",
    "    self.duration = 4000\n",
    "    self.sr = 48000\n",
    "            \n",
    "  def __len__(self):\n",
    "    return len(self.df)    \n",
    "    \n",
    "  def __getitem__(self, idx):\n",
    "    audio_file = self.data_path + self.df.loc[idx, 'relative_path']\n",
    "    class_id = self.df.loc[idx, 'class']\n",
    "    aud = Breath_sound_Util.open(audio_file)\n",
    "    reaud = Breath_sound_Util.resample(aud, self.sr)\n",
    "    dur_aud = Breath_sound_Util.pad(reaud, self.duration)\n",
    "    sgram = Breath_sound_Util.spectro_gram(dur_aud, n_mels=64, n_fft=1024, hop_len=None)\n",
    "    aug_sgram = Breath_sound_Util.spectro_augment(sgram, max_mask_pct=0.1, n_freq_masks=2, n_time_masks=2)\n",
    "\n",
    "    \n",
    "    return aug_sgram, class_id"
   ]
  },
  {
   "cell_type": "code",
   "execution_count": 6,
   "id": "5e2689cc",
   "metadata": {},
   "outputs": [],
   "source": [
    "from torch.utils.data import random_split\n",
    "\n",
    "brds = breathDS(df, data_path)"
   ]
  },
  {
   "cell_type": "code",
   "execution_count": 7,
   "id": "87830c69",
   "metadata": {},
   "outputs": [],
   "source": [
    "train_dl = torch.utils.data.DataLoader(brds, batch_size=32, shuffle=True)"
   ]
  },
  {
   "cell_type": "code",
   "execution_count": 8,
   "id": "efdc6802",
   "metadata": {},
   "outputs": [
    {
     "data": {
      "text/plain": [
       "device(type='cuda', index=0)"
      ]
     },
     "execution_count": 8,
     "metadata": {},
     "output_type": "execute_result"
    }
   ],
   "source": [
    "import torch.nn as nn\n",
    "import torch.nn.functional as F\n",
    "from torch.nn import init\n",
    "\n",
    "# --------------------------------------------------------------\n",
    "# 호흡음의 Healthy, Wheezing을 판단하는 Binary Classification Model\n",
    "# --------------------------------------------------------------\n",
    "\n",
    "class WhoWheezing(nn.Module):\n",
    "\n",
    "    def __init__(self):\n",
    "        super().__init__()\n",
    "        conv_layers = []\n",
    "        self.conv1 = nn.Conv2d(1, 8, kernel_size=(3, 3), stride=(2, 2), padding=(2, 2))\n",
    "        self.relu1 = nn.ReLU()\n",
    "        self.bn1 = nn.BatchNorm2d(8)\n",
    "        init.kaiming_normal_(self.conv1.weight, a=0.2)\n",
    "        self.conv1.bias.data.zero_()\n",
    "        conv_layers += [self.conv1, self.relu1, self.bn1]\n",
    "\n",
    "        self.conv2 = nn.Conv2d(8, 16, kernel_size=(3, 3), stride=(2, 2), padding=(1, 1))\n",
    "        self.relu2 = nn.ReLU()\n",
    "        self.bn2 = nn.BatchNorm2d(16)\n",
    "        init.kaiming_normal_(self.conv1.weight, a=0.2)\n",
    "        self.conv2.bias.data.zero_()\n",
    "        conv_layers += [self.conv2, self.relu2, self.bn2]\n",
    "\n",
    "        self.conv3 = nn.Conv2d(16, 32, kernel_size=(3, 3), stride=(2, 2), padding=(1, 1))\n",
    "        self.relu3 = nn.ReLU()\n",
    "        self.bn3 = nn.BatchNorm2d(32)\n",
    "        init.kaiming_normal_(self.conv1.weight, a=0.2)\n",
    "        self.conv3.bias.data.zero_()\n",
    "        conv_layers += [self.conv3, self.relu3, self.bn3]\n",
    "\n",
    "        self.conv4 = nn.Conv2d(32, 64, kernel_size=(3, 3), stride=(2, 2), padding=(1, 1))\n",
    "        self.relu4 = nn.ReLU()\n",
    "        self.bn4 = nn.BatchNorm2d(64)\n",
    "        init.kaiming_normal_(self.conv1.weight, a=0.2)\n",
    "        self.conv4.bias.data.zero_()\n",
    "        conv_layers += [self.conv4, self.relu4, self.bn4]\n",
    "\n",
    "        self.ap = nn.AdaptiveAvgPool2d(output_size=1)\n",
    "        self.lin = nn.Linear(in_features=64, out_features=2)\n",
    "        self.sigmoid = nn.Sigmoid()\n",
    "\n",
    "        self.conv = nn.Sequential(*conv_layers)\n",
    " \n",
    "    def forward(self, x):\n",
    "        x = self.conv(x)\n",
    "        x = self.ap(x)\n",
    "        x = x.view(x.shape[0], -1)\n",
    "        x = self.lin(x)\n",
    "        x = self.sigmoid(x)\n",
    "        return x\n",
    "\n",
    "Model1 = WhoWheezing()\n",
    "device = torch.device(\"cuda\" if torch.cuda.is_available() else \"cpu\")\n",
    "Model1 = Model1.to(device)\n",
    "next(Model1.parameters()).device"
   ]
  },
  {
   "cell_type": "code",
   "execution_count": 9,
   "id": "fdd0136d",
   "metadata": {},
   "outputs": [],
   "source": [
    "from torch.autograd import Variable"
   ]
  },
  {
   "cell_type": "code",
   "execution_count": null,
   "id": "d3b7199b",
   "metadata": {},
   "outputs": [
    {
     "name": "stderr",
     "output_type": "stream",
     "text": [
      "  1%|          | 1/100 [00:34<57:10, 34.65s/it]"
     ]
    },
    {
     "name": "stdout",
     "output_type": "stream",
     "text": [
      "Epoch: 0, Loss: 0.6546, Accuracy: 0.6204\n"
     ]
    },
    {
     "name": "stderr",
     "output_type": "stream",
     "text": [
      "\r",
      "  2%|▏         | 2/100 [01:09<56:39, 34.69s/it]"
     ]
    },
    {
     "name": "stdout",
     "output_type": "stream",
     "text": [
      "Epoch: 1, Loss: 0.6130, Accuracy: 0.7082\n"
     ]
    },
    {
     "name": "stderr",
     "output_type": "stream",
     "text": [
      "\r",
      "  3%|▎         | 3/100 [01:44<56:04, 34.69s/it]"
     ]
    },
    {
     "name": "stdout",
     "output_type": "stream",
     "text": [
      "Epoch: 2, Loss: 0.6001, Accuracy: 0.7068\n"
     ]
    },
    {
     "name": "stderr",
     "output_type": "stream",
     "text": [
      "\r",
      "  4%|▍         | 4/100 [02:18<55:16, 34.54s/it]"
     ]
    },
    {
     "name": "stdout",
     "output_type": "stream",
     "text": [
      "Epoch: 3, Loss: 0.5569, Accuracy: 0.7517\n"
     ]
    },
    {
     "name": "stderr",
     "output_type": "stream",
     "text": [
      "\r",
      "  5%|▌         | 5/100 [02:52<54:29, 34.41s/it]"
     ]
    },
    {
     "name": "stdout",
     "output_type": "stream",
     "text": [
      "Epoch: 4, Loss: 0.5657, Accuracy: 0.7340\n"
     ]
    },
    {
     "name": "stderr",
     "output_type": "stream",
     "text": [
      "\r",
      "  6%|▌         | 6/100 [03:27<54:03, 34.50s/it]"
     ]
    },
    {
     "name": "stdout",
     "output_type": "stream",
     "text": [
      "Epoch: 5, Loss: 0.5791, Accuracy: 0.7116\n"
     ]
    },
    {
     "name": "stderr",
     "output_type": "stream",
     "text": [
      "\r",
      "  7%|▋         | 7/100 [04:01<53:33, 34.55s/it]"
     ]
    },
    {
     "name": "stdout",
     "output_type": "stream",
     "text": [
      "Epoch: 6, Loss: 0.5363, Accuracy: 0.7707\n"
     ]
    },
    {
     "name": "stderr",
     "output_type": "stream",
     "text": [
      "\r",
      "  8%|▊         | 8/100 [04:36<52:54, 34.51s/it]"
     ]
    },
    {
     "name": "stdout",
     "output_type": "stream",
     "text": [
      "Epoch: 7, Loss: 0.5654, Accuracy: 0.7190\n"
     ]
    },
    {
     "name": "stderr",
     "output_type": "stream",
     "text": [
      "\r",
      "  9%|▉         | 9/100 [05:11<52:36, 34.68s/it]"
     ]
    },
    {
     "name": "stdout",
     "output_type": "stream",
     "text": [
      "Epoch: 8, Loss: 0.5732, Accuracy: 0.7197\n"
     ]
    },
    {
     "name": "stderr",
     "output_type": "stream",
     "text": [
      "\r",
      " 10%|█         | 10/100 [05:46<52:07, 34.75s/it]"
     ]
    },
    {
     "name": "stdout",
     "output_type": "stream",
     "text": [
      "Epoch: 9, Loss: 0.5484, Accuracy: 0.7429\n"
     ]
    }
   ],
   "source": [
    "from sklearn.metrics import confusion_matrix\n",
    "import numpy as np\n",
    "import sklearn.metrics as metrics\n",
    "from tqdm import tqdm\n",
    "\n",
    "def mixup_data(x, y, alpha=1.0, use_cuda=True):\n",
    "    '''Returns mixed inputs, pairs of targets, and lambda'''\n",
    "    if alpha > 0:\n",
    "        lam = np.random.beta(alpha, alpha)\n",
    "    else:\n",
    "        lam = 1\n",
    "\n",
    "    batch_size = x.size()[0]\n",
    "    if use_cuda:\n",
    "        index = torch.randperm(batch_size).cuda()\n",
    "    else:\n",
    "        index = torch.randperm(batch_size)\n",
    "\n",
    "    mixed_x = lam * x + (1 - lam) * x[index, :]\n",
    "    y_a, y_b = y, y[index]\n",
    "    return mixed_x, y_a, y_b, lam\n",
    "\n",
    "\n",
    "def mixup_criterion(criterion, pred, y_a, y_b, lam):\n",
    "    return lam * criterion(pred, y_a) + (1 - lam) * criterion(pred, y_b)\n",
    "\n",
    "\n",
    "use_cuda = torch.cuda.is_available()\n",
    "alpha = 1.0\n",
    "\n",
    "\n",
    "def training(model, train_dl, num_epochs):\n",
    "  criterion = nn.CrossEntropyLoss()\n",
    "  optimizer = torch.optim.Adam(model.parameters(),lr=0.01)\n",
    "  scheduler = torch.optim.lr_scheduler.OneCycleLR(optimizer, max_lr=0.01,\n",
    "                                                steps_per_epoch=int(len(train_dl)),\n",
    "                                                epochs=num_epochs,\n",
    "                                                anneal_strategy='linear')\n",
    "\n",
    "  for epoch in tqdm(range(num_epochs)):\n",
    "    running_loss = 0.0\n",
    "    correct_prediction = 0\n",
    "    total_prediction = 0\n",
    "\n",
    "    for i, data in enumerate(train_dl):\n",
    "        inputs, labels = data[0].to(device), data[1].to(device)\n",
    "        inputs_m, inputs_s = inputs.mean(), inputs.std()\n",
    "        inputs = (inputs - inputs_m) / inputs_s\n",
    "        inputs, targets_a, targets_b, lam = mixup_data(inputs, labels,\n",
    "                                                       alpha, use_cuda)\n",
    "        inputs, targets_a, targets_b = map(Variable, (inputs,\n",
    "                                                      targets_a, targets_b))\n",
    "        optimizer.zero_grad()\n",
    "        outputs = model(inputs)\n",
    "        loss = criterion(outputs, labels)\n",
    "        loss.backward()\n",
    "        optimizer.step()\n",
    "        scheduler.step()\n",
    "        running_loss += loss.item()\n",
    "        _, prediction = torch.max(outputs,1)\n",
    "        correct_prediction += (prediction == labels).sum().item()\n",
    "        total_prediction += prediction.shape[0]\n",
    "        \n",
    "\n",
    "    num_batches = len(train_dl)\n",
    "    avg_loss = running_loss / num_batches\n",
    "    acc = correct_prediction/total_prediction\n",
    "    print(f'Epoch: {epoch}, Loss: {avg_loss:.4f}, Accuracy: {acc:.4f}')\n",
    "\n",
    "  print('Finished Training')\n",
    "    \n",
    "num_epochs=100\n",
    "training(Model1, train_dl, num_epochs)"
   ]
  },
  {
   "cell_type": "markdown",
   "id": "7fb3d9c3",
   "metadata": {},
   "source": [
    "## TEST"
   ]
  },
  {
   "cell_type": "code",
   "execution_count": null,
   "id": "27583772",
   "metadata": {},
   "outputs": [],
   "source": [
    "Catholic_file1 = 'breathdata/test.csv'\n",
    "df1 = pd.read_csv(Catholic_file1)\n",
    "df1"
   ]
  },
  {
   "cell_type": "code",
   "execution_count": null,
   "id": "2ee9eafd",
   "metadata": {},
   "outputs": [],
   "source": [
    "df1['relative_path'] = '/' + df1['filename'].astype(str)\n",
    "df1 = df1[['relative_path', 'class']]\n",
    "df1.head()"
   ]
  },
  {
   "cell_type": "code",
   "execution_count": null,
   "id": "5b5e729a",
   "metadata": {},
   "outputs": [],
   "source": [
    "data_path = 'breathdata/test'"
   ]
  },
  {
   "cell_type": "code",
   "execution_count": null,
   "id": "9e62a29c",
   "metadata": {},
   "outputs": [],
   "source": [
    "class Breath_sound_Util1():\n",
    "  \n",
    "  def open(audio_file):\n",
    "    sig, sr = torchaudio.load(audio_file)\n",
    "    \n",
    "    return (sig, sr)\n",
    "\n",
    "  def resample(aud, newsr):\n",
    "    sig, sr = aud\n",
    "    \n",
    "    if (sr == newsr):\n",
    "     return aud\n",
    "\n",
    "    num_channels = sig.shape[0]\n",
    "    resig = torchaudio.transforms.Resample(sr, newsr)(sig[:1,:])\n",
    "    if (num_channels > 1):\n",
    "      retwo = torchaudio.transforms.Resample(sr, newsr)(sig[1:,:])\n",
    "      resig = torch.cat([resig, retwo])\n",
    "\n",
    "    return ((resig, newsr))\n",
    "  \n",
    "\n",
    "  def pad(aud, max_ms):\n",
    "    sig, sr = aud\n",
    "    num_rows, sig_len = sig.shape\n",
    "    max_len = sr//1000 * max_ms\n",
    "   \n",
    "    if (sig_len > max_len):\n",
    "      sig = sig[:,:max_len]\n",
    " \n",
    "    elif (sig_len < max_len):\n",
    "\n",
    "      repeated = []\n",
    "      repeated.append(sig)\n",
    "      required_len = max_len - sig_len\n",
    "\n",
    "      while required_len > sig_len : \n",
    "        repeated.append(sig)\n",
    "        require_len -= sig_len\n",
    "      repeated.append(sig[:, :required_len])\n",
    " \n",
    "      sig = torch.cat(repeated, 1)\n",
    "\n",
    "    return (sig, sr)\n",
    "\n",
    "  def spectro_gram(aud, n_mels=64, n_fft=1024, hop_len=None):\n",
    "    sig,sr = aud\n",
    "    top_db = 80\n",
    "    \n",
    "    spec = transforms.MelSpectrogram(sr, n_fft=n_fft, hop_length=hop_len, n_mels=n_mels)(sig)\n",
    "    spec = transforms.AmplitudeToDB(top_db=top_db)(spec)\n",
    "    return (spec)\n",
    "\n",
    "#이상한애들 타임시프트랑 / 마스크랑 / 이상한애들 다뺌\n"
   ]
  },
  {
   "cell_type": "code",
   "execution_count": null,
   "id": "fd93d20b",
   "metadata": {},
   "outputs": [],
   "source": [
    "class breathDS1(Dataset):\n",
    "    \n",
    "  def __init__(self, df1, data_path):\n",
    "    self.df1 = df1\n",
    "    self.data_path = str(data_path)\n",
    "    self.duration = 4000\n",
    "    self.sr = 48000\n",
    "            \n",
    "  def __len__(self):\n",
    "    return len(self.df1)    \n",
    "    \n",
    "  def __getitem__(self, idx):\n",
    "    audio_file = self.data_path + self.df1.loc[idx, 'relative_path']\n",
    "    class_id = self.df1.loc[idx, 'class']\n",
    "    aud = Breath_sound_Util1.open(audio_file)\n",
    "    reaud = Breath_sound_Util1.resample(aud, self.sr)\n",
    "    dur_aud = Breath_sound_Util1.pad(reaud, self.duration)\n",
    "    sgram = Breath_sound_Util1.spectro_gram(dur_aud, n_mels=64, n_fft=1024, hop_len=None)\n",
    "\n",
    "    \n",
    "    return sgram, class_id"
   ]
  },
  {
   "cell_type": "code",
   "execution_count": null,
   "id": "67d3f30f",
   "metadata": {},
   "outputs": [],
   "source": [
    "brds1 = breathDS1(df1, data_path)"
   ]
  },
  {
   "cell_type": "code",
   "execution_count": null,
   "id": "c8826a22",
   "metadata": {},
   "outputs": [],
   "source": [
    "val_dl = torch.utils.data.DataLoader(brds1, batch_size=32, shuffle=True)"
   ]
  },
  {
   "cell_type": "code",
   "execution_count": null,
   "id": "6f747aae",
   "metadata": {},
   "outputs": [],
   "source": [
    "from sklearn.metrics import accuracy_score, precision_score, recall_score, f1_score, classification_report\n",
    "from sklearn.metrics import roc_curve, roc_auc_score\n",
    "\n",
    "def inference (Model1, val_dl):\n",
    "  correct_prediction = 0\n",
    "  total_prediction = 0\n",
    "  TP = 0 \n",
    "  TN = 0\n",
    "  FN = 0\n",
    "  FP = 0\n",
    "  a = []\n",
    "  b = []\n",
    "  with torch.no_grad():\n",
    "    for i, data in enumerate(val_dl):\n",
    "      \n",
    "      inputs, labels = data[0].to(device), data[1].to(device)\n",
    "      cpu_labels = data[1]\n",
    "      inputs_m, inputs_s = inputs.mean(), inputs.std()\n",
    "      inputs = (inputs - inputs_m) / inputs_s\n",
    "      outputs = Model1(inputs)\n",
    " \n",
    "      _, prediction = torch.max(outputs,1)\n",
    "      \n",
    "      cpu_prediction = prediction.to('cpu')\n",
    "      correct_prediction += (prediction == labels).sum().item()\n",
    "      total_prediction += prediction.shape[0]\n",
    "          \n",
    "\n",
    "      TP += ((prediction == 1) & (labels == 1)).sum()\n",
    "# TN predict and label are both 0\n",
    "      TN += ((prediction == 0) & (labels == 0)).sum()\n",
    "# FN    predict 0 label 1\n",
    "      FN += ((prediction == 0) & (labels == 1)).sum()\n",
    "# FP    predict 1 label 0\n",
    "      FP += ((prediction == 1) & (labels == 0)).sum()\n",
    "\n",
    "      c = cpu_labels.tolist()\n",
    "      a.extend(c)\n",
    "\n",
    "      d = cpu_prediction.tolist()\n",
    "      b.extend(d)\n",
    "    \n",
    "    # TP : 휘징인데 휘징이라고 판단(잘함)\n",
    "    # FP : 헬시인데 휘징이라고 판단(못함)\n",
    "    # TN : 헬시인데 헬시라고 판단(잘함)\n",
    "    # FN : 휘징인데 헬시라고 판단(못함)\n",
    "    \n",
    "    # POSITIVE : 1(휘징)이라고 판단\n",
    "    # NEGATIVE : 0(헬시)라고 판단\n",
    "    # TRUE : 정답값 1(휘징)\n",
    "    # FALSE : 정답값 0(헬시)\n",
    "    \n",
    "    # PRECISION : 휘징이라고 판단한 것 중 진짜 휘징\n",
    "    # RECALL : 휘징인데 휘징이라고 잘 판단\n",
    "    \n",
    "\n",
    "  precision = TP / (TP + FP)\n",
    "  recall = TP / (TP + FN)\n",
    "  F1 = 2 * recall * precision / (recall + precision)\n",
    "\n",
    "  acc = correct_prediction/total_prediction\n",
    "  print(f'Accuracy: {acc:.4f}, Total items: {total_prediction}')\n",
    "  print(f'precision: {precision:.4f}, F1: {F1:.4f}')\n",
    "  print(f'recall: {recall:.4f}')\n",
    "  target_names = ['healthy', 'wheezing']\n",
    "  print(classification_report(a, b, target_names = target_names))\n",
    "  print(\"AUC:{}\".format(roc_auc_score(a, b)))\n",
    "\n",
    "inference(Model1, val_dl)"
   ]
  },
  {
   "cell_type": "code",
   "execution_count": null,
   "id": "317a8585",
   "metadata": {},
   "outputs": [],
   "source": []
  }
 ],
 "metadata": {
  "kernelspec": {
   "display_name": "Python 3",
   "language": "python",
   "name": "python3"
  },
  "language_info": {
   "codemirror_mode": {
    "name": "ipython",
    "version": 3
   },
   "file_extension": ".py",
   "mimetype": "text/x-python",
   "name": "python",
   "nbconvert_exporter": "python",
   "pygments_lexer": "ipython3",
   "version": "3.7.5"
  }
 },
 "nbformat": 4,
 "nbformat_minor": 5
}
